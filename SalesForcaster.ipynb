{
  "nbformat": 4,
  "nbformat_minor": 0,
  "metadata": {
    "colab": {
      "provenance": []
    },
    "kernelspec": {
      "name": "python3",
      "display_name": "Python 3"
    },
    "language_info": {
      "name": "python"
    },
    "widgets": {
      "application/vnd.jupyter.widget-state+json": {
        "405767e9b0d94f0b85c541b7ebcfdfa7": {
          "model_module": "@jupyter-widgets/controls",
          "model_name": "ButtonModel",
          "model_module_version": "2.0.0",
          "state": {
            "_dom_classes": [],
            "_model_module": "@jupyter-widgets/controls",
            "_model_module_version": "2.0.0",
            "_model_name": "ButtonModel",
            "_view_count": null,
            "_view_module": "@jupyter-widgets/controls",
            "_view_module_version": "2.0.0",
            "_view_name": "ButtonView",
            "button_style": "danger",
            "description": "Request a quote",
            "disabled": false,
            "icon": "",
            "layout": "IPY_MODEL_66a76c1fc4954020b185fcfdd465ee6e",
            "style": "IPY_MODEL_ef6883e969a640a5913fd86c79d40801",
            "tabbable": null,
            "tooltip": null
          }
        },
        "66a76c1fc4954020b185fcfdd465ee6e": {
          "model_module": "@jupyter-widgets/base",
          "model_name": "LayoutModel",
          "model_module_version": "2.0.0",
          "state": {
            "_model_module": "@jupyter-widgets/base",
            "_model_module_version": "2.0.0",
            "_model_name": "LayoutModel",
            "_view_count": null,
            "_view_module": "@jupyter-widgets/base",
            "_view_module_version": "2.0.0",
            "_view_name": "LayoutView",
            "align_content": null,
            "align_items": null,
            "align_self": null,
            "border_bottom": null,
            "border_left": null,
            "border_right": null,
            "border_top": null,
            "bottom": null,
            "display": null,
            "flex": null,
            "flex_flow": null,
            "grid_area": null,
            "grid_auto_columns": null,
            "grid_auto_flow": null,
            "grid_auto_rows": null,
            "grid_column": null,
            "grid_gap": null,
            "grid_row": null,
            "grid_template_areas": null,
            "grid_template_columns": null,
            "grid_template_rows": null,
            "height": null,
            "justify_content": null,
            "justify_items": null,
            "left": null,
            "margin": null,
            "max_height": null,
            "max_width": null,
            "min_height": null,
            "min_width": null,
            "object_fit": null,
            "object_position": null,
            "order": null,
            "overflow": null,
            "padding": null,
            "right": null,
            "top": null,
            "visibility": null,
            "width": null
          }
        },
        "ef6883e969a640a5913fd86c79d40801": {
          "model_module": "@jupyter-widgets/controls",
          "model_name": "ButtonStyleModel",
          "model_module_version": "2.0.0",
          "state": {
            "_model_module": "@jupyter-widgets/controls",
            "_model_module_version": "2.0.0",
            "_model_name": "ButtonStyleModel",
            "_view_count": null,
            "_view_module": "@jupyter-widgets/base",
            "_view_module_version": "2.0.0",
            "_view_name": "StyleView",
            "button_color": null,
            "font_family": null,
            "font_size": null,
            "font_style": null,
            "font_variant": null,
            "font_weight": null,
            "text_color": null,
            "text_decoration": null
          }
        }
      }
    }
  },
  "cells": [
    {
      "cell_type": "code",
      "execution_count": null,
      "metadata": {
        "colab": {
          "base_uri": "https://localhost:8080/"
        },
        "id": "rhs7eO81SsL7",
        "outputId": "d958062f-2a07-415b-a280-cf3de3dad3f0"
      },
      "outputs": [
        {
          "output_type": "stream",
          "name": "stdout",
          "text": [
            "\u001b[2K     \u001b[90m━━━━━━━━━━━━━━━━━━━━━━━━━━━━━━━━━━━━━━━━\u001b[0m \u001b[32m152.8/152.8 kB\u001b[0m \u001b[31m1.3 MB/s\u001b[0m eta \u001b[36m0:00:00\u001b[0m\n",
            "\u001b[2K     \u001b[90m━━━━━━━━━━━━━━━━━━━━━━━━━━━━━━━━━━━━━━━━\u001b[0m \u001b[32m98.5/98.5 MB\u001b[0m \u001b[31m6.9 MB/s\u001b[0m eta \u001b[36m0:00:00\u001b[0m\n",
            "\u001b[2K     \u001b[90m━━━━━━━━━━━━━━━━━━━━━━━━━━━━━━━━━━━━━━━━\u001b[0m \u001b[32m12.1/12.1 MB\u001b[0m \u001b[31m49.9 MB/s\u001b[0m eta \u001b[36m0:00:00\u001b[0m\n",
            "\u001b[2K     \u001b[90m━━━━━━━━━━━━━━━━━━━━━━━━━━━━━━━━━━━━━━━━\u001b[0m \u001b[32m3.1/3.1 MB\u001b[0m \u001b[31m32.2 MB/s\u001b[0m eta \u001b[36m0:00:00\u001b[0m\n",
            "\u001b[2K     \u001b[90m━━━━━━━━━━━━━━━━━━━━━━━━━━━━━━━━━━━━━━━━\u001b[0m \u001b[32m1.7/1.7 MB\u001b[0m \u001b[31m24.7 MB/s\u001b[0m eta \u001b[36m0:00:00\u001b[0m\n",
            "\u001b[2K     \u001b[90m━━━━━━━━━━━━━━━━━━━━━━━━━━━━━━━━━━━━━━━━\u001b[0m \u001b[32m108.3/108.3 kB\u001b[0m \u001b[31m2.1 MB/s\u001b[0m eta \u001b[36m0:00:00\u001b[0m\n",
            "\u001b[?25h  Preparing metadata (setup.py) ... \u001b[?25l\u001b[?25hdone\n",
            "\u001b[2K     \u001b[90m━━━━━━━━━━━━━━━━━━━━━━━━━━━━━━━━━━━━━━━━\u001b[0m \u001b[32m139.4/139.4 kB\u001b[0m \u001b[31m7.2 MB/s\u001b[0m eta \u001b[36m0:00:00\u001b[0m\n",
            "\u001b[2K     \u001b[90m━━━━━━━━━━━━━━━━━━━━━━━━━━━━━━━━━━━━━━━━\u001b[0m \u001b[32m432.3/432.3 kB\u001b[0m \u001b[31m8.8 MB/s\u001b[0m eta \u001b[36m0:00:00\u001b[0m\n",
            "\u001b[2K     \u001b[90m━━━━━━━━━━━━━━━━━━━━━━━━━━━━━━━━━━━━━━━━\u001b[0m \u001b[32m109.4/109.4 kB\u001b[0m \u001b[31m7.9 MB/s\u001b[0m eta \u001b[36m0:00:00\u001b[0m\n",
            "\u001b[2K     \u001b[90m━━━━━━━━━━━━━━━━━━━━━━━━━━━━━━━━━━━━━━━━\u001b[0m \u001b[32m286.1/286.1 kB\u001b[0m \u001b[31m21.6 MB/s\u001b[0m eta \u001b[36m0:00:00\u001b[0m\n",
            "\u001b[2K     \u001b[90m━━━━━━━━━━━━━━━━━━━━━━━━━━━━━━━━━━━━━━━━\u001b[0m \u001b[32m2.8/2.8 MB\u001b[0m \u001b[31m36.6 MB/s\u001b[0m eta \u001b[36m0:00:00\u001b[0m\n",
            "\u001b[2K     \u001b[90m━━━━━━━━━━━━━━━━━━━━━━━━━━━━━━━━━━━━━━━━\u001b[0m \u001b[32m913.9/913.9 kB\u001b[0m \u001b[31m46.1 MB/s\u001b[0m eta \u001b[36m0:00:00\u001b[0m\n",
            "\u001b[?25h  Preparing metadata (setup.py) ... \u001b[?25l\u001b[?25hdone\n",
            "\u001b[2K     \u001b[90m━━━━━━━━━━━━━━━━━━━━━━━━━━━━━━━━━━━━━━━━\u001b[0m \u001b[32m1.9/1.9 MB\u001b[0m \u001b[31m36.5 MB/s\u001b[0m eta \u001b[36m0:00:00\u001b[0m\n",
            "\u001b[2K     \u001b[90m━━━━━━━━━━━━━━━━━━━━━━━━━━━━━━━━━━━━━━━━\u001b[0m \u001b[32m2.3/2.3 MB\u001b[0m \u001b[31m38.3 MB/s\u001b[0m eta \u001b[36m0:00:00\u001b[0m\n",
            "\u001b[2K     \u001b[90m━━━━━━━━━━━━━━━━━━━━━━━━━━━━━━━━━━━━━━━━\u001b[0m \u001b[32m1.6/1.6 MB\u001b[0m \u001b[31m64.5 MB/s\u001b[0m eta \u001b[36m0:00:00\u001b[0m\n",
            "\u001b[2K     \u001b[90m━━━━━━━━━━━━━━━━━━━━━━━━━━━━━━━━━━━━━━━━\u001b[0m \u001b[32m105.0/105.0 kB\u001b[0m \u001b[31m5.0 MB/s\u001b[0m eta \u001b[36m0:00:00\u001b[0m\n",
            "\u001b[2K     \u001b[90m━━━━━━━━━━━━━━━━━━━━━━━━━━━━━━━━━━━━━━━━\u001b[0m \u001b[32m46.2/46.2 kB\u001b[0m \u001b[31m3.0 MB/s\u001b[0m eta \u001b[36m0:00:00\u001b[0m\n",
            "\u001b[2K     \u001b[90m━━━━━━━━━━━━━━━━━━━━━━━━━━━━━━━━━━━━━━━━\u001b[0m \u001b[32m194.6/194.6 kB\u001b[0m \u001b[31m15.5 MB/s\u001b[0m eta \u001b[36m0:00:00\u001b[0m\n",
            "\u001b[2K     \u001b[90m━━━━━━━━━━━━━━━━━━━━━━━━━━━━━━━━━━━━━━━━\u001b[0m \u001b[32m58.1/58.1 kB\u001b[0m \u001b[31m2.8 MB/s\u001b[0m eta \u001b[36m0:00:00\u001b[0m\n",
            "\u001b[?25h  Building wheel for xhtml2pdf (setup.py) ... \u001b[?25l\u001b[?25hdone\n",
            "  Building wheel for svglib (setup.py) ... \u001b[?25l\u001b[?25hdone\n"
          ]
        }
      ],
      "source": [
        "# prompt: %pip install -Uq upgini catboost\n",
        "\n",
        "!pip install -Uq upgini catboost\n"
      ]
    },
    {
      "cell_type": "code",
      "source": [
        "from posixpath import defpath\n",
        "from os.path import exists\n",
        "import pandas as pd\n",
        "\n",
        "dfpath = \"train.csv.zip\" if exists(\"train.csv.zip\") else \"https://github.com/upgini/upgini/raw/main/notebooks/train.csv.zip\"\n",
        "dataFrame = pd.read_csv(dfpath)\n",
        "dataFrame = dataFrame.sample(n=19_000, random_state = 0)\n",
        "dataFrame[\"store\"] = dataFrame[\"store\"].astype(str)\n",
        "dataFrame[\"item\"] = dataFrame[\"item\"].astype(str)\n",
        "\n",
        "dataFrame[\"date\"] = pd.to_datetime(dataFrame[\"date\"])\n",
        "dataFrame.sort_values(\"date\", inplace = True)\n",
        "dataFrame.head()\n"
      ],
      "metadata": {
        "colab": {
          "base_uri": "https://localhost:8080/",
          "height": 206
        },
        "id": "6ohZpJJYS-6x",
        "outputId": "e35a1354-0d34-4b0a-8a91-a9346bbda930"
      },
      "execution_count": null,
      "outputs": [
        {
          "output_type": "execute_result",
          "data": {
            "text/plain": [
              "             date store item  sales\n",
              "83996  2013-01-01     7    5      5\n",
              "151558 2013-01-01     4    9     19\n",
              "584320 2013-01-01     1   33     37\n",
              "734052 2013-01-01     3   41     14\n",
              "427284 2013-01-01     5   24     26"
            ],
            "text/html": [
              "\n",
              "  <div id=\"df-3b95ff8a-91eb-4741-b5f9-18e222c6f1a7\" class=\"colab-df-container\">\n",
              "    <div>\n",
              "<style scoped>\n",
              "    .dataframe tbody tr th:only-of-type {\n",
              "        vertical-align: middle;\n",
              "    }\n",
              "\n",
              "    .dataframe tbody tr th {\n",
              "        vertical-align: top;\n",
              "    }\n",
              "\n",
              "    .dataframe thead th {\n",
              "        text-align: right;\n",
              "    }\n",
              "</style>\n",
              "<table border=\"1\" class=\"dataframe\">\n",
              "  <thead>\n",
              "    <tr style=\"text-align: right;\">\n",
              "      <th></th>\n",
              "      <th>date</th>\n",
              "      <th>store</th>\n",
              "      <th>item</th>\n",
              "      <th>sales</th>\n",
              "    </tr>\n",
              "  </thead>\n",
              "  <tbody>\n",
              "    <tr>\n",
              "      <th>83996</th>\n",
              "      <td>2013-01-01</td>\n",
              "      <td>7</td>\n",
              "      <td>5</td>\n",
              "      <td>5</td>\n",
              "    </tr>\n",
              "    <tr>\n",
              "      <th>151558</th>\n",
              "      <td>2013-01-01</td>\n",
              "      <td>4</td>\n",
              "      <td>9</td>\n",
              "      <td>19</td>\n",
              "    </tr>\n",
              "    <tr>\n",
              "      <th>584320</th>\n",
              "      <td>2013-01-01</td>\n",
              "      <td>1</td>\n",
              "      <td>33</td>\n",
              "      <td>37</td>\n",
              "    </tr>\n",
              "    <tr>\n",
              "      <th>734052</th>\n",
              "      <td>2013-01-01</td>\n",
              "      <td>3</td>\n",
              "      <td>41</td>\n",
              "      <td>14</td>\n",
              "    </tr>\n",
              "    <tr>\n",
              "      <th>427284</th>\n",
              "      <td>2013-01-01</td>\n",
              "      <td>5</td>\n",
              "      <td>24</td>\n",
              "      <td>26</td>\n",
              "    </tr>\n",
              "  </tbody>\n",
              "</table>\n",
              "</div>\n",
              "    <div class=\"colab-df-buttons\">\n",
              "\n",
              "  <div class=\"colab-df-container\">\n",
              "    <button class=\"colab-df-convert\" onclick=\"convertToInteractive('df-3b95ff8a-91eb-4741-b5f9-18e222c6f1a7')\"\n",
              "            title=\"Convert this dataframe to an interactive table.\"\n",
              "            style=\"display:none;\">\n",
              "\n",
              "  <svg xmlns=\"http://www.w3.org/2000/svg\" height=\"24px\" viewBox=\"0 -960 960 960\">\n",
              "    <path d=\"M120-120v-720h720v720H120Zm60-500h600v-160H180v160Zm220 220h160v-160H400v160Zm0 220h160v-160H400v160ZM180-400h160v-160H180v160Zm440 0h160v-160H620v160ZM180-180h160v-160H180v160Zm440 0h160v-160H620v160Z\"/>\n",
              "  </svg>\n",
              "    </button>\n",
              "\n",
              "  <style>\n",
              "    .colab-df-container {\n",
              "      display:flex;\n",
              "      gap: 12px;\n",
              "    }\n",
              "\n",
              "    .colab-df-convert {\n",
              "      background-color: #E8F0FE;\n",
              "      border: none;\n",
              "      border-radius: 50%;\n",
              "      cursor: pointer;\n",
              "      display: none;\n",
              "      fill: #1967D2;\n",
              "      height: 32px;\n",
              "      padding: 0 0 0 0;\n",
              "      width: 32px;\n",
              "    }\n",
              "\n",
              "    .colab-df-convert:hover {\n",
              "      background-color: #E2EBFA;\n",
              "      box-shadow: 0px 1px 2px rgba(60, 64, 67, 0.3), 0px 1px 3px 1px rgba(60, 64, 67, 0.15);\n",
              "      fill: #174EA6;\n",
              "    }\n",
              "\n",
              "    .colab-df-buttons div {\n",
              "      margin-bottom: 4px;\n",
              "    }\n",
              "\n",
              "    [theme=dark] .colab-df-convert {\n",
              "      background-color: #3B4455;\n",
              "      fill: #D2E3FC;\n",
              "    }\n",
              "\n",
              "    [theme=dark] .colab-df-convert:hover {\n",
              "      background-color: #434B5C;\n",
              "      box-shadow: 0px 1px 3px 1px rgba(0, 0, 0, 0.15);\n",
              "      filter: drop-shadow(0px 1px 2px rgba(0, 0, 0, 0.3));\n",
              "      fill: #FFFFFF;\n",
              "    }\n",
              "  </style>\n",
              "\n",
              "    <script>\n",
              "      const buttonEl =\n",
              "        document.querySelector('#df-3b95ff8a-91eb-4741-b5f9-18e222c6f1a7 button.colab-df-convert');\n",
              "      buttonEl.style.display =\n",
              "        google.colab.kernel.accessAllowed ? 'block' : 'none';\n",
              "\n",
              "      async function convertToInteractive(key) {\n",
              "        const element = document.querySelector('#df-3b95ff8a-91eb-4741-b5f9-18e222c6f1a7');\n",
              "        const dataTable =\n",
              "          await google.colab.kernel.invokeFunction('convertToInteractive',\n",
              "                                                    [key], {});\n",
              "        if (!dataTable) return;\n",
              "\n",
              "        const docLinkHtml = 'Like what you see? Visit the ' +\n",
              "          '<a target=\"_blank\" href=https://colab.research.google.com/notebooks/data_table.ipynb>data table notebook</a>'\n",
              "          + ' to learn more about interactive tables.';\n",
              "        element.innerHTML = '';\n",
              "        dataTable['output_type'] = 'display_data';\n",
              "        await google.colab.output.renderOutput(dataTable, element);\n",
              "        const docLink = document.createElement('div');\n",
              "        docLink.innerHTML = docLinkHtml;\n",
              "        element.appendChild(docLink);\n",
              "      }\n",
              "    </script>\n",
              "  </div>\n",
              "\n",
              "\n",
              "<div id=\"df-58333f99-ef69-4712-b626-4c36f0f1baeb\">\n",
              "  <button class=\"colab-df-quickchart\" onclick=\"quickchart('df-58333f99-ef69-4712-b626-4c36f0f1baeb')\"\n",
              "            title=\"Suggest charts\"\n",
              "            style=\"display:none;\">\n",
              "\n",
              "<svg xmlns=\"http://www.w3.org/2000/svg\" height=\"24px\"viewBox=\"0 0 24 24\"\n",
              "     width=\"24px\">\n",
              "    <g>\n",
              "        <path d=\"M19 3H5c-1.1 0-2 .9-2 2v14c0 1.1.9 2 2 2h14c1.1 0 2-.9 2-2V5c0-1.1-.9-2-2-2zM9 17H7v-7h2v7zm4 0h-2V7h2v10zm4 0h-2v-4h2v4z\"/>\n",
              "    </g>\n",
              "</svg>\n",
              "  </button>\n",
              "\n",
              "<style>\n",
              "  .colab-df-quickchart {\n",
              "      --bg-color: #E8F0FE;\n",
              "      --fill-color: #1967D2;\n",
              "      --hover-bg-color: #E2EBFA;\n",
              "      --hover-fill-color: #174EA6;\n",
              "      --disabled-fill-color: #AAA;\n",
              "      --disabled-bg-color: #DDD;\n",
              "  }\n",
              "\n",
              "  [theme=dark] .colab-df-quickchart {\n",
              "      --bg-color: #3B4455;\n",
              "      --fill-color: #D2E3FC;\n",
              "      --hover-bg-color: #434B5C;\n",
              "      --hover-fill-color: #FFFFFF;\n",
              "      --disabled-bg-color: #3B4455;\n",
              "      --disabled-fill-color: #666;\n",
              "  }\n",
              "\n",
              "  .colab-df-quickchart {\n",
              "    background-color: var(--bg-color);\n",
              "    border: none;\n",
              "    border-radius: 50%;\n",
              "    cursor: pointer;\n",
              "    display: none;\n",
              "    fill: var(--fill-color);\n",
              "    height: 32px;\n",
              "    padding: 0;\n",
              "    width: 32px;\n",
              "  }\n",
              "\n",
              "  .colab-df-quickchart:hover {\n",
              "    background-color: var(--hover-bg-color);\n",
              "    box-shadow: 0 1px 2px rgba(60, 64, 67, 0.3), 0 1px 3px 1px rgba(60, 64, 67, 0.15);\n",
              "    fill: var(--button-hover-fill-color);\n",
              "  }\n",
              "\n",
              "  .colab-df-quickchart-complete:disabled,\n",
              "  .colab-df-quickchart-complete:disabled:hover {\n",
              "    background-color: var(--disabled-bg-color);\n",
              "    fill: var(--disabled-fill-color);\n",
              "    box-shadow: none;\n",
              "  }\n",
              "\n",
              "  .colab-df-spinner {\n",
              "    border: 2px solid var(--fill-color);\n",
              "    border-color: transparent;\n",
              "    border-bottom-color: var(--fill-color);\n",
              "    animation:\n",
              "      spin 1s steps(1) infinite;\n",
              "  }\n",
              "\n",
              "  @keyframes spin {\n",
              "    0% {\n",
              "      border-color: transparent;\n",
              "      border-bottom-color: var(--fill-color);\n",
              "      border-left-color: var(--fill-color);\n",
              "    }\n",
              "    20% {\n",
              "      border-color: transparent;\n",
              "      border-left-color: var(--fill-color);\n",
              "      border-top-color: var(--fill-color);\n",
              "    }\n",
              "    30% {\n",
              "      border-color: transparent;\n",
              "      border-left-color: var(--fill-color);\n",
              "      border-top-color: var(--fill-color);\n",
              "      border-right-color: var(--fill-color);\n",
              "    }\n",
              "    40% {\n",
              "      border-color: transparent;\n",
              "      border-right-color: var(--fill-color);\n",
              "      border-top-color: var(--fill-color);\n",
              "    }\n",
              "    60% {\n",
              "      border-color: transparent;\n",
              "      border-right-color: var(--fill-color);\n",
              "    }\n",
              "    80% {\n",
              "      border-color: transparent;\n",
              "      border-right-color: var(--fill-color);\n",
              "      border-bottom-color: var(--fill-color);\n",
              "    }\n",
              "    90% {\n",
              "      border-color: transparent;\n",
              "      border-bottom-color: var(--fill-color);\n",
              "    }\n",
              "  }\n",
              "</style>\n",
              "\n",
              "  <script>\n",
              "    async function quickchart(key) {\n",
              "      const quickchartButtonEl =\n",
              "        document.querySelector('#' + key + ' button');\n",
              "      quickchartButtonEl.disabled = true;  // To prevent multiple clicks.\n",
              "      quickchartButtonEl.classList.add('colab-df-spinner');\n",
              "      try {\n",
              "        const charts = await google.colab.kernel.invokeFunction(\n",
              "            'suggestCharts', [key], {});\n",
              "      } catch (error) {\n",
              "        console.error('Error during call to suggestCharts:', error);\n",
              "      }\n",
              "      quickchartButtonEl.classList.remove('colab-df-spinner');\n",
              "      quickchartButtonEl.classList.add('colab-df-quickchart-complete');\n",
              "    }\n",
              "    (() => {\n",
              "      let quickchartButtonEl =\n",
              "        document.querySelector('#df-58333f99-ef69-4712-b626-4c36f0f1baeb button');\n",
              "      quickchartButtonEl.style.display =\n",
              "        google.colab.kernel.accessAllowed ? 'block' : 'none';\n",
              "    })();\n",
              "  </script>\n",
              "</div>\n",
              "\n",
              "    </div>\n",
              "  </div>\n"
            ],
            "application/vnd.google.colaboratory.intrinsic+json": {
              "type": "dataframe",
              "variable_name": "dataFrame",
              "summary": "{\n  \"name\": \"dataFrame\",\n  \"rows\": 19000,\n  \"fields\": [\n    {\n      \"column\": \"date\",\n      \"properties\": {\n        \"dtype\": \"date\",\n        \"min\": \"2013-01-01 00:00:00\",\n        \"max\": \"2017-12-31 00:00:00\",\n        \"num_unique_values\": 1826,\n        \"samples\": [\n          \"2015-09-26 00:00:00\",\n          \"2017-02-27 00:00:00\",\n          \"2013-10-26 00:00:00\"\n        ],\n        \"semantic_type\": \"\",\n        \"description\": \"\"\n      }\n    },\n    {\n      \"column\": \"store\",\n      \"properties\": {\n        \"dtype\": \"category\",\n        \"num_unique_values\": 10,\n        \"samples\": [\n          \"9\",\n          \"4\",\n          \"2\"\n        ],\n        \"semantic_type\": \"\",\n        \"description\": \"\"\n      }\n    },\n    {\n      \"column\": \"item\",\n      \"properties\": {\n        \"dtype\": \"category\",\n        \"num_unique_values\": 50,\n        \"samples\": [\n          \"40\",\n          \"43\",\n          \"20\"\n        ],\n        \"semantic_type\": \"\",\n        \"description\": \"\"\n      }\n    },\n    {\n      \"column\": \"sales\",\n      \"properties\": {\n        \"dtype\": \"number\",\n        \"std\": 28,\n        \"min\": 1,\n        \"max\": 205,\n        \"num_unique_values\": 173,\n        \"samples\": [\n          196,\n          63,\n          94\n        ],\n        \"semantic_type\": \"\",\n        \"description\": \"\"\n      }\n    }\n  ]\n}"
            }
          },
          "metadata": {},
          "execution_count": 6
        }
      ]
    },
    {
      "cell_type": "code",
      "source": [
        "train = dataFrame[dataFrame[\"date\"] < \"2017-01-01\"]\n",
        "test = dataFrame[dataFrame[\"date\"] >= \"2017-01-01\"]\n"
      ],
      "metadata": {
        "id": "QE7LvfU-VsTp"
      },
      "execution_count": null,
      "outputs": []
    },
    {
      "cell_type": "code",
      "source": [
        "trainFeature = train.drop(columns = [\"sales\"])\n",
        "trainTarget = train[\"sales\"]\n",
        "testFeature = test.drop(columns = [\"sales\"])\n",
        "testTarget = test[\"sales\"]"
      ],
      "metadata": {
        "id": "KWhHqUWcWdyK"
      },
      "execution_count": null,
      "outputs": []
    },
    {
      "cell_type": "code",
      "source": [
        "from upgini import FeaturesEnricher, SearchKey\n",
        "from upgini.metadata import CVType\n",
        "\n",
        "enricher = FeaturesEnricher(\n",
        "    search_keys={\n",
        "        \"date\": SearchKey.DATE,\n",
        "    },\n",
        "    cv = CVType.time_series\n",
        "\n",
        "\n",
        "\n",
        ")\n",
        "enricher.fit(trainFeature,\n",
        "             trainTarget,\n",
        "             eval_set=[(testFeature,testTarget)])"
      ],
      "metadata": {
        "id": "1hWcs0RlXWe7",
        "colab": {
          "base_uri": "https://localhost:8080/",
          "height": 1000
        },
        "outputId": "a76460fa-5d2e-4efc-9e55-315ac579ee38"
      },
      "execution_count": null,
      "outputs": [
        {
          "output_type": "display_data",
          "data": {
            "text/plain": [
              "[============================================================] 100% Finished"
            ],
            "text/html": [
              "<progress style='width:60ex' max='100' value='100'></progress>  100% Finished</br>"
            ]
          },
          "metadata": {}
        },
        {
          "output_type": "display_data",
          "data": {
            "text/plain": [
              "<IPython.core.display.Javascript object>"
            ],
            "application/javascript": [
              "\n",
              "                        import('https://upgini.github.io/upgini/js/a.js')\n",
              "                            .then(FingerprintJS => FingerprintJS.load())\n",
              "                            .then(fp => fp.get())\n",
              "                            .then(result => window.visitorId = result.visitorId);\n",
              "                    "
            ]
          },
          "metadata": {}
        },
        {
          "output_type": "display_data",
          "data": {
            "text/plain": [
              "<IPython.core.display.Javascript object>"
            ],
            "application/javascript": [
              "\n",
              "                        import('https://upgini.github.io/upgini/js/a.js')\n",
              "                            .then(FingerprintJS => FingerprintJS.load())\n",
              "                            .then(fp => fp.get())\n",
              "                            .then(result => window.visitorId = result.visitorId);\n",
              "                    "
            ]
          },
          "metadata": {}
        },
        {
          "output_type": "display_data",
          "data": {
            "text/plain": [
              "<IPython.core.display.Javascript object>"
            ],
            "application/javascript": [
              "\n",
              "                        import('https://upgini.github.io/upgini/js/a.js')\n",
              "                            .then(FingerprintJS => FingerprintJS.load())\n",
              "                            .then(fp => fp.get())\n",
              "                            .then(result => window.visitorId = result.visitorId);\n",
              "                    "
            ]
          },
          "metadata": {}
        },
        {
          "output_type": "display_data",
          "data": {
            "text/plain": [
              "<IPython.core.display.Javascript object>"
            ],
            "application/javascript": [
              "\n",
              "                        import('https://upgini.github.io/upgini/js/a.js')\n",
              "                            .then(FingerprintJS => FingerprintJS.load())\n",
              "                            .then(fp => fp.get())\n",
              "                            .then(result => window.visitorId = result.visitorId);\n",
              "                    "
            ]
          },
          "metadata": {}
        },
        {
          "output_type": "display_data",
          "data": {
            "text/plain": [
              "<IPython.core.display.Javascript object>"
            ],
            "application/javascript": [
              "\n",
              "                        import('https://upgini.github.io/upgini/js/a.js')\n",
              "                            .then(FingerprintJS => FingerprintJS.load())\n",
              "                            .then(fp => fp.get())\n",
              "                            .then(result => window.visitorId = result.visitorId);\n",
              "                    "
            ]
          },
          "metadata": {}
        },
        {
          "output_type": "display_data",
          "data": {
            "text/plain": [
              "<IPython.core.display.Javascript object>"
            ],
            "application/javascript": [
              "\n",
              "                        import('https://upgini.github.io/upgini/js/a.js')\n",
              "                            .then(FingerprintJS => FingerprintJS.load())\n",
              "                            .then(fp => fp.get())\n",
              "                            .then(result => window.visitorId = result.visitorId);\n",
              "                    "
            ]
          },
          "metadata": {}
        },
        {
          "output_type": "display_data",
          "data": {
            "text/plain": [
              "<IPython.core.display.Javascript object>"
            ],
            "application/javascript": [
              "\n",
              "                        import('https://upgini.github.io/upgini/js/a.js')\n",
              "                            .then(FingerprintJS => FingerprintJS.load())\n",
              "                            .then(fp => fp.get())\n",
              "                            .then(result => window.visitorId = result.visitorId);\n",
              "                    "
            ]
          },
          "metadata": {}
        },
        {
          "output_type": "stream",
          "name": "stdout",
          "text": [
            "\n",
            "WARNING: Search started with DATE search key only\n",
            "Try to add other keys like the COUNTRY, POSTAL_CODE, PHONE NUMBER, EMAIL/HEM, IPv4 to your training dataset\n",
            "for search through all the available data sources.\n",
            "See docs https://github.com/upgini/upgini#-total-239-countries-and-up-to-41-years-of-history\n"
          ]
        },
        {
          "output_type": "display_data",
          "data": {
            "text/plain": [
              "<IPython.core.display.Javascript object>"
            ],
            "application/javascript": [
              "\n",
              "                        import('https://upgini.github.io/upgini/js/a.js')\n",
              "                            .then(FingerprintJS => FingerprintJS.load())\n",
              "                            .then(fp => fp.get())\n",
              "                            .then(result => window.visitorId = result.visitorId);\n",
              "                    "
            ]
          },
          "metadata": {}
        },
        {
          "output_type": "display_data",
          "data": {
            "text/plain": [
              "<IPython.core.display.Javascript object>"
            ],
            "application/javascript": [
              "\n",
              "                        import('https://upgini.github.io/upgini/js/a.js')\n",
              "                            .then(FingerprintJS => FingerprintJS.load())\n",
              "                            .then(fp => fp.get())\n",
              "                            .then(result => window.visitorId = result.visitorId);\n",
              "                    "
            ]
          },
          "metadata": {}
        },
        {
          "output_type": "stream",
          "name": "stdout",
          "text": [
            "Detected task type: ModelTaskType.REGRESSION\n",
            "\n"
          ]
        },
        {
          "output_type": "display_data",
          "data": {
            "text/plain": [
              "<IPython.core.display.Javascript object>"
            ],
            "application/javascript": [
              "\n",
              "                        import('https://upgini.github.io/upgini/js/a.js')\n",
              "                            .then(FingerprintJS => FingerprintJS.load())\n",
              "                            .then(fp => fp.get())\n",
              "                            .then(result => window.visitorId = result.visitorId);\n",
              "                    "
            ]
          },
          "metadata": {}
        },
        {
          "output_type": "display_data",
          "data": {
            "text/plain": [
              "<IPython.core.display.Javascript object>"
            ],
            "application/javascript": [
              "\n",
              "                        import('https://upgini.github.io/upgini/js/a.js')\n",
              "                            .then(FingerprintJS => FingerprintJS.load())\n",
              "                            .then(fp => fp.get())\n",
              "                            .then(result => window.visitorId = result.visitorId);\n",
              "                    "
            ]
          },
          "metadata": {}
        },
        {
          "output_type": "display_data",
          "data": {
            "text/plain": [
              "<IPython.core.display.Javascript object>"
            ],
            "application/javascript": [
              "\n",
              "                        import('https://upgini.github.io/upgini/js/a.js')\n",
              "                            .then(FingerprintJS => FingerprintJS.load())\n",
              "                            .then(fp => fp.get())\n",
              "                            .then(result => window.visitorId = result.visitorId);\n",
              "                    "
            ]
          },
          "metadata": {}
        },
        {
          "output_type": "display_data",
          "data": {
            "text/plain": [
              "<IPython.core.display.Javascript object>"
            ],
            "application/javascript": [
              "\n",
              "                            fetch(\"https://api.ipify.org\")\n",
              "                                .then(response => response.text())\n",
              "                                .then(data => window.clientIP = data);\n",
              "                        "
            ]
          },
          "metadata": {}
        },
        {
          "output_type": "display_data",
          "data": {
            "text/plain": [
              "<IPython.core.display.Javascript object>"
            ],
            "application/javascript": [
              "\n",
              "                        import('https://upgini.github.io/upgini/js/a.js')\n",
              "                            .then(FingerprintJS => FingerprintJS.load())\n",
              "                            .then(fp => fp.get())\n",
              "                            .then(result => window.visitorId = result.visitorId);\n",
              "                    "
            ]
          },
          "metadata": {}
        },
        {
          "output_type": "display_data",
          "data": {
            "text/plain": [
              "<IPython.core.display.Javascript object>"
            ],
            "application/javascript": [
              "\n",
              "                        import('https://upgini.github.io/upgini/js/a.js')\n",
              "                            .then(FingerprintJS => FingerprintJS.load())\n",
              "                            .then(fp => fp.get())\n",
              "                            .then(result => window.visitorId = result.visitorId);\n",
              "                    "
            ]
          },
          "metadata": {}
        },
        {
          "output_type": "stream",
          "name": "stdout",
          "text": [
            "\n"
          ]
        },
        {
          "output_type": "display_data",
          "data": {
            "text/plain": [
              "<IPython.core.display.HTML object>"
            ],
            "text/html": [
              "<table><tr><th style='font-weight:bold'>Column name</th><th style='font-weight:bold'>Status</th><th style='font-weight:bold'>Errors</th></tr><tr><td>target</td><td style='background-color:#DAF7A6;color:black'>All valid</td><td>-</td></tr><tr><td>date</td><td style='background-color:#DAF7A6;color:black'>All valid</td><td>-</td></tr></table>"
            ]
          },
          "metadata": {}
        },
        {
          "output_type": "display_data",
          "data": {
            "text/plain": [
              "<IPython.core.display.Javascript object>"
            ],
            "application/javascript": [
              "\n",
              "                        import('https://upgini.github.io/upgini/js/a.js')\n",
              "                            .then(FingerprintJS => FingerprintJS.load())\n",
              "                            .then(fp => fp.get())\n",
              "                            .then(result => window.visitorId = result.visitorId);\n",
              "                    "
            ]
          },
          "metadata": {}
        },
        {
          "output_type": "display_data",
          "data": {
            "text/plain": [
              "<IPython.core.display.Javascript object>"
            ],
            "application/javascript": [
              "\n",
              "                        import('https://upgini.github.io/upgini/js/a.js')\n",
              "                            .then(FingerprintJS => FingerprintJS.load())\n",
              "                            .then(fp => fp.get())\n",
              "                            .then(result => window.visitorId = result.visitorId);\n",
              "                    "
            ]
          },
          "metadata": {}
        },
        {
          "output_type": "display_data",
          "data": {
            "text/plain": [
              "<IPython.core.display.Javascript object>"
            ],
            "application/javascript": [
              "\n",
              "                            fetch(\"https://api.ipify.org\")\n",
              "                                .then(response => response.text())\n",
              "                                .then(data => window.clientIP = data);\n",
              "                        "
            ]
          },
          "metadata": {}
        },
        {
          "output_type": "display_data",
          "data": {
            "text/plain": [
              "<IPython.core.display.Javascript object>"
            ],
            "application/javascript": [
              "\n",
              "                            fetch(\"https://api.ipify.org\")\n",
              "                                .then(response => response.text())\n",
              "                                .then(data => window.clientIP = data);\n",
              "                        "
            ]
          },
          "metadata": {}
        },
        {
          "output_type": "display_data",
          "data": {
            "text/plain": [
              "<IPython.core.display.Javascript object>"
            ],
            "application/javascript": [
              "\n",
              "                            fetch(\"https://api.ipify.org\")\n",
              "                                .then(response => response.text())\n",
              "                                .then(data => window.clientIP = data);\n",
              "                        "
            ]
          },
          "metadata": {}
        },
        {
          "output_type": "display_data",
          "data": {
            "text/plain": [
              "<IPython.core.display.Javascript object>"
            ],
            "application/javascript": [
              "\n",
              "                            fetch(\"https://api.ipify.org\")\n",
              "                                .then(response => response.text())\n",
              "                                .then(data => window.clientIP = data);\n",
              "                        "
            ]
          },
          "metadata": {}
        },
        {
          "output_type": "display_data",
          "data": {
            "text/plain": [
              "<IPython.core.display.Javascript object>"
            ],
            "application/javascript": [
              "\n",
              "                            fetch(\"https://api.ipify.org\")\n",
              "                                .then(response => response.text())\n",
              "                                .then(data => window.clientIP = data);\n",
              "                        "
            ]
          },
          "metadata": {}
        },
        {
          "output_type": "display_data",
          "data": {
            "text/plain": [
              "<IPython.core.display.Javascript object>"
            ],
            "application/javascript": [
              "\n",
              "                            fetch(\"https://api.ipify.org\")\n",
              "                                .then(response => response.text())\n",
              "                                .then(data => window.clientIP = data);\n",
              "                        "
            ]
          },
          "metadata": {}
        },
        {
          "output_type": "display_data",
          "data": {
            "text/plain": [
              "<IPython.core.display.Javascript object>"
            ],
            "application/javascript": [
              "\n",
              "                            fetch(\"https://api.ipify.org\")\n",
              "                                .then(response => response.text())\n",
              "                                .then(data => window.clientIP = data);\n",
              "                        "
            ]
          },
          "metadata": {}
        },
        {
          "output_type": "display_data",
          "data": {
            "text/plain": [
              "<IPython.core.display.Javascript object>"
            ],
            "application/javascript": [
              "\n",
              "                            fetch(\"https://api.ipify.org\")\n",
              "                                .then(response => response.text())\n",
              "                                .then(data => window.clientIP = data);\n",
              "                        "
            ]
          },
          "metadata": {}
        },
        {
          "output_type": "display_data",
          "data": {
            "text/plain": [
              "<IPython.core.display.Javascript object>"
            ],
            "application/javascript": [
              "\n",
              "                            fetch(\"https://api.ipify.org\")\n",
              "                                .then(response => response.text())\n",
              "                                .then(data => window.clientIP = data);\n",
              "                        "
            ]
          },
          "metadata": {}
        },
        {
          "output_type": "display_data",
          "data": {
            "text/plain": [
              "<IPython.core.display.Javascript object>"
            ],
            "application/javascript": [
              "\n",
              "                            fetch(\"https://api.ipify.org\")\n",
              "                                .then(response => response.text())\n",
              "                                .then(data => window.clientIP = data);\n",
              "                        "
            ]
          },
          "metadata": {}
        },
        {
          "output_type": "display_data",
          "data": {
            "text/plain": [
              "<IPython.core.display.Javascript object>"
            ],
            "application/javascript": [
              "\n",
              "                            fetch(\"https://api.ipify.org\")\n",
              "                                .then(response => response.text())\n",
              "                                .then(data => window.clientIP = data);\n",
              "                        "
            ]
          },
          "metadata": {}
        },
        {
          "output_type": "display_data",
          "data": {
            "text/plain": [
              "<IPython.core.display.Javascript object>"
            ],
            "application/javascript": [
              "\n",
              "                            fetch(\"https://api.ipify.org\")\n",
              "                                .then(response => response.text())\n",
              "                                .then(data => window.clientIP = data);\n",
              "                        "
            ]
          },
          "metadata": {}
        },
        {
          "output_type": "display_data",
          "data": {
            "text/plain": [
              "<IPython.core.display.Javascript object>"
            ],
            "application/javascript": [
              "\n",
              "                            fetch(\"https://api.ipify.org\")\n",
              "                                .then(response => response.text())\n",
              "                                .then(data => window.clientIP = data);\n",
              "                        "
            ]
          },
          "metadata": {}
        },
        {
          "output_type": "display_data",
          "data": {
            "text/plain": [
              "<IPython.core.display.Javascript object>"
            ],
            "application/javascript": [
              "\n",
              "                            fetch(\"https://api.ipify.org\")\n",
              "                                .then(response => response.text())\n",
              "                                .then(data => window.clientIP = data);\n",
              "                        "
            ]
          },
          "metadata": {}
        },
        {
          "output_type": "display_data",
          "data": {
            "text/plain": [
              "<IPython.core.display.Javascript object>"
            ],
            "application/javascript": [
              "\n",
              "                            fetch(\"https://api.ipify.org\")\n",
              "                                .then(response => response.text())\n",
              "                                .then(data => window.clientIP = data);\n",
              "                        "
            ]
          },
          "metadata": {}
        },
        {
          "output_type": "stream",
          "name": "stdout",
          "text": [
            "\n",
            "Running search request, search_id=d0593b4e-a57c-4581-815e-90760e52e121\n",
            "We'll send email notification once it's completed, just use your personal api_key from profile.upgini.com\n",
            "\n",
            "\u001b[92m\u001b[1m\n",
            "68 relevant feature(s) found with the search keys: ['date']\u001b[0m\n"
          ]
        },
        {
          "output_type": "display_data",
          "data": {
            "text/plain": [
              "<IPython.core.display.HTML object>"
            ],
            "text/html": [
              "<style>\n",
              "            .upgini-df thead th {\n",
              "                font-weight:bold;\n",
              "                text-align: center;\n",
              "                padding: 0.5em;\n",
              "                border-bottom: 2px solid black;\n",
              "            }\n",
              "\n",
              "            .upgini-df tbody td {\n",
              "                padding: 0.5em;\n",
              "            }\n",
              "\n",
              "            .upgini-df tbody tr:nth-child(odd) {\n",
              "                background-color: #ffffff;\n",
              "            }\n",
              "\n",
              "            .upgini-df tbody tr:nth-child(even) {\n",
              "                background-color: #f2f2f2;\n",
              "            }\n",
              "\n",
              "            .upgini-text {\n",
              "                text-align: left;\n",
              "            }\n",
              "\n",
              "            .upgini-number {\n",
              "                text-align: center;\n",
              "            }\n",
              "        </style>\n",
              "        <h2>Relevant features</h2>\n",
              "        <div style=\"display:flex; flex-direction:column; align-items:flex-end; width: fit-content;\">\n",
              "            <div style=\"text-align: right\">\n",
              "                <button onclick=navigator.clipboard.writeText(decodeURI('Feature%20name%09SHAP%20value%09Coverage%20%25%09Value%20preview%09Provider%09Source%09Updates%0Af_weather_date_weather_umap_34_c3ef5b4f%090.0497%09100.0%094.7962,%204.8648,%205.4959%09Upgini%09Weather%20%26%20climate%20normals%20data%09Daily%0Af_autofe_div_029f75a6%090.0175%09100.0%090.6054,%20-0.6231,%20-0.7663%09Upgini%09AutoFE%3A%20features%20from%20%3Ca%20href%3D%27https%3A%2F%2Fupgini.com%2F%23data_sources%27%20target%3D%27_blank%27%20rel%3D%27noopener%20noreferrer%27%3ECalendar%20data%3C%2Fa%3E,%3Ca%20href%3D%27https%3A%2F%2Fupgini.com%2F%23data_sources%27%20target%3D%27_blank%27%20rel%3D%27noopener%20noreferrer%27%3EMarkets%20data%3C%2Fa%3E%09Daily%0Af_weather_date_weather_pca_0_d7e0a1fc%090.0122%09100.0%09-24.3929,%2027.4126,%2029.1972%09Upgini%09Weather%20%26%20climate%20normals%20data%09Daily%0Af_autofe_div_50507976%090.0102%09100.0%090.062,%20-0.0187,%20-0.0344%09Upgini%09AutoFE%3A%20features%20from%20%3Ca%20href%3D%27https%3A%2F%2Fupgini.com%2F%23data_sources%27%20target%3D%27_blank%27%20rel%3D%27noopener%20noreferrer%27%3ECalendar%20data%3C%2Fa%3E,%3Ca%20href%3D%27https%3A%2F%2Fupgini.com%2F%23data_sources%27%20target%3D%27_blank%27%20rel%3D%27noopener%20noreferrer%27%3EMarkets%20data%3C%2Fa%3E%09Daily%0Af_autofe_mul_6793ee4f%090.0077%09100.0%0911.4333,%2013.8049,%2011.0425%09Upgini%09AutoFE%3A%20features%20from%20%3Ca%20href%3D%27https%3A%2F%2Fupgini.com%2F%23data_sources%27%20target%3D%27_blank%27%20rel%3D%27noopener%20noreferrer%27%3ECalendar%20data%3C%2Fa%3E,%3Ca%20href%3D%27https%3A%2F%2Fupgini.com%2F%23data_sources%27%20target%3D%27_blank%27%20rel%3D%27noopener%20noreferrer%27%3EMarkets%20data%3C%2Fa%3E%09Daily%0Af_autofe_mul_34d11bc4%090.0064%09100.0%0914.3158,%2018.7785,%2019.4271%09Upgini%09AutoFE%3A%20features%20from%20%3Ca%20href%3D%27https%3A%2F%2Fupgini.com%2F%23data_sources%27%20target%3D%27_blank%27%20rel%3D%27noopener%20noreferrer%27%3ECalendar%20data%3C%2Fa%3E,%3Ca%20href%3D%27https%3A%2F%2Fupgini.com%2F%23data_sources%27%20target%3D%27_blank%27%20rel%3D%27noopener%20noreferrer%27%3EMarkets%20data%3C%2Fa%3E%09Daily%0Af_autofe_div_1edd5009%090.0061%09100.0%09-0.0434,%20-0.088,%20-0.0967%09Upgini%09AutoFE%3A%20features%20from%20%3Ca%20href%3D%27https%3A%2F%2Fupgini.com%2F%23data_sources%27%20target%3D%27_blank%27%20rel%3D%27noopener%20noreferrer%27%3ECalendar%20data%3C%2Fa%3E,%3Ca%20href%3D%27https%3A%2F%2Fupgini.com%2F%23data_sources%27%20target%3D%27_blank%27%20rel%3D%27noopener%20noreferrer%27%3EMarkets%20data%3C%2Fa%3E%09Daily%0Af_autofe_div_50a5dcaf%090.0058%09100.0%09-0.3497,%20-0.836,%20-0.9408%09Upgini%09AutoFE%3A%20features%20from%20%3Ca%20href%3D%27https%3A%2F%2Fupgini.com%2F%23data_sources%27%20target%3D%27_blank%27%20rel%3D%27noopener%20noreferrer%27%3ECalendar%20data%3C%2Fa%3E,%3Ca%20href%3D%27https%3A%2F%2Fupgini.com%2F%23data_sources%27%20target%3D%27_blank%27%20rel%3D%27noopener%20noreferrer%27%3EMarkets%20data%3C%2Fa%3E%09Daily%0Af_autofe_mul_6234ba3a%090.0055%09100.0%090.708,%201.0918,%200.8102%09Upgini%09AutoFE%3A%20features%20from%20%3Ca%20href%3D%27https%3A%2F%2Fupgini.com%2F%23data_sources%27%20target%3D%27_blank%27%20rel%3D%27noopener%20noreferrer%27%3EMarkets%20data%3C%2Fa%3E%09Daily%0Af_autofe_div_3e22df83%090.0042%09100.0%090.0081,%20-0.0102,%200.0044%09Upgini%09AutoFE%3A%20features%20from%20%3Ca%20href%3D%27https%3A%2F%2Fupgini.com%2F%23data_sources%27%20target%3D%27_blank%27%20rel%3D%27noopener%20noreferrer%27%3ECalendar%20data%3C%2Fa%3E,%3Ca%20href%3D%27https%3A%2F%2Fupgini.com%2F%23data_sources%27%20target%3D%27_blank%27%20rel%3D%27noopener%20noreferrer%27%3EMarkets%20data%3C%2Fa%3E%09Daily%0Af_autofe_div_89c56a5f%090.0041%09100.0%09-0.8574,%20-0.7662,%201.155%09Upgini%09AutoFE%3A%20features%20from%20%3Ca%20href%3D%27https%3A%2F%2Fupgini.com%2F%23data_sources%27%20target%3D%27_blank%27%20rel%3D%27noopener%20noreferrer%27%3ECalendar%20data%3C%2Fa%3E,%3Ca%20href%3D%27https%3A%2F%2Fupgini.com%2F%23data_sources%27%20target%3D%27_blank%27%20rel%3D%27noopener%20noreferrer%27%3EMarkets%20data%3C%2Fa%3E%09Daily%0Af_autofe_mul_478be4f3%090.0038%09100.0%091.3429,%200.0567,%20-0.7238%09Upgini%09AutoFE%3A%20features%20from%20%3Ca%20href%3D%27https%3A%2F%2Fupgini.com%2F%23data_sources%27%20target%3D%27_blank%27%20rel%3D%27noopener%20noreferrer%27%3ECalendar%20data%3C%2Fa%3E,%3Ca%20href%3D%27https%3A%2F%2Fupgini.com%2F%23data_sources%27%20target%3D%27_blank%27%20rel%3D%27noopener%20noreferrer%27%3EMarkets%20data%3C%2Fa%3E%09Daily%0Af_autofe_div_534d01d5%090.0036%09100.0%09-0.0013,%20-0.002,%200.0027%09Upgini%09AutoFE%3A%20features%20from%20%3Ca%20href%3D%27https%3A%2F%2Fupgini.com%2F%23data_sources%27%20target%3D%27_blank%27%20rel%3D%27noopener%20noreferrer%27%3ECalendar%20data%3C%2Fa%3E,%3Ca%20href%3D%27https%3A%2F%2Fupgini.com%2F%23data_sources%27%20target%3D%27_blank%27%20rel%3D%27noopener%20noreferrer%27%3EMarkets%20data%3C%2Fa%3E%09Daily%0Af_autofe_div_cf5dd7be%090.0036%09100.0%09-1.2951,%201.0708,%20-1.092%09Upgini%09AutoFE%3A%20features%20from%20%3Ca%20href%3D%27https%3A%2F%2Fupgini.com%2F%23data_sources%27%20target%3D%27_blank%27%20rel%3D%27noopener%20noreferrer%27%3ECalendar%20data%3C%2Fa%3E,%3Ca%20href%3D%27https%3A%2F%2Fupgini.com%2F%23data_sources%27%20target%3D%27_blank%27%20rel%3D%27noopener%20noreferrer%27%3EMarkets%20data%3C%2Fa%3E%09Daily%0Af_weather_date_weather_umap_13_842ae1fc%090.0032%09100.0%095.2316,%205.3125,%205.2887%09Upgini%09Weather%20%26%20climate%20normals%20data%09Daily%0Af_events_date_year_cos1_9014a856%090.0032%09100.0%09-0.133,%20-0.9917,%200.7611%09Upgini%09Calendar%20data%09Daily%0Af_autofe_mul_3cb64162%090.0031%09100.0%090.1179,%20-0.0737,%200.7749%09Upgini%09AutoFE%3A%20features%20from%20%3Ca%20href%3D%27https%3A%2F%2Fupgini.com%2F%23data_sources%27%20target%3D%27_blank%27%20rel%3D%27noopener%20noreferrer%27%3ECalendar%20data%3C%2Fa%3E,%3Ca%20href%3D%27https%3A%2F%2Fupgini.com%2F%23data_sources%27%20target%3D%27_blank%27%20rel%3D%27noopener%20noreferrer%27%3EMarkets%20data%3C%2Fa%3E%09Daily%0Af_autofe_div_380598ae%090.0031%09100.0%09-0.2122,%20-0.2184,%200.636%09Upgini%09AutoFE%3A%20features%20from%20%3Ca%20href%3D%27https%3A%2F%2Fupgini.com%2F%23data_sources%27%20target%3D%27_blank%27%20rel%3D%27noopener%20noreferrer%27%3ECalendar%20data%3C%2Fa%3E,%3Ca%20href%3D%27https%3A%2F%2Fupgini.com%2F%23data_sources%27%20target%3D%27_blank%27%20rel%3D%27noopener%20noreferrer%27%3EMarkets%20data%3C%2Fa%3E%09Daily%0Af_autofe_div_f0159558%090.003%09100.0%091.1222,%200.8814,%201.0249%09Upgini%09AutoFE%3A%20features%20from%20%3Ca%20href%3D%27https%3A%2F%2Fupgini.com%2F%23data_sources%27%20target%3D%27_blank%27%20rel%3D%27noopener%20noreferrer%27%3EMarkets%20data%3C%2Fa%3E%09Daily%0Af_autofe_div_c9ddcb38%090.003%09100.0%09-1.1072,%20-0.2414,%200.5586%09Upgini%09AutoFE%3A%20features%20from%20%3Ca%20href%3D%27https%3A%2F%2Fupgini.com%2F%23data_sources%27%20target%3D%27_blank%27%20rel%3D%27noopener%20noreferrer%27%3ECalendar%20data%3C%2Fa%3E,%3Ca%20href%3D%27https%3A%2F%2Fupgini.com%2F%23data_sources%27%20target%3D%27_blank%27%20rel%3D%27noopener%20noreferrer%27%3EMarkets%20data%3C%2Fa%3E%09Daily%0Af_autofe_mul_b49258bb%090.0029%09100.0%09-145.2556,%20127.9089,%20302.4593%09Upgini%09AutoFE%3A%20features%20from%20%3Ca%20href%3D%27https%3A%2F%2Fupgini.com%2F%23data_sources%27%20target%3D%27_blank%27%20rel%3D%27noopener%20noreferrer%27%3ECalendar%20data%3C%2Fa%3E,%3Ca%20href%3D%27https%3A%2F%2Fupgini.com%2F%23data_sources%27%20target%3D%27_blank%27%20rel%3D%27noopener%20noreferrer%27%3EMarkets%20data%3C%2Fa%3E%09Daily%0Af_autofe_mul_0cc09d2d%090.0027%09100.0%09-81.2585,%20-47.9999,%20-74.0039%09Upgini%09AutoFE%3A%20features%20from%20%3Ca%20href%3D%27https%3A%2F%2Fupgini.com%2F%23data_sources%27%20target%3D%27_blank%27%20rel%3D%27noopener%20noreferrer%27%3ECalendar%20data%3C%2Fa%3E,%3Ca%20href%3D%27https%3A%2F%2Fupgini.com%2F%23data_sources%27%20target%3D%27_blank%27%20rel%3D%27noopener%20noreferrer%27%3EMarkets%20data%3C%2Fa%3E%09Daily%0Af_autofe_mul_5bd50798%090.0024%09100.0%090.7783,%200.7606,%20-1.1822%09Upgini%09AutoFE%3A%20features%20from%20%3Ca%20href%3D%27https%3A%2F%2Fupgini.com%2F%23data_sources%27%20target%3D%27_blank%27%20rel%3D%27noopener%20noreferrer%27%3ECalendar%20data%3C%2Fa%3E,%3Ca%20href%3D%27https%3A%2F%2Fupgini.com%2F%23data_sources%27%20target%3D%27_blank%27%20rel%3D%27noopener%20noreferrer%27%3EMarkets%20data%3C%2Fa%3E%09Daily%0Af_autofe_mul_af6d166b%090.0024%09100.0%091.4691,%20-0.194,%200.827%09Upgini%09AutoFE%3A%20features%20from%20%3Ca%20href%3D%27https%3A%2F%2Fupgini.com%2F%23data_sources%27%20target%3D%27_blank%27%20rel%3D%27noopener%20noreferrer%27%3ECalendar%20data%3C%2Fa%3E,%3Ca%20href%3D%27https%3A%2F%2Fupgini.com%2F%23data_sources%27%20target%3D%27_blank%27%20rel%3D%27noopener%20noreferrer%27%3EMarkets%20data%3C%2Fa%3E%09Daily%0Af_autofe_mul_08e89348%090.0022%09100.0%0952.7631,%20-95.4259,%20-20.0498%09Upgini%09AutoFE%3A%20features%20from%20%3Ca%20href%3D%27https%3A%2F%2Fupgini.com%2F%23data_sources%27%20target%3D%27_blank%27%20rel%3D%27noopener%20noreferrer%27%3ECalendar%20data%3C%2Fa%3E,%3Ca%20href%3D%27https%3A%2F%2Fupgini.com%2F%23data_sources%27%20target%3D%27_blank%27%20rel%3D%27noopener%20noreferrer%27%3EMarkets%20data%3C%2Fa%3E%09Daily%0Af_autofe_mul_25296268%090.002%09100.0%090.4776,%20-0.7721,%20-0.4622%09Upgini%09AutoFE%3A%20features%20from%20%3Ca%20href%3D%27https%3A%2F%2Fupgini.com%2F%23data_sources%27%20target%3D%27_blank%27%20rel%3D%27noopener%20noreferrer%27%3ECalendar%20data%3C%2Fa%3E,%3Ca%20href%3D%27https%3A%2F%2Fupgini.com%2F%23data_sources%27%20target%3D%27_blank%27%20rel%3D%27noopener%20noreferrer%27%3EMarkets%20data%3C%2Fa%3E%09Daily%0Af_weather_date_weather_umap_16_25ac8b87%090.0018%09100.0%095.3772,%205.787,%205.8579%09Upgini%09Weather%20%26%20climate%20normals%20data%09Daily%0Af_autofe_div_5665c21b%090.0017%09100.0%090.6276,%20-0.2232,%20-0.8367%09Upgini%09AutoFE%3A%20features%20from%20%3Ca%20href%3D%27https%3A%2F%2Fupgini.com%2F%23data_sources%27%20target%3D%27_blank%27%20rel%3D%27noopener%20noreferrer%27%3ECalendar%20data%3C%2Fa%3E,%3Ca%20href%3D%27https%3A%2F%2Fupgini.com%2F%23data_sources%27%20target%3D%27_blank%27%20rel%3D%27noopener%20noreferrer%27%3EMarkets%20data%3C%2Fa%3E%09Daily%0Af_autofe_div_a152c923%090.0016%09100.0%09-0.0022,%20-0.0029,%20-0.0018%09Upgini%09AutoFE%3A%20features%20from%20%3Ca%20href%3D%27https%3A%2F%2Fupgini.com%2F%23data_sources%27%20target%3D%27_blank%27%20rel%3D%27noopener%20noreferrer%27%3ECalendar%20data%3C%2Fa%3E,%3Ca%20href%3D%27https%3A%2F%2Fupgini.com%2F%23data_sources%27%20target%3D%27_blank%27%20rel%3D%27noopener%20noreferrer%27%3EMarkets%20data%3C%2Fa%3E%09Daily%0Af_autofe_div_0a5adf97%090.0015%09100.0%09-0.2304,%200.0347,%20-0.2575%09Upgini%09AutoFE%3A%20features%20from%20%3Ca%20href%3D%27https%3A%2F%2Fupgini.com%2F%23data_sources%27%20target%3D%27_blank%27%20rel%3D%27noopener%20noreferrer%27%3ECalendar%20data%3C%2Fa%3E,%3Ca%20href%3D%27https%3A%2F%2Fupgini.com%2F%23data_sources%27%20target%3D%27_blank%27%20rel%3D%27noopener%20noreferrer%27%3EMarkets%20data%3C%2Fa%3E%09Daily%0Af_autofe_mul_4c9c7d0a%090.0014%09100.0%090.947,%200.6863,%200.7061%09Upgini%09AutoFE%3A%20features%20from%20%3Ca%20href%3D%27https%3A%2F%2Fupgini.com%2F%23data_sources%27%20target%3D%27_blank%27%20rel%3D%27noopener%20noreferrer%27%3EMarkets%20data%3C%2Fa%3E%09Daily%0Af_autofe_mul_cd42199d%090.0012%09100.0%09-0.6429,%202.1903,%20-2.9336%09Upgini%09AutoFE%3A%20features%20from%20%3Ca%20href%3D%27https%3A%2F%2Fupgini.com%2F%23data_sources%27%20target%3D%27_blank%27%20rel%3D%27noopener%20noreferrer%27%3ECalendar%20data%3C%2Fa%3E,%3Ca%20href%3D%27https%3A%2F%2Fupgini.com%2F%23data_sources%27%20target%3D%27_blank%27%20rel%3D%27noopener%20noreferrer%27%3EMarkets%20data%3C%2Fa%3E%09Daily%0Af_autofe_mul_45a3c004%090.0011%09100.0%09-5.2938,%20-14.6146,%20-13.61%09Upgini%09AutoFE%3A%20features%20from%20%3Ca%20href%3D%27https%3A%2F%2Fupgini.com%2F%23data_sources%27%20target%3D%27_blank%27%20rel%3D%27noopener%20noreferrer%27%3ECalendar%20data%3C%2Fa%3E,%3Ca%20href%3D%27https%3A%2F%2Fupgini.com%2F%23data_sources%27%20target%3D%27_blank%27%20rel%3D%27noopener%20noreferrer%27%3EMarkets%20data%3C%2Fa%3E%09Daily%0Af_autofe_mul_165c74ad%090.001%09100.0%09-0.4861,%20-0.8515,%200.8759%09Upgini%09AutoFE%3A%20features%20from%20%3Ca%20href%3D%27https%3A%2F%2Fupgini.com%2F%23data_sources%27%20target%3D%27_blank%27%20rel%3D%27noopener%20noreferrer%27%3ECalendar%20data%3C%2Fa%3E,%3Ca%20href%3D%27https%3A%2F%2Fupgini.com%2F%23data_sources%27%20target%3D%27_blank%27%20rel%3D%27noopener%20noreferrer%27%3EMarkets%20data%3C%2Fa%3E%09Daily%0Af_autofe_mul_049f502d%090.0009%09100.0%09-384.2971,%20130.5469,%20364.7985%09Upgini%09AutoFE%3A%20features%20from%20%3Ca%20href%3D%27https%3A%2F%2Fupgini.com%2F%23data_sources%27%20target%3D%27_blank%27%20rel%3D%27noopener%20noreferrer%27%3ECalendar%20data%3C%2Fa%3E,%3Ca%20href%3D%27https%3A%2F%2Fupgini.com%2F%23data_sources%27%20target%3D%27_blank%27%20rel%3D%27noopener%20noreferrer%27%3EMarkets%20data%3C%2Fa%3E%09Daily%0Af_autofe_mul_9a4ab68c%090.0009%09100.0%09-3.2864,%2014.043,%209.7913%09Upgini%09AutoFE%3A%20features%20from%20%3Ca%20href%3D%27https%3A%2F%2Fupgini.com%2F%23data_sources%27%20target%3D%27_blank%27%20rel%3D%27noopener%20noreferrer%27%3ECalendar%20data%3C%2Fa%3E,%3Ca%20href%3D%27https%3A%2F%2Fupgini.com%2F%23data_sources%27%20target%3D%27_blank%27%20rel%3D%27noopener%20noreferrer%27%3EMarkets%20data%3C%2Fa%3E%09Daily%0Af_autofe_mul_eff3c92e%090.0008%09100.0%091.2003,%201.465,%200.6559%09Upgini%09AutoFE%3A%20features%20from%20%3Ca%20href%3D%27https%3A%2F%2Fupgini.com%2F%23data_sources%27%20target%3D%27_blank%27%20rel%3D%27noopener%20noreferrer%27%3EMarkets%20data%3C%2Fa%3E%09Daily%0Af_autofe_div_66be9f98%090.0008%09100.0%09-0.206,%20-0.8183,%200.5609%09Upgini%09AutoFE%3A%20features%20from%20%3Ca%20href%3D%27https%3A%2F%2Fupgini.com%2F%23data_sources%27%20target%3D%27_blank%27%20rel%3D%27noopener%20noreferrer%27%3ECalendar%20data%3C%2Fa%3E,%3Ca%20href%3D%27https%3A%2F%2Fupgini.com%2F%23data_sources%27%20target%3D%27_blank%27%20rel%3D%27noopener%20noreferrer%27%3EMarkets%20data%3C%2Fa%3E%09Daily%0Af_autofe_mul_dfd3cddf%090.0008%09100.0%090.4322,%20-0.3238,%20-0.3983%09Upgini%09AutoFE%3A%20features%20from%20%3Ca%20href%3D%27https%3A%2F%2Fupgini.com%2F%23data_sources%27%20target%3D%27_blank%27%20rel%3D%27noopener%20noreferrer%27%3ECalendar%20data%3C%2Fa%3E,%3Ca%20href%3D%27https%3A%2F%2Fupgini.com%2F%23data_sources%27%20target%3D%27_blank%27%20rel%3D%27noopener%20noreferrer%27%3EMarkets%20data%3C%2Fa%3E%09Daily%0Af_autofe_div_270d64a2%090.0007%09100.0%09-0.2088,%201.7258,%20-1.2915%09Upgini%09AutoFE%3A%20features%20from%20%3Ca%20href%3D%27https%3A%2F%2Fupgini.com%2F%23data_sources%27%20target%3D%27_blank%27%20rel%3D%27noopener%20noreferrer%27%3ECalendar%20data%3C%2Fa%3E,%3Ca%20href%3D%27https%3A%2F%2Fupgini.com%2F%23data_sources%27%20target%3D%27_blank%27%20rel%3D%27noopener%20noreferrer%27%3EMarkets%20data%3C%2Fa%3E%09Daily%0Af_financial_date_nasdaq_7d_to_1y_b00bfaa7%090.0007%09100.0%091.0793,%201.0706,%201.1202%09Upgini%09Markets%20data%09Daily%0Af_autofe_mul_693c8d50%090.0006%09100.0%090.6204,%20-0.2247,%200.6203%09Upgini%09AutoFE%3A%20features%20from%20%3Ca%20href%3D%27https%3A%2F%2Fupgini.com%2F%23data_sources%27%20target%3D%27_blank%27%20rel%3D%27noopener%20noreferrer%27%3ECalendar%20data%3C%2Fa%3E,%3Ca%20href%3D%27https%3A%2F%2Fupgini.com%2F%23data_sources%27%20target%3D%27_blank%27%20rel%3D%27noopener%20noreferrer%27%3EMarkets%20data%3C%2Fa%3E%09Daily%0Af_autofe_div_c2f55b86%090.0006%09100.0%09-0.0006,%200.0027,%20-0.0006%09Upgini%09AutoFE%3A%20features%20from%20%3Ca%20href%3D%27https%3A%2F%2Fupgini.com%2F%23data_sources%27%20target%3D%27_blank%27%20rel%3D%27noopener%20noreferrer%27%3ECalendar%20data%3C%2Fa%3E,%3Ca%20href%3D%27https%3A%2F%2Fupgini.com%2F%23data_sources%27%20target%3D%27_blank%27%20rel%3D%27noopener%20noreferrer%27%3EMarkets%20data%3C%2Fa%3E%09Daily%0Af_autofe_mul_041b52f4%090.0005%09100.0%09-0.5798,%20-0.8619,%20-0.183%09Upgini%09AutoFE%3A%20features%20from%20%3Ca%20href%3D%27https%3A%2F%2Fupgini.com%2F%23data_sources%27%20target%3D%27_blank%27%20rel%3D%27noopener%20noreferrer%27%3ECalendar%20data%3C%2Fa%3E%09Daily%0Af_autofe_mul_b0ac774f%090.0005%09100.0%090.9033,%20-0.7118,%200.3034%09Upgini%09AutoFE%3A%20features%20from%20%3Ca%20href%3D%27https%3A%2F%2Fupgini.com%2F%23data_sources%27%20target%3D%27_blank%27%20rel%3D%27noopener%20noreferrer%27%3ECalendar%20data%3C%2Fa%3E,%3Ca%20href%3D%27https%3A%2F%2Fupgini.com%2F%23data_sources%27%20target%3D%27_blank%27%20rel%3D%27noopener%20noreferrer%27%3EMarkets%20data%3C%2Fa%3E%09Daily%0Af_autofe_div_40bee497%090.0005%09100.0%090.0018,%200.0018,%20-0.0006%09Upgini%09AutoFE%3A%20features%20from%20%3Ca%20href%3D%27https%3A%2F%2Fupgini.com%2F%23data_sources%27%20target%3D%27_blank%27%20rel%3D%27noopener%20noreferrer%27%3ECalendar%20data%3C%2Fa%3E,%3Ca%20href%3D%27https%3A%2F%2Fupgini.com%2F%23data_sources%27%20target%3D%27_blank%27%20rel%3D%27noopener%20noreferrer%27%3EMarkets%20data%3C%2Fa%3E%09Daily%0Af_weather_date_weather_pca_1_9e4af931%090.0005%09100.0%09-7.3948,%20-7.7043,%20-8.4298%09Upgini%09Weather%20%26%20climate%20normals%20data%09Daily%0Af_autofe_div_671f8233%090.0004%09100.0%09-0.1917,%20-1.0463,%20-0.2118%09Upgini%09AutoFE%3A%20features%20from%20%3Ca%20href%3D%27https%3A%2F%2Fupgini.com%2F%23data_sources%27%20target%3D%27_blank%27%20rel%3D%27noopener%20noreferrer%27%3ECalendar%20data%3C%2Fa%3E,%3Ca%20href%3D%27https%3A%2F%2Fupgini.com%2F%23data_sources%27%20target%3D%27_blank%27%20rel%3D%27noopener%20noreferrer%27%3EMarkets%20data%3C%2Fa%3E%09Daily%0Af_autofe_div_ab3bd138%090.0004%09100.0%090.9848,%200.9963,%201.1048%09Upgini%09AutoFE%3A%20features%20from%20%3Ca%20href%3D%27https%3A%2F%2Fupgini.com%2F%23data_sources%27%20target%3D%27_blank%27%20rel%3D%27noopener%20noreferrer%27%3EMarkets%20data%3C%2Fa%3E%09Daily%0Af_autofe_div_ab7c3e47%090.0004%09100.0%09-1.0735,%20-0.188,%200.5597%09Upgini%09AutoFE%3A%20features%20from%20%3Ca%20href%3D%27https%3A%2F%2Fupgini.com%2F%23data_sources%27%20target%3D%27_blank%27%20rel%3D%27noopener%20noreferrer%27%3ECalendar%20data%3C%2Fa%3E,%3Ca%20href%3D%27https%3A%2F%2Fupgini.com%2F%23data_sources%27%20target%3D%27_blank%27%20rel%3D%27noopener%20noreferrer%27%3EMarkets%20data%3C%2Fa%3E%09Daily%0Af_autofe_mul_364b79fa%090.0004%09100.0%090.6681,%200.6479,%200.9327%09Upgini%09AutoFE%3A%20features%20from%20%3Ca%20href%3D%27https%3A%2F%2Fupgini.com%2F%23data_sources%27%20target%3D%27_blank%27%20rel%3D%27noopener%20noreferrer%27%3ECalendar%20data%3C%2Fa%3E,%3Ca%20href%3D%27https%3A%2F%2Fupgini.com%2F%23data_sources%27%20target%3D%27_blank%27%20rel%3D%27noopener%20noreferrer%27%3EMarkets%20data%3C%2Fa%3E%09Daily%0Af_autofe_div_a86f907a%090.0003%09100.0%090.6276,%20-0.9444,%20-0.2195%09Upgini%09AutoFE%3A%20features%20from%20%3Ca%20href%3D%27https%3A%2F%2Fupgini.com%2F%23data_sources%27%20target%3D%27_blank%27%20rel%3D%27noopener%20noreferrer%27%3ECalendar%20data%3C%2Fa%3E,%3Ca%20href%3D%27https%3A%2F%2Fupgini.com%2F%23data_sources%27%20target%3D%27_blank%27%20rel%3D%27noopener%20noreferrer%27%3EMarkets%20data%3C%2Fa%3E%09Daily%0Af_autofe_div_66e46a80%090.0002%09100.0%09-0.936,%200.6158,%200.9802%09Upgini%09AutoFE%3A%20features%20from%20%3Ca%20href%3D%27https%3A%2F%2Fupgini.com%2F%23data_sources%27%20target%3D%27_blank%27%20rel%3D%27noopener%20noreferrer%27%3ECalendar%20data%3C%2Fa%3E,%3Ca%20href%3D%27https%3A%2F%2Fupgini.com%2F%23data_sources%27%20target%3D%27_blank%27%20rel%3D%27noopener%20noreferrer%27%3EMarkets%20data%3C%2Fa%3E%09Daily%0Af_autofe_div_d0993cdc%090.0002%09100.0%09287.9445,%20344.8388,%20372.6098%09Upgini%09AutoFE%3A%20features%20from%20%3Ca%20href%3D%27https%3A%2F%2Fupgini.com%2F%23data_sources%27%20target%3D%27_blank%27%20rel%3D%27noopener%20noreferrer%27%3EMarkets%20data%3C%2Fa%3E%09Daily%0Af_autofe_div_67b10df3%090.0002%09100.0%09-0.4138,%200.8321,%20-0.8456%09Upgini%09AutoFE%3A%20features%20from%20%3Ca%20href%3D%27https%3A%2F%2Fupgini.com%2F%23data_sources%27%20target%3D%27_blank%27%20rel%3D%27noopener%20noreferrer%27%3ECalendar%20data%3C%2Fa%3E%09Daily%0Af_autofe_div_69990bb4%090.0002%09100.0%09-1.0775,%20-1.1304,%200.8486%09Upgini%09AutoFE%3A%20features%20from%20%3Ca%20href%3D%27https%3A%2F%2Fupgini.com%2F%23data_sources%27%20target%3D%27_blank%27%20rel%3D%27noopener%20noreferrer%27%3ECalendar%20data%3C%2Fa%3E,%3Ca%20href%3D%27https%3A%2F%2Fupgini.com%2F%23data_sources%27%20target%3D%27_blank%27%20rel%3D%27noopener%20noreferrer%27%3EMarkets%20data%3C%2Fa%3E%09Daily%0Af_economic_date_cbpol_pca_9_bde660b4%090.0002%09100.0%09-1.0799,%202.2414,%201.3617%09Upgini%09World%20economic%20indicators%09Daily%0Af_autofe_div_22b77c5b%090.0002%09100.0%09-0.4718,%201.1641,%20-0.5019%09Upgini%09AutoFE%3A%20features%20from%20%3Ca%20href%3D%27https%3A%2F%2Fupgini.com%2F%23data_sources%27%20target%3D%27_blank%27%20rel%3D%27noopener%20noreferrer%27%3ECalendar%20data%3C%2Fa%3E,%3Ca%20href%3D%27https%3A%2F%2Fupgini.com%2F%23data_sources%27%20target%3D%27_blank%27%20rel%3D%27noopener%20noreferrer%27%3EMarkets%20data%3C%2Fa%3E%09Daily%0Af_autofe_div_fb99ff57%090.0002%09100.0%09300.05,%20359.4084,%20323.2229%09Upgini%09AutoFE%3A%20features%20from%20%3Ca%20href%3D%27https%3A%2F%2Fupgini.com%2F%23data_sources%27%20target%3D%27_blank%27%20rel%3D%27noopener%20noreferrer%27%3EMarkets%20data%3C%2Fa%3E%09Daily%0Af_autofe_mul_c883f8a6%090.0002%09100.0%09371.2577,%20459.5482,%20377.9167%09Upgini%09AutoFE%3A%20features%20from%20%3Ca%20href%3D%27https%3A%2F%2Fupgini.com%2F%23data_sources%27%20target%3D%27_blank%27%20rel%3D%27noopener%20noreferrer%27%3EMarkets%20data%3C%2Fa%3E%09Daily%0Af_events_date_year_sin2_59955ffd%090.0002%09100.0%09-0.5307,%20-0.7568,%20-0.622%09Upgini%09Calendar%20data%09Daily%0Af_autofe_mul_6a97c336%090.0001%09100.0%090.8698,%200.4959,%200.5189%09Upgini%09AutoFE%3A%20features%20from%20%3Ca%20href%3D%27https%3A%2F%2Fupgini.com%2F%23data_sources%27%20target%3D%27_blank%27%20rel%3D%27noopener%20noreferrer%27%3ECalendar%20data%3C%2Fa%3E,%3Ca%20href%3D%27https%3A%2F%2Fupgini.com%2F%23data_sources%27%20target%3D%27_blank%27%20rel%3D%27noopener%20noreferrer%27%3EMarkets%20data%3C%2Fa%3E%09Daily%0Af_autofe_div_0016ede5%090.0001%09100.0%0975.0392,%2090.4718,%2059.7467%09Upgini%09AutoFE%3A%20features%20from%20%3Ca%20href%3D%27https%3A%2F%2Fupgini.com%2F%23data_sources%27%20target%3D%27_blank%27%20rel%3D%27noopener%20noreferrer%27%3EMarkets%20data%3C%2Fa%3E%09Daily%0Af_autofe_mul_44503c6f%090.0001%09100.0%091.2157,%203.8214,%201.9848%09Upgini%09AutoFE%3A%20features%20from%20%3Ca%20href%3D%27https%3A%2F%2Fupgini.com%2F%23data_sources%27%20target%3D%27_blank%27%20rel%3D%27noopener%20noreferrer%27%3EMarkets%20data%3C%2Fa%3E%09Daily%0Af_autofe_mul_8c2f1d42%090.0001%09100.0%09-0.1159,%200.8696,%200.1407%09Upgini%09AutoFE%3A%20features%20from%20%3Ca%20href%3D%27https%3A%2F%2Fupgini.com%2F%23data_sources%27%20target%3D%27_blank%27%20rel%3D%27noopener%20noreferrer%27%3ECalendar%20data%3C%2Fa%3E%09Daily%0Af_autofe_mul_8437d645%090.0001%09100.0%09-19.1168,%20-88.2499,%2056.2325%09Upgini%09AutoFE%3A%20features%20from%20%3Ca%20href%3D%27https%3A%2F%2Fupgini.com%2F%23data_sources%27%20target%3D%27_blank%27%20rel%3D%27noopener%20noreferrer%27%3ECalendar%20data%3C%2Fa%3E,%3Ca%20href%3D%27https%3A%2F%2Fupgini.com%2F%23data_sources%27%20target%3D%27_blank%27%20rel%3D%27noopener%20noreferrer%27%3EMarkets%20data%3C%2Fa%3E%09Daily%0Af_autofe_mul_3e749d53%090.0001%09100.0%09-1.1073,%200.8477,%20-1.2181%09Upgini%09AutoFE%3A%20features%20from%20%3Ca%20href%3D%27https%3A%2F%2Fupgini.com%2F%23data_sources%27%20target%3D%27_blank%27%20rel%3D%27noopener%20noreferrer%27%3ECalendar%20data%3C%2Fa%3E,%3Ca%20href%3D%27https%3A%2F%2Fupgini.com%2F%23data_sources%27%20target%3D%27_blank%27%20rel%3D%27noopener%20noreferrer%27%3EMarkets%20data%3C%2Fa%3E%09Daily%0Af_autofe_div_ef42018c%090.0001%09100.0%090.9863,%201.0142,%201.0148%09Upgini%09AutoFE%3A%20features%20from%20%3Ca%20href%3D%27https%3A%2F%2Fupgini.com%2F%23data_sources%27%20target%3D%27_blank%27%20rel%3D%27noopener%20noreferrer%27%3EMarkets%20data%3C%2Fa%3E%09Daily%0A'))>📂 Copy</button>\n",
              "                <a href='mailto:<Share with...>?subject=Relevant external data sources from Upgini.com&body=Feature%20name%09SHAP%20value%09Coverage%20%25%09Value%20preview%09Provider%09Source%09Updates%0Af_weather_date_weather_umap_34_c3ef5b4f%090.0497%09100.0%094.7962,%204.8648,%205.4959%09Upgini%09Weather%20%26%20climate%20normals%20data%09Daily%0Af_autofe_div_029f75a6%090.0175%09100.0%090.6054,%20-0.6231,%20-0.7663%09Upgini%09AutoFE%3A%20features%20from%20%3Ca%20href%3D%27https%3A%2F%2Fupgini.com%2F%23data_sources%27%20target%3D%27_blank%27%20rel%3D%27noopener%20noreferrer%27%3ECalendar%20data%3C%2Fa%3E,%3Ca%20href%3D%27https%3A%2F%2Fupgini.com%2F%23data_sources%27%20target%3D%27_blank%27%20rel%3D%27noopener%20noreferrer%27%3EMarkets%20data%3C%2Fa%3E%09Daily%0Af_weather_date_weather_pca_0_d7e0a1fc%090.0122%09100.0%09-24.3929,%2027.4126,%2029.1972%09Upgini%09Weather%20%26%20climate%20normals%20data%09Daily%0Af_autofe_div_50507976%090.0102%09100.0%090.062,%20-0.0187,%20-0.0344%09Upgini%09AutoFE%3A%20features%20from%20%3Ca%20href%3D%27https%3A%2F%2Fupgini.com%2F%23data_sources%27%20target%3D%27_blank%27%20rel%3D%27noopener%20noreferrer%27%3ECalendar%20data%3C%2Fa%3E,%3Ca%20href%3D%27https%3A%2F%2Fupgini.com%2F%23data_sources%27%20target%3D%27_blank%27%20rel%3D%27noopener%20noreferrer%27%3EMarkets%20data%3C%2Fa%3E%09Daily%0Af_autofe_mul_6793ee4f%090.0077%09100.0%0911.4333,%2013.8049,%2011.0425%09Upgini%09AutoFE%3A%20features%20from%20%3Ca%20href%3D%27https%3A%2F%2Fupgini.com%2F%23data_sources%27%20target%3D%27_blank%27%20rel%3D%27noopener%20noreferrer%27%3ECalendar%20data%3C%2Fa%3E,%3Ca%20href%3D%27https%3A%2F%2Fupgini.com%2F%23data_sources%27%20target%3D%27_blank%27%20rel%3D%27noopener%20noreferrer%27%3EMarkets%20data%3C%2Fa%3E%09Daily%0Af_autofe_mul_34d11bc4%090.0064%09100.0%0914.3158,%2018.7785,%2019.4271%09Upgini%09AutoFE%3A%20features%20from%20%3Ca%20href%3D%27https%3A%2F%2Fupgini.com%2F%23data_sources%27%20target%3D%27_blank%27%20rel%3D%27noopener%20noreferrer%27%3ECalendar%20data%3C%2Fa%3E,%3Ca%20href%3D%27https%3A%2F%2Fupgini.com%2F%23data_sources%27%20target%3D%27_blank%27%20rel%3D%27noopener%20noreferrer%27%3EMarkets%20data%3C%2Fa%3E%09Daily%0Af_autofe_div_1edd5009%090.0061%09100.0%09-0.0434,%20-0.088,%20-0.0967%09Upgini%09AutoFE%3A%20features%20from%20%3Ca%20href%3D%27https%3A%2F%2Fupgini.com%2F%23data_sources%27%20target%3D%27_blank%27%20rel%3D%27noopener%20noreferrer%27%3ECalendar%20data%3C%2Fa%3E,%3Ca%20href%3D%27https%3A%2F%2Fupgini.com%2F%23data_sources%27%20target%3D%27_blank%27%20rel%3D%27noopener%20noreferrer%27%3EMarkets%20data%3C%2Fa%3E%09Daily%0Af_autofe_div_50a5dcaf%090.0058%09100.0%09-0.3497,%20-0.836,%20-0.9408%09Upgini%09AutoFE%3A%20features%20from%20%3Ca%20href%3D%27https%3A%2F%2Fupgini.com%2F%23data_sources%27%20target%3D%27_blank%27%20rel%3D%27noopener%20noreferrer%27%3ECalendar%20data%3C%2Fa%3E,%3Ca%20href%3D%27https%3A%2F%2Fupgini.com%2F%23data_sources%27%20target%3D%27_blank%27%20rel%3D%27noopener%20noreferrer%27%3EMarkets%20data%3C%2Fa%3E%09Daily%0Af_autofe_mul_6234ba3a%090.0055%09100.0%090.708,%201.0918,%200.8102%09Upgini%09AutoFE%3A%20features%20from%20%3Ca%20href%3D%27https%3A%2F%2Fupgini.com%2F%23data_sources%27%20target%3D%27_blank%27%20rel%3D%27noopener%20noreferrer%27%3EMarkets%20data%3C%2Fa%3E%09Daily%0Af_autofe_div_3e22df83%090.0042%09100.0%090.0081,%20-0.0102,%200.0044%09Upgini%09AutoFE%3A%20features%20from%20%3Ca%20href%3D%27https%3A%2F%2Fupgini.com%2F%23data_sources%27%20target%3D%27_blank%27%20rel%3D%27noopener%20noreferrer%27%3ECalendar%20data%3C%2Fa%3E,%3Ca%20href%3D%27https%3A%2F%2Fupgini.com%2F%23data_sources%27%20target%3D%27_blank%27%20rel%3D%27noopener%20noreferrer%27%3EMarkets%20data%3C%2Fa%3E%09Daily%0Af_autofe_div_89c56a5f%090.0041%09100.0%09-0.8574,%20-0.7662,%201.155%09Upgini%09AutoFE%3A%20features%20from%20%3Ca%20href%3D%27https%3A%2F%2Fupgini.com%2F%23data_sources%27%20target%3D%27_blank%27%20rel%3D%27noopener%20noreferrer%27%3ECalendar%20data%3C%2Fa%3E,%3Ca%20href%3D%27https%3A%2F%2Fupgini.com%2F%23data_sources%27%20target%3D%27_blank%27%20rel%3D%27noopener%20noreferrer%27%3EMarkets%20data%3C%2Fa%3E%09Daily%0Af_autofe_mul_478be4f3%090.0038%09100.0%091.3429,%200.0567,%20-0.7238%09Upgini%09AutoFE%3A%20features%20from%20%3Ca%20href%3D%27https%3A%2F%2Fupgini.com%2F%23data_sources%27%20target%3D%27_blank%27%20rel%3D%27noopener%20noreferrer%27%3ECalendar%20data%3C%2Fa%3E,%3Ca%20href%3D%27https%3A%2F%2Fupgini.com%2F%23data_sources%27%20target%3D%27_blank%27%20rel%3D%27noopener%20noreferrer%27%3EMarkets%20data%3C%2Fa%3E%09Daily%0Af_autofe_div_534d01d5%090.0036%09100.0%09-0.0013,%20-0.002,%200.0027%09Upgini%09AutoFE%3A%20features%20from%20%3Ca%20href%3D%27https%3A%2F%2Fupgini.com%2F%23data_sources%27%20target%3D%27_blank%27%20rel%3D%27noopener%20noreferrer%27%3ECalendar%20data%3C%2Fa%3E,%3Ca%20href%3D%27https%3A%2F%2Fupgini.com%2F%23data_sources%27%20target%3D%27_blank%27%20rel%3D%27noopener%20noreferrer%27%3EMarkets%20data%3C%2Fa%3E%09Daily%0Af_autofe_div_cf5dd7be%090.0036%09100.0%09-1.2951,%201.0708,%20-1.092%09Upgini%09AutoFE%3A%20features%20from%20%3Ca%20href%3D%27https%3A%2F%2Fupgini.com%2F%23data_sources%27%20target%3D%27_blank%27%20rel%3D%27noopener%20noreferrer%27%3ECalendar%20data%3C%2Fa%3E,%3Ca%20href%3D%27https%3A%2F%2Fupgini.com%2F%23data_sources%27%20target%3D%27_blank%27%20rel%3D%27noopener%20noreferrer%27%3EMarkets%20data%3C%2Fa%3E%09Daily%0Af_weather_date_weather_umap_13_842ae1fc%090.0032%09100.0%095.2316,%205.3125,%205.2887%09Upgini%09Weather%20%26%20climate%20normals%20data%09Daily%0Af_events_date_year_cos1_9014a856%090.0032%09100.0%09-0.133,%20-0.9917,%200.7611%09Upgini%09Calendar%20data%09Daily%0Af_autofe_mul_3cb64162%090.0031%09100.0%090.1179,%20-0.0737,%200.7749%09Upgini%09AutoFE%3A%20features%20from%20%3Ca%20href%3D%27https%3A%2F%2Fupgini.com%2F%23data_sources%27%20target%3D%27_blank%27%20rel%3D%27noopener%20noreferrer%27%3ECalendar%20data%3C%2Fa%3E,%3Ca%20href%3D%27https%3A%2F%2Fupgini.com%2F%23data_sources%27%20target%3D%27_blank%27%20rel%3D%27noopener%20noreferrer%27%3EMarkets%20data%3C%2Fa%3E%09Daily%0Af_autofe_div_380598ae%090.0031%09100.0%09-0.2122,%20-0.2184,%200.636%09Upgini%09AutoFE%3A%20features%20from%20%3Ca%20href%3D%27https%3A%2F%2Fupgini.com%2F%23data_sources%27%20target%3D%27_blank%27%20rel%3D%27noopener%20noreferrer%27%3ECalendar%20data%3C%2Fa%3E,%3Ca%20href%3D%27https%3A%2F%2Fupgini.com%2F%23data_sources%27%20target%3D%27_blank%27%20rel%3D%27noopener%20noreferrer%27%3EMarkets%20data%3C%2Fa%3E%09Daily%0Af_autofe_div_f0159558%090.003%09100.0%091.1222,%200.8814,%201.0249%09Upgini%09AutoFE%3A%20features%20from%20%3Ca%20href%3D%27https%3A%2F%2Fupgini.com%2F%23data_sources%27%20target%3D%27_blank%27%20rel%3D%27noopener%20noreferrer%27%3EMarkets%20data%3C%2Fa%3E%09Daily%0Af_autofe_div_c9ddcb38%090.003%09100.0%09-1.1072,%20-0.2414,%200.5586%09Upgini%09AutoFE%3A%20features%20from%20%3Ca%20href%3D%27https%3A%2F%2Fupgini.com%2F%23data_sources%27%20target%3D%27_blank%27%20rel%3D%27noopener%20noreferrer%27%3ECalendar%20data%3C%2Fa%3E,%3Ca%20href%3D%27https%3A%2F%2Fupgini.com%2F%23data_sources%27%20target%3D%27_blank%27%20rel%3D%27noopener%20noreferrer%27%3EMarkets%20data%3C%2Fa%3E%09Daily%0Af_autofe_mul_b49258bb%090.0029%09100.0%09-145.2556,%20127.9089,%20302.4593%09Upgini%09AutoFE%3A%20features%20from%20%3Ca%20href%3D%27https%3A%2F%2Fupgini.com%2F%23data_sources%27%20target%3D%27_blank%27%20rel%3D%27noopener%20noreferrer%27%3ECalendar%20data%3C%2Fa%3E,%3Ca%20href%3D%27https%3A%2F%2Fupgini.com%2F%23data_sources%27%20target%3D%27_blank%27%20rel%3D%27noopener%20noreferrer%27%3EMarkets%20data%3C%2Fa%3E%09Daily%0Af_autofe_mul_0cc09d2d%090.0027%09100.0%09-81.2585,%20-47.9999,%20-74.0039%09Upgini%09AutoFE%3A%20features%20from%20%3Ca%20href%3D%27https%3A%2F%2Fupgini.com%2F%23data_sources%27%20target%3D%27_blank%27%20rel%3D%27noopener%20noreferrer%27%3ECalendar%20data%3C%2Fa%3E,%3Ca%20href%3D%27https%3A%2F%2Fupgini.com%2F%23data_sources%27%20target%3D%27_blank%27%20rel%3D%27noopener%20noreferrer%27%3EMarkets%20data%3C%2Fa%3E%09Daily%0Af_autofe_mul_5bd50798%090.0024%09100.0%090.7783,%200.7606,%20-1.1822%09Upgini%09AutoFE%3A%20features%20from%20%3Ca%20href%3D%27https%3A%2F%2Fupgini.com%2F%23data_sources%27%20target%3D%27_blank%27%20rel%3D%27noopener%20noreferrer%27%3ECalendar%20data%3C%2Fa%3E,%3Ca%20href%3D%27https%3A%2F%2Fupgini.com%2F%23data_sources%27%20target%3D%27_blank%27%20rel%3D%27noopener%20noreferrer%27%3EMarkets%20data%3C%2Fa%3E%09Daily%0Af_autofe_mul_af6d166b%090.0024%09100.0%091.4691,%20-0.194,%200.827%09Upgini%09AutoFE%3A%20features%20from%20%3Ca%20href%3D%27https%3A%2F%2Fupgini.com%2F%23data_sources%27%20target%3D%27_blank%27%20rel%3D%27noopener%20noreferrer%27%3ECalendar%20data%3C%2Fa%3E,%3Ca%20href%3D%27https%3A%2F%2Fupgini.com%2F%23data_sources%27%20target%3D%27_blank%27%20rel%3D%27noopener%20noreferrer%27%3EMarkets%20data%3C%2Fa%3E%09Daily%0Af_autofe_mul_08e89348%090.0022%09100.0%0952.7631,%20-95.4259,%20-20.0498%09Upgini%09AutoFE%3A%20features%20from%20%3Ca%20href%3D%27https%3A%2F%2Fupgini.com%2F%23data_sources%27%20target%3D%27_blank%27%20rel%3D%27noopener%20noreferrer%27%3ECalendar%20data%3C%2Fa%3E,%3Ca%20href%3D%27https%3A%2F%2Fupgini.com%2F%23data_sources%27%20target%3D%27_blank%27%20rel%3D%27noopener%20noreferrer%27%3EMarkets%20data%3C%2Fa%3E%09Daily%0Af_autofe_mul_25296268%090.002%09100.0%090.4776,%20-0.7721,%20-0.4622%09Upgini%09AutoFE%3A%20features%20from%20%3Ca%20href%3D%27https%3A%2F%2Fupgini.com%2F%23data_sources%27%20target%3D%27_blank%27%20rel%3D%27noopener%20noreferrer%27%3ECalendar%20data%3C%2Fa%3E,%3Ca%20href%3D%27https%3A%2F%2Fupgini.com%2F%23data_sources%27%20target%3D%27_blank%27%20rel%3D%27noopener%20noreferrer%27%3EMarkets%20data%3C%2Fa%3E%09Daily%0Af_weather_date_weather_umap_16_25ac8b87%090.0018%09100.0%095.3772,%205.787,%205.8579%09Upgini%09Weather%20%26%20climate%20normals%20data%09Daily%0Af_autofe_div_5665c21b%090.0017%09100.0%090.6276,%20-0.2232,%20-0.8367%09Upgini%09AutoFE%3A%20features%20from%20%3Ca%20href%3D%27https%3A%2F%2Fupgini.com%2F%23data_sources%27%20target%3D%27_blank%27%20rel%3D%27noopener%20noreferrer%27%3ECalendar%20data%3C%2Fa%3E,%3Ca%20href%3D%27https%3A%2F%2Fupgini.com%2F%23data_sources%27%20target%3D%27_blank%27%20rel%3D%27noopener%20noreferrer%27%3EMarkets%20data%3C%2Fa%3E%09Daily%0Af_autofe_div_a152c923%090.0016%09100.0%09-0.0022,%20-0.0029,%20-0.0018%09Upgini%09AutoFE%3A%20features%20from%20%3Ca%20href%3D%27https%3A%2F%2Fupgini.com%2F%23data_sources%27%20target%3D%27_blank%27%20rel%3D%27noopener%20noreferrer%27%3ECalendar%20data%3C%2Fa%3E,%3Ca%20href%3D%27https%3A%2F%2Fupgini.com%2F%23data_sources%27%20target%3D%27_blank%27%20rel%3D%27noopener%20noreferrer%27%3EMarkets%20data%3C%2Fa%3E%09Daily%0Af_autofe_div_0a5adf97%090.0015%09100.0%09-0.2304,%200.0347,%20-0.2575%09Upgini%09AutoFE%3A%20features%20from%20%3Ca%20href%3D%27https%3A%2F%2Fupgini.com%2F%23data_sources%27%20target%3D%27_blank%27%20rel%3D%27noopener%20noreferrer%27%3ECalendar%20data%3C%2Fa%3E,%3Ca%20href%3D%27https%3A%2F%2Fupgini.com%2F%23data_sources%27%20target%3D%27_blank%27%20rel%3D%27noopener%20noreferrer%27%3EMarkets%20data%3C%2Fa%3E%09Daily%0Af_autofe_mul_4c9c7d0a%090.0014%09100.0%090.947,%200.6863,%200.7061%09Upgini%09AutoFE%3A%20features%20from%20%3Ca%20href%3D%27https%3A%2F%2Fupgini.com%2F%23data_sources%27%20target%3D%27_blank%27%20rel%3D%27noopener%20noreferrer%27%3EMarkets%20data%3C%2Fa%3E%09Daily%0Af_autofe_mul_cd42199d%090.0012%09100.0%09-0.6429,%202.1903,%20-2.9336%09Upgini%09AutoFE%3A%20features%20from%20%3Ca%20href%3D%27https%3A%2F%2Fupgini.com%2F%23data_sources%27%20target%3D%27_blank%27%20rel%3D%27noopener%20noreferrer%27%3ECalendar%20data%3C%2Fa%3E,%3Ca%20href%3D%27https%3A%2F%2Fupgini.com%2F%23data_sources%27%20target%3D%27_blank%27%20rel%3D%27noopener%20noreferrer%27%3EMarkets%20data%3C%2Fa%3E%09Daily%0Af_autofe_mul_45a3c004%090.0011%09100.0%09-5.2938,%20-14.6146,%20-13.61%09Upgini%09AutoFE%3A%20features%20from%20%3Ca%20href%3D%27https%3A%2F%2Fupgini.com%2F%23data_sources%27%20target%3D%27_blank%27%20rel%3D%27noopener%20noreferrer%27%3ECalendar%20data%3C%2Fa%3E,%3Ca%20href%3D%27https%3A%2F%2Fupgini.com%2F%23data_sources%27%20target%3D%27_blank%27%20rel%3D%27noopener%20noreferrer%27%3EMarkets%20data%3C%2Fa%3E%09Daily%0Af_autofe_mul_165c74ad%090.001%09100.0%09-0.4861,%20-0.8515,%200.8759%09Upgini%09AutoFE%3A%20features%20from%20%3Ca%20href%3D%27https%3A%2F%2Fupgini.com%2F%23data_sources%27%20target%3D%27_blank%27%20rel%3D%27noopener%20noreferrer%27%3ECalendar%20data%3C%2Fa%3E,%3Ca%20href%3D%27https%3A%2F%2Fupgini.com%2F%23data_sources%27%20target%3D%27_blank%27%20rel%3D%27noopener%20noreferrer%27%3EMarkets%20data%3C%2Fa%3E%09Daily%0Af_autofe_mul_049f502d%090.0009%09100.0%09-384.2971,%20130.5469,%20364.7985%09Upgini%09AutoFE%3A%20features%20from%20%3Ca%20href%3D%27https%3A%2F%2Fupgini.com%2F%23data_sources%27%20target%3D%27_blank%27%20rel%3D%27noopener%20noreferrer%27%3ECalendar%20data%3C%2Fa%3E,%3Ca%20href%3D%27https%3A%2F%2Fupgini.com%2F%23data_sources%27%20target%3D%27_blank%27%20rel%3D%27noopener%20noreferrer%27%3EMarkets%20data%3C%2Fa%3E%09Daily%0Af_autofe_mul_9a4ab68c%090.0009%09100.0%09-3.2864,%2014.043,%209.7913%09Upgini%09AutoFE%3A%20features%20from%20%3Ca%20href%3D%27https%3A%2F%2Fupgini.com%2F%23data_sources%27%20target%3D%27_blank%27%20rel%3D%27noopener%20noreferrer%27%3ECalendar%20data%3C%2Fa%3E,%3Ca%20href%3D%27https%3A%2F%2Fupgini.com%2F%23data_sources%27%20target%3D%27_blank%27%20rel%3D%27noopener%20noreferrer%27%3EMarkets%20data%3C%2Fa%3E%09Daily%0Af_autofe_mul_eff3c92e%090.0008%09100.0%091.2003,%201.465,%200.6559%09Upgini%09AutoFE%3A%20features%20from%20%3Ca%20href%3D%27https%3A%2F%2Fupgini.com%2F%23data_sources%27%20target%3D%27_blank%27%20rel%3D%27noopener%20noreferrer%27%3EMarkets%20data%3C%2Fa%3E%09Daily%0Af_autofe_div_66be9f98%090.0008%09100.0%09-0.206,%20-0.8183,%200.5609%09Upgini%09AutoFE%3A%20features%20from%20%3Ca%20href%3D%27https%3A%2F%2Fupgini.com%2F%23data_sources%27%20target%3D%27_blank%27%20rel%3D%27noopener%20noreferrer%27%3ECalendar%20data%3C%2Fa%3E,%3Ca%20href%3D%27https%3A%2F%2Fupgini.com%2F%23data_sources%27%20target%3D%27_blank%27%20rel%3D%27noopener%20noreferrer%27%3EMarkets%20data%3C%2Fa%3E%09Daily%0Af_autofe_mul_dfd3cddf%090.0008%09100.0%090.4322,%20-0.3238,%20-0.3983%09Upgini%09AutoFE%3A%20features%20from%20%3Ca%20href%3D%27https%3A%2F%2Fupgini.com%2F%23data_sources%27%20target%3D%27_blank%27%20rel%3D%27noopener%20noreferrer%27%3ECalendar%20data%3C%2Fa%3E,%3Ca%20href%3D%27https%3A%2F%2Fupgini.com%2F%23data_sources%27%20target%3D%27_blank%27%20rel%3D%27noopener%20noreferrer%27%3EMarkets%20data%3C%2Fa%3E%09Daily%0Af_autofe_div_270d64a2%090.0007%09100.0%09-0.2088,%201.7258,%20-1.2915%09Upgini%09AutoFE%3A%20features%20from%20%3Ca%20href%3D%27https%3A%2F%2Fupgini.com%2F%23data_sources%27%20target%3D%27_blank%27%20rel%3D%27noopener%20noreferrer%27%3ECalendar%20data%3C%2Fa%3E,%3Ca%20href%3D%27https%3A%2F%2Fupgini.com%2F%23data_sources%27%20target%3D%27_blank%27%20rel%3D%27noopener%20noreferrer%27%3EMarkets%20data%3C%2Fa%3E%09Daily%0Af_financial_date_nasdaq_7d_to_1y_b00bfaa7%090.0007%09100.0%091.0793,%201.0706,%201.1202%09Upgini%09Markets%20data%09Daily%0Af_autofe_mul_693c8d50%090.0006%09100.0%090.6204,%20-0.2247,%200.6203%09Upgini%09AutoFE%3A%20features%20from%20%3Ca%20href%3D%27https%3A%2F%2Fupgini.com%2F%23data_sources%27%20target%3D%27_blank%27%20rel%3D%27noopener%20noreferrer%27%3ECalendar%20data%3C%2Fa%3E,%3Ca%20href%3D%27https%3A%2F%2Fupgini.com%2F%23data_sources%27%20target%3D%27_blank%27%20rel%3D%27noopener%20noreferrer%27%3EMarkets%20data%3C%2Fa%3E%09Daily%0Af_autofe_div_c2f55b86%090.0006%09100.0%09-0.0006,%200.0027,%20-0.0006%09Upgini%09AutoFE%3A%20features%20from%20%3Ca%20href%3D%27https%3A%2F%2Fupgini.com%2F%23data_sources%27%20target%3D%27_blank%27%20rel%3D%27noopener%20noreferrer%27%3ECalendar%20data%3C%2Fa%3E,%3Ca%20href%3D%27https%3A%2F%2Fupgini.com%2F%23data_sources%27%20target%3D%27_blank%27%20rel%3D%27noopener%20noreferrer%27%3EMarkets%20data%3C%2Fa%3E%09Daily%0Af_autofe_mul_041b52f4%090.0005%09100.0%09-0.5798,%20-0.8619,%20-0.183%09Upgini%09AutoFE%3A%20features%20from%20%3Ca%20href%3D%27https%3A%2F%2Fupgini.com%2F%23data_sources%27%20target%3D%27_blank%27%20rel%3D%27noopener%20noreferrer%27%3ECalendar%20data%3C%2Fa%3E%09Daily%0Af_autofe_mul_b0ac774f%090.0005%09100.0%090.9033,%20-0.7118,%200.3034%09Upgini%09AutoFE%3A%20features%20from%20%3Ca%20href%3D%27https%3A%2F%2Fupgini.com%2F%23data_sources%27%20target%3D%27_blank%27%20rel%3D%27noopener%20noreferrer%27%3ECalendar%20data%3C%2Fa%3E,%3Ca%20href%3D%27https%3A%2F%2Fupgini.com%2F%23data_sources%27%20target%3D%27_blank%27%20rel%3D%27noopener%20noreferrer%27%3EMarkets%20data%3C%2Fa%3E%09Daily%0Af_autofe_div_40bee497%090.0005%09100.0%090.0018,%200.0018,%20-0.0006%09Upgini%09AutoFE%3A%20features%20from%20%3Ca%20href%3D%27https%3A%2F%2Fupgini.com%2F%23data_sources%27%20target%3D%27_blank%27%20rel%3D%27noopener%20noreferrer%27%3ECalendar%20data%3C%2Fa%3E,%3Ca%20href%3D%27https%3A%2F%2Fupgini.com%2F%23data_sources%27%20target%3D%27_blank%27%20rel%3D%27noopener%20noreferrer%27%3EMarkets%20data%3C%2Fa%3E%09Daily%0Af_weather_date_weather_pca_1_9e4af931%090.0005%09100.0%09-7.3948,%20-7.7043,%20-8.4298%09Upgini%09Weather%20%26%20climate%20normals%20data%09Daily%0Af_autofe_div_671f8233%090.0004%09100.0%09-0.1917,%20-1.0463,%20-0.2118%09Upgini%09AutoFE%3A%20features%20from%20%3Ca%20href%3D%27https%3A%2F%2Fupgini.com%2F%23data_sources%27%20target%3D%27_blank%27%20rel%3D%27noopener%20noreferrer%27%3ECalendar%20data%3C%2Fa%3E,%3Ca%20href%3D%27https%3A%2F%2Fupgini.com%2F%23data_sources%27%20target%3D%27_blank%27%20rel%3D%27noopener%20noreferrer%27%3EMarkets%20data%3C%2Fa%3E%09Daily%0Af_autofe_div_ab3bd138%090.0004%09100.0%090.9848,%200.9963,%201.1048%09Upgini%09AutoFE%3A%20features%20from%20%3Ca%20href%3D%27https%3A%2F%2Fupgini.com%2F%23data_sources%27%20target%3D%27_blank%27%20rel%3D%27noopener%20noreferrer%27%3EMarkets%20data%3C%2Fa%3E%09Daily%0Af_autofe_div_ab7c3e47%090.0004%09100.0%09-1.0735,%20-0.188,%200.5597%09Upgini%09AutoFE%3A%20features%20from%20%3Ca%20href%3D%27https%3A%2F%2Fupgini.com%2F%23data_sources%27%20target%3D%27_blank%27%20rel%3D%27noopener%20noreferrer%27%3ECalendar%20data%3C%2Fa%3E,%3Ca%20href%3D%27https%3A%2F%2Fupgini.com%2F%23data_sources%27%20target%3D%27_blank%27%20rel%3D%27noopener%20noreferrer%27%3EMarkets%20data%3C%2Fa%3E%09Daily%0Af_autofe_mul_364b79fa%090.0004%09100.0%090.6681,%200.6479,%200.9327%09Upgini%09AutoFE%3A%20features%20from%20%3Ca%20href%3D%27https%3A%2F%2Fupgini.com%2F%23data_sources%27%20target%3D%27_blank%27%20rel%3D%27noopener%20noreferrer%27%3ECalendar%20data%3C%2Fa%3E,%3Ca%20href%3D%27https%3A%2F%2Fupgini.com%2F%23data_sources%27%20target%3D%27_blank%27%20rel%3D%27noopener%20noreferrer%27%3EMarkets%20data%3C%2Fa%3E%09Daily%0Af_autofe_div_a86f907a%090.0003%09100.0%090.6276,%20-0.9444,%20-0.2195%09Upgini%09AutoFE%3A%20features%20from%20%3Ca%20href%3D%27https%3A%2F%2Fupgini.com%2F%23data_sources%27%20target%3D%27_blank%27%20rel%3D%27noopener%20noreferrer%27%3ECalendar%20data%3C%2Fa%3E,%3Ca%20href%3D%27https%3A%2F%2Fupgini.com%2F%23data_sources%27%20target%3D%27_blank%27%20rel%3D%27noopener%20noreferrer%27%3EMarkets%20data%3C%2Fa%3E%09Daily%0Af_autofe_div_66e46a80%090.0002%09100.0%09-0.936,%200.6158,%200.9802%09Upgini%09AutoFE%3A%20features%20from%20%3Ca%20href%3D%27https%3A%2F%2Fupgini.com%2F%23data_sources%27%20target%3D%27_blank%27%20rel%3D%27noopener%20noreferrer%27%3ECalendar%20data%3C%2Fa%3E,%3Ca%20href%3D%27https%3A%2F%2Fupgini.com%2F%23data_sources%27%20target%3D%27_blank%27%20rel%3D%27noopener%20noreferrer%27%3EMarkets%20data%3C%2Fa%3E%09Daily%0Af_autofe_div_d0993cdc%090.0002%09100.0%09287.9445,%20344.8388,%20372.6098%09Upgini%09AutoFE%3A%20features%20from%20%3Ca%20href%3D%27https%3A%2F%2Fupgini.com%2F%23data_sources%27%20target%3D%27_blank%27%20rel%3D%27noopener%20noreferrer%27%3EMarkets%20data%3C%2Fa%3E%09Daily%0Af_autofe_div_67b10df3%090.0002%09100.0%09-0.4138,%200.8321,%20-0.8456%09Upgini%09AutoFE%3A%20features%20from%20%3Ca%20href%3D%27https%3A%2F%2Fupgini.com%2F%23data_sources%27%20target%3D%27_blank%27%20rel%3D%27noopener%20noreferrer%27%3ECalendar%20data%3C%2Fa%3E%09Daily%0Af_autofe_div_69990bb4%090.0002%09100.0%09-1.0775,%20-1.1304,%200.8486%09Upgini%09AutoFE%3A%20features%20from%20%3Ca%20href%3D%27https%3A%2F%2Fupgini.com%2F%23data_sources%27%20target%3D%27_blank%27%20rel%3D%27noopener%20noreferrer%27%3ECalendar%20data%3C%2Fa%3E,%3Ca%20href%3D%27https%3A%2F%2Fupgini.com%2F%23data_sources%27%20target%3D%27_blank%27%20rel%3D%27noopener%20noreferrer%27%3EMarkets%20data%3C%2Fa%3E%09Daily%0Af_economic_date_cbpol_pca_9_bde660b4%090.0002%09100.0%09-1.0799,%202.2414,%201.3617%09Upgini%09World%20economic%20indicators%09Daily%0Af_autofe_div_22b77c5b%090.0002%09100.0%09-0.4718,%201.1641,%20-0.5019%09Upgini%09AutoFE%3A%20features%20from%20%3Ca%20href%3D%27https%3A%2F%2Fupgini.com%2F%23data_sources%27%20target%3D%27_blank%27%20rel%3D%27noopener%20noreferrer%27%3ECalendar%20data%3C%2Fa%3E,%3Ca%20href%3D%27https%3A%2F%2Fupgini.com%2F%23data_sources%27%20target%3D%27_blank%27%20rel%3D%27noopener%20noreferrer%27%3EMarkets%20data%3C%2Fa%3E%09Daily%0Af_autofe_div_fb99ff57%090.0002%09100.0%09300.05,%20359.4084,%20323.2229%09Upgini%09AutoFE%3A%20features%20from%20%3Ca%20href%3D%27https%3A%2F%2Fupgini.com%2F%23data_sources%27%20target%3D%27_blank%27%20rel%3D%27noopener%20noreferrer%27%3EMarkets%20data%3C%2Fa%3E%09Daily%0Af_autofe_mul_c883f8a6%090.0002%09100.0%09371.2577,%20459.5482,%20377.9167%09Upgini%09AutoFE%3A%20features%20from%20%3Ca%20href%3D%27https%3A%2F%2Fupgini.com%2F%23data_sources%27%20target%3D%27_blank%27%20rel%3D%27noopener%20noreferrer%27%3EMarkets%20data%3C%2Fa%3E%09Daily%0Af_events_date_year_sin2_59955ffd%090.0002%09100.0%09-0.5307,%20-0.7568,%20-0.622%09Upgini%09Calendar%20data%09Daily%0Af_autofe_mul_6a97c336%090.0001%09100.0%090.8698,%200.4959,%200.5189%09Upgini%09AutoFE%3A%20features%20from%20%3Ca%20href%3D%27https%3A%2F%2Fupgini.com%2F%23data_sources%27%20target%3D%27_blank%27%20rel%3D%27noopener%20noreferrer%27%3ECalendar%20data%3C%2Fa%3E,%3Ca%20href%3D%27https%3A%2F%2Fupgini.com%2F%23data_sources%27%20target%3D%27_blank%27%20rel%3D%27noopener%20noreferrer%27%3EMarkets%20data%3C%2Fa%3E%09Daily%0Af_autofe_div_0016ede5%090.0001%09100.0%0975.0392,%2090.4718,%2059.7467%09Upgini%09AutoFE%3A%20features%20from%20%3Ca%20href%3D%27https%3A%2F%2Fupgini.com%2F%23data_sources%27%20target%3D%27_blank%27%20rel%3D%27noopener%20noreferrer%27%3EMarkets%20data%3C%2Fa%3E%09Daily%0Af_autofe_mul_44503c6f%090.0001%09100.0%091.2157,%203.8214,%201.9848%09Upgini%09AutoFE%3A%20features%20from%20%3Ca%20href%3D%27https%3A%2F%2Fupgini.com%2F%23data_sources%27%20target%3D%27_blank%27%20rel%3D%27noopener%20noreferrer%27%3EMarkets%20data%3C%2Fa%3E%09Daily%0Af_autofe_mul_8c2f1d42%090.0001%09100.0%09-0.1159,%200.8696,%200.1407%09Upgini%09AutoFE%3A%20features%20from%20%3Ca%20href%3D%27https%3A%2F%2Fupgini.com%2F%23data_sources%27%20target%3D%27_blank%27%20rel%3D%27noopener%20noreferrer%27%3ECalendar%20data%3C%2Fa%3E%09Daily%0Af_autofe_mul_8437d645%090.0001%09100.0%09-19.1168,%20-88.2499,%2056.2325%09Upgini%09AutoFE%3A%20features%20from%20%3Ca%20href%3D%27https%3A%2F%2Fupgini.com%2F%23data_sources%27%20target%3D%27_blank%27%20rel%3D%27noopener%20noreferrer%27%3ECalendar%20data%3C%2Fa%3E,%3Ca%20href%3D%27https%3A%2F%2Fupgini.com%2F%23data_sources%27%20target%3D%27_blank%27%20rel%3D%27noopener%20noreferrer%27%3EMarkets%20data%3C%2Fa%3E%09Daily%0Af_autofe_mul_3e749d53%090.0001%09100.0%09-1.1073,%200.8477,%20-1.2181%09Upgini%09AutoFE%3A%20features%20from%20%3Ca%20href%3D%27https%3A%2F%2Fupgini.com%2F%23data_sources%27%20target%3D%27_blank%27%20rel%3D%27noopener%20noreferrer%27%3ECalendar%20data%3C%2Fa%3E,%3Ca%20href%3D%27https%3A%2F%2Fupgini.com%2F%23data_sources%27%20target%3D%27_blank%27%20rel%3D%27noopener%20noreferrer%27%3EMarkets%20data%3C%2Fa%3E%09Daily%0Af_autofe_div_ef42018c%090.0001%09100.0%090.9863,%201.0142,%201.0148%09Upgini%09AutoFE%3A%20features%20from%20%3Ca%20href%3D%27https%3A%2F%2Fupgini.com%2F%23data_sources%27%20target%3D%27_blank%27%20rel%3D%27noopener%20noreferrer%27%3EMarkets%20data%3C%2Fa%3E%09Daily%0A'>\n",
              "                    <button>📨 Share</button>\n",
              "                </a>\n",
              "            </div>\n",
              "            <table class='upgini-df'><thead><th>Feature name</th><th>SHAP value</th><th>Coverage %</th><th>Value preview</th><th>Provider</th><th>Source</th><th>Updates</th></thead><tbody><tr><td class='upgini-text'><a href='https://docs.upgini.com/public/weather/weather_umap#f_weather_date_weather_umap_34_c3ef5b4f' target='_blank' rel='noopener noreferrer'>f_weather_date_weather_umap_34_c3ef5b4f</a></td><td class='upgini-number'>0.0497</td><td class='upgini-number'>100.0000</td><td class='upgini-text'>4.7962, 4.8648, 5.4959</td><td class='upgini-text'><a href='https://upgini.com' target='_blank' rel='noopener noreferrer'>Upgini</a></td><td class='upgini-text'><a href='https://upgini.com/#data_sources' target='_blank' rel='noopener noreferrer'>Weather & climate normals data</a></td><td class='upgini-text'>Daily</td></tr><tr><td class='upgini-text'>f_autofe_div_029f75a6</td><td class='upgini-number'>0.0175</td><td class='upgini-number'>100.0000</td><td class='upgini-text'>0.6054, -0.6231, -0.7663</td><td class='upgini-text'><a href='https://upgini.com' target='_blank' rel='noopener noreferrer'>Upgini</a></td><td class='upgini-text'>AutoFE: features from <a href='https://upgini.com/#data_sources' target='_blank' rel='noopener noreferrer'>Calendar data</a>,<a href='https://upgini.com/#data_sources' target='_blank' rel='noopener noreferrer'>Markets data</a></td><td class='upgini-text'>Daily</td></tr><tr><td class='upgini-text'><a href='https://docs.upgini.com/public/weather/weather_pca#f_weather_date_weather_pca_0_d7e0a1fc' target='_blank' rel='noopener noreferrer'>f_weather_date_weather_pca_0_d7e0a1fc</a></td><td class='upgini-number'>0.0122</td><td class='upgini-number'>100.0000</td><td class='upgini-text'>-24.3929, 27.4126, 29.1972</td><td class='upgini-text'><a href='https://upgini.com' target='_blank' rel='noopener noreferrer'>Upgini</a></td><td class='upgini-text'><a href='https://upgini.com/#data_sources' target='_blank' rel='noopener noreferrer'>Weather & climate normals data</a></td><td class='upgini-text'>Daily</td></tr><tr><td class='upgini-text'>f_autofe_div_50507976</td><td class='upgini-number'>0.0102</td><td class='upgini-number'>100.0000</td><td class='upgini-text'>0.062, -0.0187, -0.0344</td><td class='upgini-text'><a href='https://upgini.com' target='_blank' rel='noopener noreferrer'>Upgini</a></td><td class='upgini-text'>AutoFE: features from <a href='https://upgini.com/#data_sources' target='_blank' rel='noopener noreferrer'>Calendar data</a>,<a href='https://upgini.com/#data_sources' target='_blank' rel='noopener noreferrer'>Markets data</a></td><td class='upgini-text'>Daily</td></tr><tr><td class='upgini-text'>f_autofe_mul_6793ee4f</td><td class='upgini-number'>0.0077</td><td class='upgini-number'>100.0000</td><td class='upgini-text'>11.4333, 13.8049, 11.0425</td><td class='upgini-text'><a href='https://upgini.com' target='_blank' rel='noopener noreferrer'>Upgini</a></td><td class='upgini-text'>AutoFE: features from <a href='https://upgini.com/#data_sources' target='_blank' rel='noopener noreferrer'>Calendar data</a>,<a href='https://upgini.com/#data_sources' target='_blank' rel='noopener noreferrer'>Markets data</a></td><td class='upgini-text'>Daily</td></tr><tr><td class='upgini-text'>f_autofe_mul_34d11bc4</td><td class='upgini-number'>0.0064</td><td class='upgini-number'>100.0000</td><td class='upgini-text'>14.3158, 18.7785, 19.4271</td><td class='upgini-text'><a href='https://upgini.com' target='_blank' rel='noopener noreferrer'>Upgini</a></td><td class='upgini-text'>AutoFE: features from <a href='https://upgini.com/#data_sources' target='_blank' rel='noopener noreferrer'>Calendar data</a>,<a href='https://upgini.com/#data_sources' target='_blank' rel='noopener noreferrer'>Markets data</a></td><td class='upgini-text'>Daily</td></tr><tr><td class='upgini-text'>f_autofe_div_1edd5009</td><td class='upgini-number'>0.0061</td><td class='upgini-number'>100.0000</td><td class='upgini-text'>-0.0434, -0.088, -0.0967</td><td class='upgini-text'><a href='https://upgini.com' target='_blank' rel='noopener noreferrer'>Upgini</a></td><td class='upgini-text'>AutoFE: features from <a href='https://upgini.com/#data_sources' target='_blank' rel='noopener noreferrer'>Calendar data</a>,<a href='https://upgini.com/#data_sources' target='_blank' rel='noopener noreferrer'>Markets data</a></td><td class='upgini-text'>Daily</td></tr><tr><td class='upgini-text'>f_autofe_div_50a5dcaf</td><td class='upgini-number'>0.0058</td><td class='upgini-number'>100.0000</td><td class='upgini-text'>-0.3497, -0.836, -0.9408</td><td class='upgini-text'><a href='https://upgini.com' target='_blank' rel='noopener noreferrer'>Upgini</a></td><td class='upgini-text'>AutoFE: features from <a href='https://upgini.com/#data_sources' target='_blank' rel='noopener noreferrer'>Calendar data</a>,<a href='https://upgini.com/#data_sources' target='_blank' rel='noopener noreferrer'>Markets data</a></td><td class='upgini-text'>Daily</td></tr><tr><td class='upgini-text'>f_autofe_mul_6234ba3a</td><td class='upgini-number'>0.0055</td><td class='upgini-number'>100.0000</td><td class='upgini-text'>0.708, 1.0918, 0.8102</td><td class='upgini-text'><a href='https://upgini.com' target='_blank' rel='noopener noreferrer'>Upgini</a></td><td class='upgini-text'>AutoFE: features from <a href='https://upgini.com/#data_sources' target='_blank' rel='noopener noreferrer'>Markets data</a></td><td class='upgini-text'>Daily</td></tr><tr><td class='upgini-text'>f_autofe_div_3e22df83</td><td class='upgini-number'>0.0042</td><td class='upgini-number'>100.0000</td><td class='upgini-text'>0.0081, -0.0102, 0.0044</td><td class='upgini-text'><a href='https://upgini.com' target='_blank' rel='noopener noreferrer'>Upgini</a></td><td class='upgini-text'>AutoFE: features from <a href='https://upgini.com/#data_sources' target='_blank' rel='noopener noreferrer'>Calendar data</a>,<a href='https://upgini.com/#data_sources' target='_blank' rel='noopener noreferrer'>Markets data</a></td><td class='upgini-text'>Daily</td></tr><tr><td class='upgini-text'>f_autofe_div_89c56a5f</td><td class='upgini-number'>0.0041</td><td class='upgini-number'>100.0000</td><td class='upgini-text'>-0.8574, -0.7662, 1.155</td><td class='upgini-text'><a href='https://upgini.com' target='_blank' rel='noopener noreferrer'>Upgini</a></td><td class='upgini-text'>AutoFE: features from <a href='https://upgini.com/#data_sources' target='_blank' rel='noopener noreferrer'>Calendar data</a>,<a href='https://upgini.com/#data_sources' target='_blank' rel='noopener noreferrer'>Markets data</a></td><td class='upgini-text'>Daily</td></tr><tr><td class='upgini-text'>f_autofe_mul_478be4f3</td><td class='upgini-number'>0.0038</td><td class='upgini-number'>100.0000</td><td class='upgini-text'>1.3429, 0.0567, -0.7238</td><td class='upgini-text'><a href='https://upgini.com' target='_blank' rel='noopener noreferrer'>Upgini</a></td><td class='upgini-text'>AutoFE: features from <a href='https://upgini.com/#data_sources' target='_blank' rel='noopener noreferrer'>Calendar data</a>,<a href='https://upgini.com/#data_sources' target='_blank' rel='noopener noreferrer'>Markets data</a></td><td class='upgini-text'>Daily</td></tr><tr><td class='upgini-text'>f_autofe_div_534d01d5</td><td class='upgini-number'>0.0036</td><td class='upgini-number'>100.0000</td><td class='upgini-text'>-0.0013, -0.002, 0.0027</td><td class='upgini-text'><a href='https://upgini.com' target='_blank' rel='noopener noreferrer'>Upgini</a></td><td class='upgini-text'>AutoFE: features from <a href='https://upgini.com/#data_sources' target='_blank' rel='noopener noreferrer'>Calendar data</a>,<a href='https://upgini.com/#data_sources' target='_blank' rel='noopener noreferrer'>Markets data</a></td><td class='upgini-text'>Daily</td></tr><tr><td class='upgini-text'>f_autofe_div_cf5dd7be</td><td class='upgini-number'>0.0036</td><td class='upgini-number'>100.0000</td><td class='upgini-text'>-1.2951, 1.0708, -1.092</td><td class='upgini-text'><a href='https://upgini.com' target='_blank' rel='noopener noreferrer'>Upgini</a></td><td class='upgini-text'>AutoFE: features from <a href='https://upgini.com/#data_sources' target='_blank' rel='noopener noreferrer'>Calendar data</a>,<a href='https://upgini.com/#data_sources' target='_blank' rel='noopener noreferrer'>Markets data</a></td><td class='upgini-text'>Daily</td></tr><tr><td class='upgini-text'><a href='https://docs.upgini.com/public/weather/weather_umap#f_weather_date_weather_umap_13_842ae1fc' target='_blank' rel='noopener noreferrer'>f_weather_date_weather_umap_13_842ae1fc</a></td><td class='upgini-number'>0.0032</td><td class='upgini-number'>100.0000</td><td class='upgini-text'>5.2316, 5.3125, 5.2887</td><td class='upgini-text'><a href='https://upgini.com' target='_blank' rel='noopener noreferrer'>Upgini</a></td><td class='upgini-text'><a href='https://upgini.com/#data_sources' target='_blank' rel='noopener noreferrer'>Weather & climate normals data</a></td><td class='upgini-text'>Daily</td></tr><tr><td class='upgini-text'><a href='https://docs.upgini.com/public/calendar/calendar#f_events_date_year_cos1_9014a856' target='_blank' rel='noopener noreferrer'>f_events_date_year_cos1_9014a856</a></td><td class='upgini-number'>0.0032</td><td class='upgini-number'>100.0000</td><td class='upgini-text'>-0.133, -0.9917, 0.7611</td><td class='upgini-text'><a href='https://upgini.com' target='_blank' rel='noopener noreferrer'>Upgini</a></td><td class='upgini-text'><a href='https://upgini.com/#data_sources' target='_blank' rel='noopener noreferrer'>Calendar data</a></td><td class='upgini-text'>Daily</td></tr><tr><td class='upgini-text'>f_autofe_mul_3cb64162</td><td class='upgini-number'>0.0031</td><td class='upgini-number'>100.0000</td><td class='upgini-text'>0.1179, -0.0737, 0.7749</td><td class='upgini-text'><a href='https://upgini.com' target='_blank' rel='noopener noreferrer'>Upgini</a></td><td class='upgini-text'>AutoFE: features from <a href='https://upgini.com/#data_sources' target='_blank' rel='noopener noreferrer'>Calendar data</a>,<a href='https://upgini.com/#data_sources' target='_blank' rel='noopener noreferrer'>Markets data</a></td><td class='upgini-text'>Daily</td></tr><tr><td class='upgini-text'>f_autofe_div_380598ae</td><td class='upgini-number'>0.0031</td><td class='upgini-number'>100.0000</td><td class='upgini-text'>-0.2122, -0.2184, 0.636</td><td class='upgini-text'><a href='https://upgini.com' target='_blank' rel='noopener noreferrer'>Upgini</a></td><td class='upgini-text'>AutoFE: features from <a href='https://upgini.com/#data_sources' target='_blank' rel='noopener noreferrer'>Calendar data</a>,<a href='https://upgini.com/#data_sources' target='_blank' rel='noopener noreferrer'>Markets data</a></td><td class='upgini-text'>Daily</td></tr><tr><td class='upgini-text'>f_autofe_div_f0159558</td><td class='upgini-number'>0.0030</td><td class='upgini-number'>100.0000</td><td class='upgini-text'>1.1222, 0.8814, 1.0249</td><td class='upgini-text'><a href='https://upgini.com' target='_blank' rel='noopener noreferrer'>Upgini</a></td><td class='upgini-text'>AutoFE: features from <a href='https://upgini.com/#data_sources' target='_blank' rel='noopener noreferrer'>Markets data</a></td><td class='upgini-text'>Daily</td></tr><tr><td class='upgini-text'>f_autofe_div_c9ddcb38</td><td class='upgini-number'>0.0030</td><td class='upgini-number'>100.0000</td><td class='upgini-text'>-1.1072, -0.2414, 0.5586</td><td class='upgini-text'><a href='https://upgini.com' target='_blank' rel='noopener noreferrer'>Upgini</a></td><td class='upgini-text'>AutoFE: features from <a href='https://upgini.com/#data_sources' target='_blank' rel='noopener noreferrer'>Calendar data</a>,<a href='https://upgini.com/#data_sources' target='_blank' rel='noopener noreferrer'>Markets data</a></td><td class='upgini-text'>Daily</td></tr><tr><td class='upgini-text'>f_autofe_mul_b49258bb</td><td class='upgini-number'>0.0029</td><td class='upgini-number'>100.0000</td><td class='upgini-text'>-145.2556, 127.9089, 302.4593</td><td class='upgini-text'><a href='https://upgini.com' target='_blank' rel='noopener noreferrer'>Upgini</a></td><td class='upgini-text'>AutoFE: features from <a href='https://upgini.com/#data_sources' target='_blank' rel='noopener noreferrer'>Calendar data</a>,<a href='https://upgini.com/#data_sources' target='_blank' rel='noopener noreferrer'>Markets data</a></td><td class='upgini-text'>Daily</td></tr><tr><td class='upgini-text'>f_autofe_mul_0cc09d2d</td><td class='upgini-number'>0.0027</td><td class='upgini-number'>100.0000</td><td class='upgini-text'>-81.2585, -47.9999, -74.0039</td><td class='upgini-text'><a href='https://upgini.com' target='_blank' rel='noopener noreferrer'>Upgini</a></td><td class='upgini-text'>AutoFE: features from <a href='https://upgini.com/#data_sources' target='_blank' rel='noopener noreferrer'>Calendar data</a>,<a href='https://upgini.com/#data_sources' target='_blank' rel='noopener noreferrer'>Markets data</a></td><td class='upgini-text'>Daily</td></tr><tr><td class='upgini-text'>f_autofe_mul_5bd50798</td><td class='upgini-number'>0.0024</td><td class='upgini-number'>100.0000</td><td class='upgini-text'>0.7783, 0.7606, -1.1822</td><td class='upgini-text'><a href='https://upgini.com' target='_blank' rel='noopener noreferrer'>Upgini</a></td><td class='upgini-text'>AutoFE: features from <a href='https://upgini.com/#data_sources' target='_blank' rel='noopener noreferrer'>Calendar data</a>,<a href='https://upgini.com/#data_sources' target='_blank' rel='noopener noreferrer'>Markets data</a></td><td class='upgini-text'>Daily</td></tr><tr><td class='upgini-text'>f_autofe_mul_af6d166b</td><td class='upgini-number'>0.0024</td><td class='upgini-number'>100.0000</td><td class='upgini-text'>1.4691, -0.194, 0.827</td><td class='upgini-text'><a href='https://upgini.com' target='_blank' rel='noopener noreferrer'>Upgini</a></td><td class='upgini-text'>AutoFE: features from <a href='https://upgini.com/#data_sources' target='_blank' rel='noopener noreferrer'>Calendar data</a>,<a href='https://upgini.com/#data_sources' target='_blank' rel='noopener noreferrer'>Markets data</a></td><td class='upgini-text'>Daily</td></tr><tr><td class='upgini-text'>f_autofe_mul_08e89348</td><td class='upgini-number'>0.0022</td><td class='upgini-number'>100.0000</td><td class='upgini-text'>52.7631, -95.4259, -20.0498</td><td class='upgini-text'><a href='https://upgini.com' target='_blank' rel='noopener noreferrer'>Upgini</a></td><td class='upgini-text'>AutoFE: features from <a href='https://upgini.com/#data_sources' target='_blank' rel='noopener noreferrer'>Calendar data</a>,<a href='https://upgini.com/#data_sources' target='_blank' rel='noopener noreferrer'>Markets data</a></td><td class='upgini-text'>Daily</td></tr><tr><td class='upgini-text'>f_autofe_mul_25296268</td><td class='upgini-number'>0.0020</td><td class='upgini-number'>100.0000</td><td class='upgini-text'>0.4776, -0.7721, -0.4622</td><td class='upgini-text'><a href='https://upgini.com' target='_blank' rel='noopener noreferrer'>Upgini</a></td><td class='upgini-text'>AutoFE: features from <a href='https://upgini.com/#data_sources' target='_blank' rel='noopener noreferrer'>Calendar data</a>,<a href='https://upgini.com/#data_sources' target='_blank' rel='noopener noreferrer'>Markets data</a></td><td class='upgini-text'>Daily</td></tr><tr><td class='upgini-text'><a href='https://docs.upgini.com/public/weather/weather_umap#f_weather_date_weather_umap_16_25ac8b87' target='_blank' rel='noopener noreferrer'>f_weather_date_weather_umap_16_25ac8b87</a></td><td class='upgini-number'>0.0018</td><td class='upgini-number'>100.0000</td><td class='upgini-text'>5.3772, 5.787, 5.8579</td><td class='upgini-text'><a href='https://upgini.com' target='_blank' rel='noopener noreferrer'>Upgini</a></td><td class='upgini-text'><a href='https://upgini.com/#data_sources' target='_blank' rel='noopener noreferrer'>Weather & climate normals data</a></td><td class='upgini-text'>Daily</td></tr><tr><td class='upgini-text'>f_autofe_div_5665c21b</td><td class='upgini-number'>0.0017</td><td class='upgini-number'>100.0000</td><td class='upgini-text'>0.6276, -0.2232, -0.8367</td><td class='upgini-text'><a href='https://upgini.com' target='_blank' rel='noopener noreferrer'>Upgini</a></td><td class='upgini-text'>AutoFE: features from <a href='https://upgini.com/#data_sources' target='_blank' rel='noopener noreferrer'>Calendar data</a>,<a href='https://upgini.com/#data_sources' target='_blank' rel='noopener noreferrer'>Markets data</a></td><td class='upgini-text'>Daily</td></tr><tr><td class='upgini-text'>f_autofe_div_a152c923</td><td class='upgini-number'>0.0016</td><td class='upgini-number'>100.0000</td><td class='upgini-text'>-0.0022, -0.0029, -0.0018</td><td class='upgini-text'><a href='https://upgini.com' target='_blank' rel='noopener noreferrer'>Upgini</a></td><td class='upgini-text'>AutoFE: features from <a href='https://upgini.com/#data_sources' target='_blank' rel='noopener noreferrer'>Calendar data</a>,<a href='https://upgini.com/#data_sources' target='_blank' rel='noopener noreferrer'>Markets data</a></td><td class='upgini-text'>Daily</td></tr><tr><td class='upgini-text'>f_autofe_div_0a5adf97</td><td class='upgini-number'>0.0015</td><td class='upgini-number'>100.0000</td><td class='upgini-text'>-0.2304, 0.0347, -0.2575</td><td class='upgini-text'><a href='https://upgini.com' target='_blank' rel='noopener noreferrer'>Upgini</a></td><td class='upgini-text'>AutoFE: features from <a href='https://upgini.com/#data_sources' target='_blank' rel='noopener noreferrer'>Calendar data</a>,<a href='https://upgini.com/#data_sources' target='_blank' rel='noopener noreferrer'>Markets data</a></td><td class='upgini-text'>Daily</td></tr><tr><td class='upgini-text'>f_autofe_mul_4c9c7d0a</td><td class='upgini-number'>0.0014</td><td class='upgini-number'>100.0000</td><td class='upgini-text'>0.947, 0.6863, 0.7061</td><td class='upgini-text'><a href='https://upgini.com' target='_blank' rel='noopener noreferrer'>Upgini</a></td><td class='upgini-text'>AutoFE: features from <a href='https://upgini.com/#data_sources' target='_blank' rel='noopener noreferrer'>Markets data</a></td><td class='upgini-text'>Daily</td></tr><tr><td class='upgini-text'>f_autofe_mul_cd42199d</td><td class='upgini-number'>0.0012</td><td class='upgini-number'>100.0000</td><td class='upgini-text'>-0.6429, 2.1903, -2.9336</td><td class='upgini-text'><a href='https://upgini.com' target='_blank' rel='noopener noreferrer'>Upgini</a></td><td class='upgini-text'>AutoFE: features from <a href='https://upgini.com/#data_sources' target='_blank' rel='noopener noreferrer'>Calendar data</a>,<a href='https://upgini.com/#data_sources' target='_blank' rel='noopener noreferrer'>Markets data</a></td><td class='upgini-text'>Daily</td></tr><tr><td class='upgini-text'>f_autofe_mul_45a3c004</td><td class='upgini-number'>0.0011</td><td class='upgini-number'>100.0000</td><td class='upgini-text'>-5.2938, -14.6146, -13.61</td><td class='upgini-text'><a href='https://upgini.com' target='_blank' rel='noopener noreferrer'>Upgini</a></td><td class='upgini-text'>AutoFE: features from <a href='https://upgini.com/#data_sources' target='_blank' rel='noopener noreferrer'>Calendar data</a>,<a href='https://upgini.com/#data_sources' target='_blank' rel='noopener noreferrer'>Markets data</a></td><td class='upgini-text'>Daily</td></tr><tr><td class='upgini-text'>f_autofe_mul_165c74ad</td><td class='upgini-number'>0.0010</td><td class='upgini-number'>100.0000</td><td class='upgini-text'>-0.4861, -0.8515, 0.8759</td><td class='upgini-text'><a href='https://upgini.com' target='_blank' rel='noopener noreferrer'>Upgini</a></td><td class='upgini-text'>AutoFE: features from <a href='https://upgini.com/#data_sources' target='_blank' rel='noopener noreferrer'>Calendar data</a>,<a href='https://upgini.com/#data_sources' target='_blank' rel='noopener noreferrer'>Markets data</a></td><td class='upgini-text'>Daily</td></tr><tr><td class='upgini-text'>f_autofe_mul_049f502d</td><td class='upgini-number'>0.0009</td><td class='upgini-number'>100.0000</td><td class='upgini-text'>-384.2971, 130.5469, 364.7985</td><td class='upgini-text'><a href='https://upgini.com' target='_blank' rel='noopener noreferrer'>Upgini</a></td><td class='upgini-text'>AutoFE: features from <a href='https://upgini.com/#data_sources' target='_blank' rel='noopener noreferrer'>Calendar data</a>,<a href='https://upgini.com/#data_sources' target='_blank' rel='noopener noreferrer'>Markets data</a></td><td class='upgini-text'>Daily</td></tr><tr><td class='upgini-text'>f_autofe_mul_9a4ab68c</td><td class='upgini-number'>0.0009</td><td class='upgini-number'>100.0000</td><td class='upgini-text'>-3.2864, 14.043, 9.7913</td><td class='upgini-text'><a href='https://upgini.com' target='_blank' rel='noopener noreferrer'>Upgini</a></td><td class='upgini-text'>AutoFE: features from <a href='https://upgini.com/#data_sources' target='_blank' rel='noopener noreferrer'>Calendar data</a>,<a href='https://upgini.com/#data_sources' target='_blank' rel='noopener noreferrer'>Markets data</a></td><td class='upgini-text'>Daily</td></tr><tr><td class='upgini-text'>f_autofe_mul_eff3c92e</td><td class='upgini-number'>0.0008</td><td class='upgini-number'>100.0000</td><td class='upgini-text'>1.2003, 1.465, 0.6559</td><td class='upgini-text'><a href='https://upgini.com' target='_blank' rel='noopener noreferrer'>Upgini</a></td><td class='upgini-text'>AutoFE: features from <a href='https://upgini.com/#data_sources' target='_blank' rel='noopener noreferrer'>Markets data</a></td><td class='upgini-text'>Daily</td></tr><tr><td class='upgini-text'>f_autofe_div_66be9f98</td><td class='upgini-number'>0.0008</td><td class='upgini-number'>100.0000</td><td class='upgini-text'>-0.206, -0.8183, 0.5609</td><td class='upgini-text'><a href='https://upgini.com' target='_blank' rel='noopener noreferrer'>Upgini</a></td><td class='upgini-text'>AutoFE: features from <a href='https://upgini.com/#data_sources' target='_blank' rel='noopener noreferrer'>Calendar data</a>,<a href='https://upgini.com/#data_sources' target='_blank' rel='noopener noreferrer'>Markets data</a></td><td class='upgini-text'>Daily</td></tr><tr><td class='upgini-text'>f_autofe_mul_dfd3cddf</td><td class='upgini-number'>0.0008</td><td class='upgini-number'>100.0000</td><td class='upgini-text'>0.4322, -0.3238, -0.3983</td><td class='upgini-text'><a href='https://upgini.com' target='_blank' rel='noopener noreferrer'>Upgini</a></td><td class='upgini-text'>AutoFE: features from <a href='https://upgini.com/#data_sources' target='_blank' rel='noopener noreferrer'>Calendar data</a>,<a href='https://upgini.com/#data_sources' target='_blank' rel='noopener noreferrer'>Markets data</a></td><td class='upgini-text'>Daily</td></tr><tr><td class='upgini-text'>f_autofe_div_270d64a2</td><td class='upgini-number'>0.0007</td><td class='upgini-number'>100.0000</td><td class='upgini-text'>-0.2088, 1.7258, -1.2915</td><td class='upgini-text'><a href='https://upgini.com' target='_blank' rel='noopener noreferrer'>Upgini</a></td><td class='upgini-text'>AutoFE: features from <a href='https://upgini.com/#data_sources' target='_blank' rel='noopener noreferrer'>Calendar data</a>,<a href='https://upgini.com/#data_sources' target='_blank' rel='noopener noreferrer'>Markets data</a></td><td class='upgini-text'>Daily</td></tr><tr><td class='upgini-text'><a href='https://docs.upgini.com/public/markets/finance#f_financial_date_nasdaq_7d_to_1y_b00bfaa7' target='_blank' rel='noopener noreferrer'>f_financial_date_nasdaq_7d_to_1y_b00bfaa7</a></td><td class='upgini-number'>0.0007</td><td class='upgini-number'>100.0000</td><td class='upgini-text'>1.0793, 1.0706, 1.1202</td><td class='upgini-text'><a href='https://upgini.com' target='_blank' rel='noopener noreferrer'>Upgini</a></td><td class='upgini-text'><a href='https://upgini.com/#data_sources' target='_blank' rel='noopener noreferrer'>Markets data</a></td><td class='upgini-text'>Daily</td></tr><tr><td class='upgini-text'>f_autofe_mul_693c8d50</td><td class='upgini-number'>0.0006</td><td class='upgini-number'>100.0000</td><td class='upgini-text'>0.6204, -0.2247, 0.6203</td><td class='upgini-text'><a href='https://upgini.com' target='_blank' rel='noopener noreferrer'>Upgini</a></td><td class='upgini-text'>AutoFE: features from <a href='https://upgini.com/#data_sources' target='_blank' rel='noopener noreferrer'>Calendar data</a>,<a href='https://upgini.com/#data_sources' target='_blank' rel='noopener noreferrer'>Markets data</a></td><td class='upgini-text'>Daily</td></tr><tr><td class='upgini-text'>f_autofe_div_c2f55b86</td><td class='upgini-number'>0.0006</td><td class='upgini-number'>100.0000</td><td class='upgini-text'>-0.0006, 0.0027, -0.0006</td><td class='upgini-text'><a href='https://upgini.com' target='_blank' rel='noopener noreferrer'>Upgini</a></td><td class='upgini-text'>AutoFE: features from <a href='https://upgini.com/#data_sources' target='_blank' rel='noopener noreferrer'>Calendar data</a>,<a href='https://upgini.com/#data_sources' target='_blank' rel='noopener noreferrer'>Markets data</a></td><td class='upgini-text'>Daily</td></tr><tr><td class='upgini-text'>f_autofe_mul_041b52f4</td><td class='upgini-number'>0.0005</td><td class='upgini-number'>100.0000</td><td class='upgini-text'>-0.5798, -0.8619, -0.183</td><td class='upgini-text'><a href='https://upgini.com' target='_blank' rel='noopener noreferrer'>Upgini</a></td><td class='upgini-text'>AutoFE: features from <a href='https://upgini.com/#data_sources' target='_blank' rel='noopener noreferrer'>Calendar data</a></td><td class='upgini-text'>Daily</td></tr><tr><td class='upgini-text'>f_autofe_mul_b0ac774f</td><td class='upgini-number'>0.0005</td><td class='upgini-number'>100.0000</td><td class='upgini-text'>0.9033, -0.7118, 0.3034</td><td class='upgini-text'><a href='https://upgini.com' target='_blank' rel='noopener noreferrer'>Upgini</a></td><td class='upgini-text'>AutoFE: features from <a href='https://upgini.com/#data_sources' target='_blank' rel='noopener noreferrer'>Calendar data</a>,<a href='https://upgini.com/#data_sources' target='_blank' rel='noopener noreferrer'>Markets data</a></td><td class='upgini-text'>Daily</td></tr><tr><td class='upgini-text'>f_autofe_div_40bee497</td><td class='upgini-number'>0.0005</td><td class='upgini-number'>100.0000</td><td class='upgini-text'>0.0018, 0.0018, -0.0006</td><td class='upgini-text'><a href='https://upgini.com' target='_blank' rel='noopener noreferrer'>Upgini</a></td><td class='upgini-text'>AutoFE: features from <a href='https://upgini.com/#data_sources' target='_blank' rel='noopener noreferrer'>Calendar data</a>,<a href='https://upgini.com/#data_sources' target='_blank' rel='noopener noreferrer'>Markets data</a></td><td class='upgini-text'>Daily</td></tr><tr><td class='upgini-text'><a href='https://docs.upgini.com/public/weather/weather_pca#f_weather_date_weather_pca_1_9e4af931' target='_blank' rel='noopener noreferrer'>f_weather_date_weather_pca_1_9e4af931</a></td><td class='upgini-number'>0.0005</td><td class='upgini-number'>100.0000</td><td class='upgini-text'>-7.3948, -7.7043, -8.4298</td><td class='upgini-text'><a href='https://upgini.com' target='_blank' rel='noopener noreferrer'>Upgini</a></td><td class='upgini-text'><a href='https://upgini.com/#data_sources' target='_blank' rel='noopener noreferrer'>Weather & climate normals data</a></td><td class='upgini-text'>Daily</td></tr><tr><td class='upgini-text'>f_autofe_div_671f8233</td><td class='upgini-number'>0.0004</td><td class='upgini-number'>100.0000</td><td class='upgini-text'>-0.1917, -1.0463, -0.2118</td><td class='upgini-text'><a href='https://upgini.com' target='_blank' rel='noopener noreferrer'>Upgini</a></td><td class='upgini-text'>AutoFE: features from <a href='https://upgini.com/#data_sources' target='_blank' rel='noopener noreferrer'>Calendar data</a>,<a href='https://upgini.com/#data_sources' target='_blank' rel='noopener noreferrer'>Markets data</a></td><td class='upgini-text'>Daily</td></tr><tr><td class='upgini-text'>f_autofe_div_ab3bd138</td><td class='upgini-number'>0.0004</td><td class='upgini-number'>100.0000</td><td class='upgini-text'>0.9848, 0.9963, 1.1048</td><td class='upgini-text'><a href='https://upgini.com' target='_blank' rel='noopener noreferrer'>Upgini</a></td><td class='upgini-text'>AutoFE: features from <a href='https://upgini.com/#data_sources' target='_blank' rel='noopener noreferrer'>Markets data</a></td><td class='upgini-text'>Daily</td></tr><tr><td class='upgini-text'>f_autofe_div_ab7c3e47</td><td class='upgini-number'>0.0004</td><td class='upgini-number'>100.0000</td><td class='upgini-text'>-1.0735, -0.188, 0.5597</td><td class='upgini-text'><a href='https://upgini.com' target='_blank' rel='noopener noreferrer'>Upgini</a></td><td class='upgini-text'>AutoFE: features from <a href='https://upgini.com/#data_sources' target='_blank' rel='noopener noreferrer'>Calendar data</a>,<a href='https://upgini.com/#data_sources' target='_blank' rel='noopener noreferrer'>Markets data</a></td><td class='upgini-text'>Daily</td></tr><tr><td class='upgini-text'>f_autofe_mul_364b79fa</td><td class='upgini-number'>0.0004</td><td class='upgini-number'>100.0000</td><td class='upgini-text'>0.6681, 0.6479, 0.9327</td><td class='upgini-text'><a href='https://upgini.com' target='_blank' rel='noopener noreferrer'>Upgini</a></td><td class='upgini-text'>AutoFE: features from <a href='https://upgini.com/#data_sources' target='_blank' rel='noopener noreferrer'>Calendar data</a>,<a href='https://upgini.com/#data_sources' target='_blank' rel='noopener noreferrer'>Markets data</a></td><td class='upgini-text'>Daily</td></tr><tr><td class='upgini-text'>f_autofe_div_a86f907a</td><td class='upgini-number'>0.0003</td><td class='upgini-number'>100.0000</td><td class='upgini-text'>0.6276, -0.9444, -0.2195</td><td class='upgini-text'><a href='https://upgini.com' target='_blank' rel='noopener noreferrer'>Upgini</a></td><td class='upgini-text'>AutoFE: features from <a href='https://upgini.com/#data_sources' target='_blank' rel='noopener noreferrer'>Calendar data</a>,<a href='https://upgini.com/#data_sources' target='_blank' rel='noopener noreferrer'>Markets data</a></td><td class='upgini-text'>Daily</td></tr><tr><td class='upgini-text'>f_autofe_div_66e46a80</td><td class='upgini-number'>0.0002</td><td class='upgini-number'>100.0000</td><td class='upgini-text'>-0.936, 0.6158, 0.9802</td><td class='upgini-text'><a href='https://upgini.com' target='_blank' rel='noopener noreferrer'>Upgini</a></td><td class='upgini-text'>AutoFE: features from <a href='https://upgini.com/#data_sources' target='_blank' rel='noopener noreferrer'>Calendar data</a>,<a href='https://upgini.com/#data_sources' target='_blank' rel='noopener noreferrer'>Markets data</a></td><td class='upgini-text'>Daily</td></tr><tr><td class='upgini-text'>f_autofe_div_d0993cdc</td><td class='upgini-number'>0.0002</td><td class='upgini-number'>100.0000</td><td class='upgini-text'>287.9445, 344.8388, 372.6098</td><td class='upgini-text'><a href='https://upgini.com' target='_blank' rel='noopener noreferrer'>Upgini</a></td><td class='upgini-text'>AutoFE: features from <a href='https://upgini.com/#data_sources' target='_blank' rel='noopener noreferrer'>Markets data</a></td><td class='upgini-text'>Daily</td></tr><tr><td class='upgini-text'>f_autofe_div_67b10df3</td><td class='upgini-number'>0.0002</td><td class='upgini-number'>100.0000</td><td class='upgini-text'>-0.4138, 0.8321, -0.8456</td><td class='upgini-text'><a href='https://upgini.com' target='_blank' rel='noopener noreferrer'>Upgini</a></td><td class='upgini-text'>AutoFE: features from <a href='https://upgini.com/#data_sources' target='_blank' rel='noopener noreferrer'>Calendar data</a></td><td class='upgini-text'>Daily</td></tr><tr><td class='upgini-text'>f_autofe_div_69990bb4</td><td class='upgini-number'>0.0002</td><td class='upgini-number'>100.0000</td><td class='upgini-text'>-1.0775, -1.1304, 0.8486</td><td class='upgini-text'><a href='https://upgini.com' target='_blank' rel='noopener noreferrer'>Upgini</a></td><td class='upgini-text'>AutoFE: features from <a href='https://upgini.com/#data_sources' target='_blank' rel='noopener noreferrer'>Calendar data</a>,<a href='https://upgini.com/#data_sources' target='_blank' rel='noopener noreferrer'>Markets data</a></td><td class='upgini-text'>Daily</td></tr><tr><td class='upgini-text'><a href='https://docs.upgini.com/public/economics/cbpol_pca#f_economic_date_cbpol_pca_9_bde660b4' target='_blank' rel='noopener noreferrer'>f_economic_date_cbpol_pca_9_bde660b4</a></td><td class='upgini-number'>0.0002</td><td class='upgini-number'>100.0000</td><td class='upgini-text'>-1.0799, 2.2414, 1.3617</td><td class='upgini-text'><a href='https://upgini.com' target='_blank' rel='noopener noreferrer'>Upgini</a></td><td class='upgini-text'><a href='https://upgini.com/#data_sources' target='_blank' rel='noopener noreferrer'>World economic indicators</a></td><td class='upgini-text'>Daily</td></tr><tr><td class='upgini-text'>f_autofe_div_22b77c5b</td><td class='upgini-number'>0.0002</td><td class='upgini-number'>100.0000</td><td class='upgini-text'>-0.4718, 1.1641, -0.5019</td><td class='upgini-text'><a href='https://upgini.com' target='_blank' rel='noopener noreferrer'>Upgini</a></td><td class='upgini-text'>AutoFE: features from <a href='https://upgini.com/#data_sources' target='_blank' rel='noopener noreferrer'>Calendar data</a>,<a href='https://upgini.com/#data_sources' target='_blank' rel='noopener noreferrer'>Markets data</a></td><td class='upgini-text'>Daily</td></tr><tr><td class='upgini-text'>f_autofe_div_fb99ff57</td><td class='upgini-number'>0.0002</td><td class='upgini-number'>100.0000</td><td class='upgini-text'>300.05, 359.4084, 323.2229</td><td class='upgini-text'><a href='https://upgini.com' target='_blank' rel='noopener noreferrer'>Upgini</a></td><td class='upgini-text'>AutoFE: features from <a href='https://upgini.com/#data_sources' target='_blank' rel='noopener noreferrer'>Markets data</a></td><td class='upgini-text'>Daily</td></tr><tr><td class='upgini-text'>f_autofe_mul_c883f8a6</td><td class='upgini-number'>0.0002</td><td class='upgini-number'>100.0000</td><td class='upgini-text'>371.2577, 459.5482, 377.9167</td><td class='upgini-text'><a href='https://upgini.com' target='_blank' rel='noopener noreferrer'>Upgini</a></td><td class='upgini-text'>AutoFE: features from <a href='https://upgini.com/#data_sources' target='_blank' rel='noopener noreferrer'>Markets data</a></td><td class='upgini-text'>Daily</td></tr><tr><td class='upgini-text'><a href='https://docs.upgini.com/public/calendar/calendar#f_events_date_year_sin2_59955ffd' target='_blank' rel='noopener noreferrer'>f_events_date_year_sin2_59955ffd</a></td><td class='upgini-number'>0.0002</td><td class='upgini-number'>100.0000</td><td class='upgini-text'>-0.5307, -0.7568, -0.622</td><td class='upgini-text'><a href='https://upgini.com' target='_blank' rel='noopener noreferrer'>Upgini</a></td><td class='upgini-text'><a href='https://upgini.com/#data_sources' target='_blank' rel='noopener noreferrer'>Calendar data</a></td><td class='upgini-text'>Daily</td></tr><tr><td class='upgini-text'>f_autofe_mul_6a97c336</td><td class='upgini-number'>0.0001</td><td class='upgini-number'>100.0000</td><td class='upgini-text'>0.8698, 0.4959, 0.5189</td><td class='upgini-text'><a href='https://upgini.com' target='_blank' rel='noopener noreferrer'>Upgini</a></td><td class='upgini-text'>AutoFE: features from <a href='https://upgini.com/#data_sources' target='_blank' rel='noopener noreferrer'>Calendar data</a>,<a href='https://upgini.com/#data_sources' target='_blank' rel='noopener noreferrer'>Markets data</a></td><td class='upgini-text'>Daily</td></tr><tr><td class='upgini-text'>f_autofe_div_0016ede5</td><td class='upgini-number'>0.0001</td><td class='upgini-number'>100.0000</td><td class='upgini-text'>75.0392, 90.4718, 59.7467</td><td class='upgini-text'><a href='https://upgini.com' target='_blank' rel='noopener noreferrer'>Upgini</a></td><td class='upgini-text'>AutoFE: features from <a href='https://upgini.com/#data_sources' target='_blank' rel='noopener noreferrer'>Markets data</a></td><td class='upgini-text'>Daily</td></tr><tr><td class='upgini-text'>f_autofe_mul_44503c6f</td><td class='upgini-number'>0.0001</td><td class='upgini-number'>100.0000</td><td class='upgini-text'>1.2157, 3.8214, 1.9848</td><td class='upgini-text'><a href='https://upgini.com' target='_blank' rel='noopener noreferrer'>Upgini</a></td><td class='upgini-text'>AutoFE: features from <a href='https://upgini.com/#data_sources' target='_blank' rel='noopener noreferrer'>Markets data</a></td><td class='upgini-text'>Daily</td></tr><tr><td class='upgini-text'>f_autofe_mul_8c2f1d42</td><td class='upgini-number'>0.0001</td><td class='upgini-number'>100.0000</td><td class='upgini-text'>-0.1159, 0.8696, 0.1407</td><td class='upgini-text'><a href='https://upgini.com' target='_blank' rel='noopener noreferrer'>Upgini</a></td><td class='upgini-text'>AutoFE: features from <a href='https://upgini.com/#data_sources' target='_blank' rel='noopener noreferrer'>Calendar data</a></td><td class='upgini-text'>Daily</td></tr><tr><td class='upgini-text'>f_autofe_mul_8437d645</td><td class='upgini-number'>0.0001</td><td class='upgini-number'>100.0000</td><td class='upgini-text'>-19.1168, -88.2499, 56.2325</td><td class='upgini-text'><a href='https://upgini.com' target='_blank' rel='noopener noreferrer'>Upgini</a></td><td class='upgini-text'>AutoFE: features from <a href='https://upgini.com/#data_sources' target='_blank' rel='noopener noreferrer'>Calendar data</a>,<a href='https://upgini.com/#data_sources' target='_blank' rel='noopener noreferrer'>Markets data</a></td><td class='upgini-text'>Daily</td></tr><tr><td class='upgini-text'>f_autofe_mul_3e749d53</td><td class='upgini-number'>0.0001</td><td class='upgini-number'>100.0000</td><td class='upgini-text'>-1.1073, 0.8477, -1.2181</td><td class='upgini-text'><a href='https://upgini.com' target='_blank' rel='noopener noreferrer'>Upgini</a></td><td class='upgini-text'>AutoFE: features from <a href='https://upgini.com/#data_sources' target='_blank' rel='noopener noreferrer'>Calendar data</a>,<a href='https://upgini.com/#data_sources' target='_blank' rel='noopener noreferrer'>Markets data</a></td><td class='upgini-text'>Daily</td></tr><tr><td class='upgini-text'>f_autofe_div_ef42018c</td><td class='upgini-number'>0.0001</td><td class='upgini-number'>100.0000</td><td class='upgini-text'>0.9863, 1.0142, 1.0148</td><td class='upgini-text'><a href='https://upgini.com' target='_blank' rel='noopener noreferrer'>Upgini</a></td><td class='upgini-text'>AutoFE: features from <a href='https://upgini.com/#data_sources' target='_blank' rel='noopener noreferrer'>Markets data</a></td><td class='upgini-text'>Daily</td></tr></tbody></table>\n",
              "        </div>\n",
              "        "
            ]
          },
          "metadata": {}
        },
        {
          "output_type": "display_data",
          "data": {
            "text/plain": [
              "<IPython.core.display.HTML object>"
            ],
            "text/html": [
              "<style>\n",
              "            .upgini-df thead th {\n",
              "                font-weight:bold;\n",
              "                text-align: center;\n",
              "                padding: 0.5em;\n",
              "                border-bottom: 2px solid black;\n",
              "            }\n",
              "\n",
              "            .upgini-df tbody td {\n",
              "                padding: 0.5em;\n",
              "            }\n",
              "\n",
              "            .upgini-df tbody tr:nth-child(odd) {\n",
              "                background-color: #ffffff;\n",
              "            }\n",
              "\n",
              "            .upgini-df tbody tr:nth-child(even) {\n",
              "                background-color: #f2f2f2;\n",
              "            }\n",
              "\n",
              "            .upgini-text {\n",
              "                text-align: left;\n",
              "            }\n",
              "\n",
              "            .upgini-number {\n",
              "                text-align: center;\n",
              "            }\n",
              "        </style>\n",
              "        <h2>Relevant data sources</h2>\n",
              "        <div style=\"display:flex; flex-direction:column; align-items:flex-end; width: fit-content;\">\n",
              "            <div style=\"text-align: right\">\n",
              "                <button onclick=navigator.clipboard.writeText(decodeURI('Provider%09Source%09All%20features%20SHAP%09Number%20of%20relevant%20features%0AUpgini%09AutoFE%3A%20features%20from%20%3Ca%20href%3D%27https%3A%2F%2Fupgini.com%2F%23data_sources%27%20target%3D%27_blank%27%20rel%3D%27noopener%20noreferrer%27%3ECalendar%20data%3C%2Fa%3E,%3Ca%20href%3D%27https%3A%2F%2Fupgini.com%2F%23data_sources%27%20target%3D%27_blank%27%20rel%3D%27noopener%20noreferrer%27%3EMarkets%20data%3C%2Fa%3E%090.1136%0945%0AUpgini%09Weather%20%26%20climate%20normals%20data%090.0674%095%0AUpgini%09AutoFE%3A%20features%20from%20%3Ca%20href%3D%27https%3A%2F%2Fupgini.com%2F%23data_sources%27%20target%3D%27_blank%27%20rel%3D%27noopener%20noreferrer%27%3EMarkets%20data%3C%2Fa%3E%090.012%0911%0AUpgini%09Calendar%20data%090.0034000000000000002%092%0AUpgini%09AutoFE%3A%20features%20from%20%3Ca%20href%3D%27https%3A%2F%2Fupgini.com%2F%23data_sources%27%20target%3D%27_blank%27%20rel%3D%27noopener%20noreferrer%27%3ECalendar%20data%3C%2Fa%3E%090.0008%093%0AUpgini%09Markets%20data%090.0007%091%0AUpgini%09World%20economic%20indicators%090.0002%091%0A'))>📂 Copy</button>\n",
              "                <a href='mailto:<Share with...>?subject=Relevant external data sources from Upgini.com&body=Provider%09Source%09All%20features%20SHAP%09Number%20of%20relevant%20features%0AUpgini%09AutoFE%3A%20features%20from%20%3Ca%20href%3D%27https%3A%2F%2Fupgini.com%2F%23data_sources%27%20target%3D%27_blank%27%20rel%3D%27noopener%20noreferrer%27%3ECalendar%20data%3C%2Fa%3E,%3Ca%20href%3D%27https%3A%2F%2Fupgini.com%2F%23data_sources%27%20target%3D%27_blank%27%20rel%3D%27noopener%20noreferrer%27%3EMarkets%20data%3C%2Fa%3E%090.1136%0945%0AUpgini%09Weather%20%26%20climate%20normals%20data%090.0674%095%0AUpgini%09AutoFE%3A%20features%20from%20%3Ca%20href%3D%27https%3A%2F%2Fupgini.com%2F%23data_sources%27%20target%3D%27_blank%27%20rel%3D%27noopener%20noreferrer%27%3EMarkets%20data%3C%2Fa%3E%090.012%0911%0AUpgini%09Calendar%20data%090.0034000000000000002%092%0AUpgini%09AutoFE%3A%20features%20from%20%3Ca%20href%3D%27https%3A%2F%2Fupgini.com%2F%23data_sources%27%20target%3D%27_blank%27%20rel%3D%27noopener%20noreferrer%27%3ECalendar%20data%3C%2Fa%3E%090.0008%093%0AUpgini%09Markets%20data%090.0007%091%0AUpgini%09World%20economic%20indicators%090.0002%091%0A'>\n",
              "                    <button>📨 Share</button>\n",
              "                </a>\n",
              "            </div>\n",
              "            <table class='upgini-df'><thead><th>Provider</th><th>Source</th><th>All features SHAP</th><th>Number of relevant features</th></thead><tbody><tr><td class='upgini-text'><a href='https://upgini.com' target='_blank' rel='noopener noreferrer'>Upgini</a></td><td class='upgini-text'>AutoFE: features from <a href='https://upgini.com/#data_sources' target='_blank' rel='noopener noreferrer'>Calendar data</a>,<a href='https://upgini.com/#data_sources' target='_blank' rel='noopener noreferrer'>Markets data</a></td><td class='upgini-number'>0.1136</td><td class='upgini-number'>45</td></tr><tr><td class='upgini-text'><a href='https://upgini.com' target='_blank' rel='noopener noreferrer'>Upgini</a></td><td class='upgini-text'><a href='https://upgini.com/#data_sources' target='_blank' rel='noopener noreferrer'>Weather & climate normals data</a></td><td class='upgini-number'>0.0674</td><td class='upgini-number'>5</td></tr><tr><td class='upgini-text'><a href='https://upgini.com' target='_blank' rel='noopener noreferrer'>Upgini</a></td><td class='upgini-text'>AutoFE: features from <a href='https://upgini.com/#data_sources' target='_blank' rel='noopener noreferrer'>Markets data</a></td><td class='upgini-number'>0.0120</td><td class='upgini-number'>11</td></tr><tr><td class='upgini-text'><a href='https://upgini.com' target='_blank' rel='noopener noreferrer'>Upgini</a></td><td class='upgini-text'><a href='https://upgini.com/#data_sources' target='_blank' rel='noopener noreferrer'>Calendar data</a></td><td class='upgini-number'>0.0034</td><td class='upgini-number'>2</td></tr><tr><td class='upgini-text'><a href='https://upgini.com' target='_blank' rel='noopener noreferrer'>Upgini</a></td><td class='upgini-text'>AutoFE: features from <a href='https://upgini.com/#data_sources' target='_blank' rel='noopener noreferrer'>Calendar data</a></td><td class='upgini-number'>0.0008</td><td class='upgini-number'>3</td></tr><tr><td class='upgini-text'><a href='https://upgini.com' target='_blank' rel='noopener noreferrer'>Upgini</a></td><td class='upgini-text'><a href='https://upgini.com/#data_sources' target='_blank' rel='noopener noreferrer'>Markets data</a></td><td class='upgini-number'>0.0007</td><td class='upgini-number'>1</td></tr><tr><td class='upgini-text'><a href='https://upgini.com' target='_blank' rel='noopener noreferrer'>Upgini</a></td><td class='upgini-text'><a href='https://upgini.com/#data_sources' target='_blank' rel='noopener noreferrer'>World economic indicators</a></td><td class='upgini-number'>0.0002</td><td class='upgini-number'>1</td></tr></tbody></table>\n",
              "        </div>\n",
              "        "
            ]
          },
          "metadata": {}
        },
        {
          "output_type": "display_data",
          "data": {
            "text/plain": [
              "<IPython.core.display.HTML object>"
            ],
            "text/html": [
              "<style>\n",
              "            .upgini-df thead th {\n",
              "                font-weight:bold;\n",
              "                text-align: center;\n",
              "                padding: 0.5em;\n",
              "                border-bottom: 2px solid black;\n",
              "            }\n",
              "\n",
              "            .upgini-df tbody td {\n",
              "                padding: 0.5em;\n",
              "            }\n",
              "\n",
              "            .upgini-df tbody tr:nth-child(odd) {\n",
              "                background-color: #ffffff;\n",
              "            }\n",
              "\n",
              "            .upgini-df tbody tr:nth-child(even) {\n",
              "                background-color: #f2f2f2;\n",
              "            }\n",
              "\n",
              "            .upgini-text {\n",
              "                text-align: left;\n",
              "            }\n",
              "\n",
              "            .upgini-number {\n",
              "                text-align: center;\n",
              "            }\n",
              "        </style>\n",
              "        <h2>*Description of AutoFE feature names</h2>\n",
              "        <div style=\"display:flex; flex-direction:column; align-items:flex-end; width: fit-content;\">\n",
              "            <div style=\"text-align: right\">\n",
              "                <button onclick=navigator.clipboard.writeText(decodeURI('Sources%09Feature%20name%09Feature%201%09Feature%202%09Function%0A%3Ca%20href%3D%27https%3A%2F%2Fupgini.com%2F%23data_sources%27%20target%3D%27_blank%27%20rel%3D%27noopener%20noreferrer%27%3ECalendar%20data%3C%2Fa%3E,%3Ca%20href%3D%27https%3A%2F%2Fupgini.com%2F%23data_sources%27%20target%3D%27_blank%27%20rel%3D%27noopener%20noreferrer%27%3EMarkets%20data%3C%2Fa%3E%09f_autofe_div_029f75a6%09f_events_date_week_sin1_847b5db1%09f_financial_date_nasdaq_7d_to_7d_1y_shift_4a4dd6ce%09%2F%0A%3Ca%20href%3D%27https%3A%2F%2Fupgini.com%2F%23data_sources%27%20target%3D%27_blank%27%20rel%3D%27noopener%20noreferrer%27%3ECalendar%20data%3C%2Fa%3E,%3Ca%20href%3D%27https%3A%2F%2Fupgini.com%2F%23data_sources%27%20target%3D%27_blank%27%20rel%3D%27noopener%20noreferrer%27%3EMarkets%20data%3C%2Fa%3E%09f_autofe_div_50507976%09f_events_date_year_cos1_9014a856%09f_financial_date_silver_e4e33014%09%2F%0A%3Ca%20href%3D%27https%3A%2F%2Fupgini.com%2F%23data_sources%27%20target%3D%27_blank%27%20rel%3D%27noopener%20noreferrer%27%3ECalendar%20data%3C%2Fa%3E,%3Ca%20href%3D%27https%3A%2F%2Fupgini.com%2F%23data_sources%27%20target%3D%27_blank%27%20rel%3D%27noopener%20noreferrer%27%3EMarkets%20data%3C%2Fa%3E%09f_autofe_mul_6793ee4f%09f_events_date_year_cos1_9014a856%09f_financial_date_vix_6c8e6194%09%2A%0A%3Ca%20href%3D%27https%3A%2F%2Fupgini.com%2F%23data_sources%27%20target%3D%27_blank%27%20rel%3D%27noopener%20noreferrer%27%3ECalendar%20data%3C%2Fa%3E,%3Ca%20href%3D%27https%3A%2F%2Fupgini.com%2F%23data_sources%27%20target%3D%27_blank%27%20rel%3D%27noopener%20noreferrer%27%3EMarkets%20data%3C%2Fa%3E%09f_autofe_mul_34d11bc4%09f_events_date_year_cos1_9014a856%09f_financial_date_silver_e4e33014%09%2A%0A%3Ca%20href%3D%27https%3A%2F%2Fupgini.com%2F%23data_sources%27%20target%3D%27_blank%27%20rel%3D%27noopener%20noreferrer%27%3ECalendar%20data%3C%2Fa%3E,%3Ca%20href%3D%27https%3A%2F%2Fupgini.com%2F%23data_sources%27%20target%3D%27_blank%27%20rel%3D%27noopener%20noreferrer%27%3EMarkets%20data%3C%2Fa%3E%09f_autofe_div_1edd5009%09f_events_date_year_cos1_9014a856%09f_financial_date_vix_6c8e6194%09%2F%0A%3Ca%20href%3D%27https%3A%2F%2Fupgini.com%2F%23data_sources%27%20target%3D%27_blank%27%20rel%3D%27noopener%20noreferrer%27%3ECalendar%20data%3C%2Fa%3E,%3Ca%20href%3D%27https%3A%2F%2Fupgini.com%2F%23data_sources%27%20target%3D%27_blank%27%20rel%3D%27noopener%20noreferrer%27%3EMarkets%20data%3C%2Fa%3E%09f_autofe_div_50a5dcaf%09f_events_date_week_cos3_7525fe31%09f_financial_date_silver_7d_to_7d_1y_shift_55fa8001%09%2F%0A%3Ca%20href%3D%27https%3A%2F%2Fupgini.com%2F%23data_sources%27%20target%3D%27_blank%27%20rel%3D%27noopener%20noreferrer%27%3EMarkets%20data%3C%2Fa%3E%09f_autofe_mul_6234ba3a%09f_financial_date_crude_oil_7d_to_1y_c3e0ad17%09f_financial_date_silver_7d_to_7d_1y_shift_55fa8001%09%2A%0A%3Ca%20href%3D%27https%3A%2F%2Fupgini.com%2F%23data_sources%27%20target%3D%27_blank%27%20rel%3D%27noopener%20noreferrer%27%3ECalendar%20data%3C%2Fa%3E,%3Ca%20href%3D%27https%3A%2F%2Fupgini.com%2F%23data_sources%27%20target%3D%27_blank%27%20rel%3D%27noopener%20noreferrer%27%3EMarkets%20data%3C%2Fa%3E%09f_autofe_div_3e22df83%09f_events_date_week_sin1_847b5db1%09f_financial_date_crude_oil_1f195998%09%2F%0A%3Ca%20href%3D%27https%3A%2F%2Fupgini.com%2F%23data_sources%27%20target%3D%27_blank%27%20rel%3D%27noopener%20noreferrer%27%3ECalendar%20data%3C%2Fa%3E,%3Ca%20href%3D%27https%3A%2F%2Fupgini.com%2F%23data_sources%27%20target%3D%27_blank%27%20rel%3D%27noopener%20noreferrer%27%3EMarkets%20data%3C%2Fa%3E%09f_autofe_div_89c56a5f%09f_events_date_year_cos1_9014a856%09f_financial_date_natural_gas_7d_to_7d_1y_shift_a5c3c07f%09%2F%0A%3Ca%20href%3D%27https%3A%2F%2Fupgini.com%2F%23data_sources%27%20target%3D%27_blank%27%20rel%3D%27noopener%20noreferrer%27%3ECalendar%20data%3C%2Fa%3E,%3Ca%20href%3D%27https%3A%2F%2Fupgini.com%2F%23data_sources%27%20target%3D%27_blank%27%20rel%3D%27noopener%20noreferrer%27%3EMarkets%20data%3C%2Fa%3E%09f_autofe_mul_478be4f3%09f_events_date_year_cos1_9014a856%09f_financial_date_natural_gas_7d_to_7d_1y_shift_a5c3c07f%09%2A%0A%3Ca%20href%3D%27https%3A%2F%2Fupgini.com%2F%23data_sources%27%20target%3D%27_blank%27%20rel%3D%27noopener%20noreferrer%27%3ECalendar%20data%3C%2Fa%3E,%3Ca%20href%3D%27https%3A%2F%2Fupgini.com%2F%23data_sources%27%20target%3D%27_blank%27%20rel%3D%27noopener%20noreferrer%27%3EMarkets%20data%3C%2Fa%3E%09f_autofe_div_534d01d5%09f_events_date_week_sin1_847b5db1%09f_financial_date_stoxx_043cbcd4%09%2F%0A%3Ca%20href%3D%27https%3A%2F%2Fupgini.com%2F%23data_sources%27%20target%3D%27_blank%27%20rel%3D%27noopener%20noreferrer%27%3ECalendar%20data%3C%2Fa%3E,%3Ca%20href%3D%27https%3A%2F%2Fupgini.com%2F%23data_sources%27%20target%3D%27_blank%27%20rel%3D%27noopener%20noreferrer%27%3EMarkets%20data%3C%2Fa%3E%09f_autofe_div_cf5dd7be%09f_events_date_week_sin1_847b5db1%09f_financial_date_vix_7d_to_1y_634c77eb%09%2F%0A%3Ca%20href%3D%27https%3A%2F%2Fupgini.com%2F%23data_sources%27%20target%3D%27_blank%27%20rel%3D%27noopener%20noreferrer%27%3ECalendar%20data%3C%2Fa%3E,%3Ca%20href%3D%27https%3A%2F%2Fupgini.com%2F%23data_sources%27%20target%3D%27_blank%27%20rel%3D%27noopener%20noreferrer%27%3EMarkets%20data%3C%2Fa%3E%09f_autofe_mul_3cb64162%09f_events_date_year_cos1_9014a856%09f_financial_date_stoxx_7d_to_7d_1y_shift_abef6e91%09%2A%0A%3Ca%20href%3D%27https%3A%2F%2Fupgini.com%2F%23data_sources%27%20target%3D%27_blank%27%20rel%3D%27noopener%20noreferrer%27%3ECalendar%20data%3C%2Fa%3E,%3Ca%20href%3D%27https%3A%2F%2Fupgini.com%2F%23data_sources%27%20target%3D%27_blank%27%20rel%3D%27noopener%20noreferrer%27%3EMarkets%20data%3C%2Fa%3E%09f_autofe_div_380598ae%09f_events_date_week_cos3_7525fe31%09f_financial_date_usd_eur_7d_to_1y_200e4902%09%2F%0A%3Ca%20href%3D%27https%3A%2F%2Fupgini.com%2F%23data_sources%27%20target%3D%27_blank%27%20rel%3D%27noopener%20noreferrer%27%3EMarkets%20data%3C%2Fa%3E%09f_autofe_div_f0159558%09f_financial_date_gold_7d_to_1y_ae310379%09f_financial_date_usd_eur_7d_to_1y_200e4902%09%2F%0A%3Ca%20href%3D%27https%3A%2F%2Fupgini.com%2F%23data_sources%27%20target%3D%27_blank%27%20rel%3D%27noopener%20noreferrer%27%3ECalendar%20data%3C%2Fa%3E,%3Ca%20href%3D%27https%3A%2F%2Fupgini.com%2F%23data_sources%27%20target%3D%27_blank%27%20rel%3D%27noopener%20noreferrer%27%3EMarkets%20data%3C%2Fa%3E%09f_autofe_div_c9ddcb38%09f_events_date_week_cos1_f6a8c1fc%09f_financial_date_silver_7d_to_7d_1y_shift_55fa8001%09%2F%0A%3Ca%20href%3D%27https%3A%2F%2Fupgini.com%2F%23data_sources%27%20target%3D%27_blank%27%20rel%3D%27noopener%20noreferrer%27%3ECalendar%20data%3C%2Fa%3E,%3Ca%20href%3D%27https%3A%2F%2Fupgini.com%2F%23data_sources%27%20target%3D%27_blank%27%20rel%3D%27noopener%20noreferrer%27%3EMarkets%20data%3C%2Fa%3E%09f_autofe_mul_b49258bb%09f_events_date_week_sin1_847b5db1%09f_financial_date_stoxx_043cbcd4%09%2A%0A%3Ca%20href%3D%27https%3A%2F%2Fupgini.com%2F%23data_sources%27%20target%3D%27_blank%27%20rel%3D%27noopener%20noreferrer%27%3ECalendar%20data%3C%2Fa%3E,%3Ca%20href%3D%27https%3A%2F%2Fupgini.com%2F%23data_sources%27%20target%3D%27_blank%27%20rel%3D%27noopener%20noreferrer%27%3EMarkets%20data%3C%2Fa%3E%09f_autofe_mul_0cc09d2d%09f_events_date_year_cos1_9014a856%09f_financial_date_crude_oil_1f195998%09%2A%0A%3Ca%20href%3D%27https%3A%2F%2Fupgini.com%2F%23data_sources%27%20target%3D%27_blank%27%20rel%3D%27noopener%20noreferrer%27%3ECalendar%20data%3C%2Fa%3E,%3Ca%20href%3D%27https%3A%2F%2Fupgini.com%2F%23data_sources%27%20target%3D%27_blank%27%20rel%3D%27noopener%20noreferrer%27%3EMarkets%20data%3C%2Fa%3E%09f_autofe_mul_5bd50798%09f_events_date_week_cos1_f6a8c1fc%09f_financial_date_nasdaq_7d_to_7d_1y_shift_4a4dd6ce%09%2A%0A%3Ca%20href%3D%27https%3A%2F%2Fupgini.com%2F%23data_sources%27%20target%3D%27_blank%27%20rel%3D%27noopener%20noreferrer%27%3ECalendar%20data%3C%2Fa%3E,%3Ca%20href%3D%27https%3A%2F%2Fupgini.com%2F%23data_sources%27%20target%3D%27_blank%27%20rel%3D%27noopener%20noreferrer%27%3EMarkets%20data%3C%2Fa%3E%09f_autofe_mul_af6d166b%09f_events_date_week_cos3_7525fe31%09f_financial_date_vix_7d_to_1y_634c77eb%09%2A%0A%3Ca%20href%3D%27https%3A%2F%2Fupgini.com%2F%23data_sources%27%20target%3D%27_blank%27%20rel%3D%27noopener%20noreferrer%27%3ECalendar%20data%3C%2Fa%3E,%3Ca%20href%3D%27https%3A%2F%2Fupgini.com%2F%23data_sources%27%20target%3D%27_blank%27%20rel%3D%27noopener%20noreferrer%27%3EMarkets%20data%3C%2Fa%3E%09f_autofe_mul_08e89348%09f_events_date_week_sin1_847b5db1%09f_financial_date_crude_oil_1f195998%09%2A%0A%3Ca%20href%3D%27https%3A%2F%2Fupgini.com%2F%23data_sources%27%20target%3D%27_blank%27%20rel%3D%27noopener%20noreferrer%27%3ECalendar%20data%3C%2Fa%3E,%3Ca%20href%3D%27https%3A%2F%2Fupgini.com%2F%23data_sources%27%20target%3D%27_blank%27%20rel%3D%27noopener%20noreferrer%27%3EMarkets%20data%3C%2Fa%3E%09f_autofe_mul_25296268%09f_events_date_week_sin1_847b5db1%09f_financial_date_vix_7d_to_1y_634c77eb%09%2A%0A%3Ca%20href%3D%27https%3A%2F%2Fupgini.com%2F%23data_sources%27%20target%3D%27_blank%27%20rel%3D%27noopener%20noreferrer%27%3ECalendar%20data%3C%2Fa%3E,%3Ca%20href%3D%27https%3A%2F%2Fupgini.com%2F%23data_sources%27%20target%3D%27_blank%27%20rel%3D%27noopener%20noreferrer%27%3EMarkets%20data%3C%2Fa%3E%09f_autofe_div_5665c21b%09f_events_date_week_cos1_f6a8c1fc%09f_financial_date_usd_eur_7d_to_1y_200e4902%09%2F%0A%3Ca%20href%3D%27https%3A%2F%2Fupgini.com%2F%23data_sources%27%20target%3D%27_blank%27%20rel%3D%27noopener%20noreferrer%27%3ECalendar%20data%3C%2Fa%3E,%3Ca%20href%3D%27https%3A%2F%2Fupgini.com%2F%23data_sources%27%20target%3D%27_blank%27%20rel%3D%27noopener%20noreferrer%27%3EMarkets%20data%3C%2Fa%3E%09f_autofe_div_a152c923%09f_events_date_year_cos1_9014a856%09f_financial_date_stoxx_043cbcd4%09%2F%0A%3Ca%20href%3D%27https%3A%2F%2Fupgini.com%2F%23data_sources%27%20target%3D%27_blank%27%20rel%3D%27noopener%20noreferrer%27%3ECalendar%20data%3C%2Fa%3E,%3Ca%20href%3D%27https%3A%2F%2Fupgini.com%2F%23data_sources%27%20target%3D%27_blank%27%20rel%3D%27noopener%20noreferrer%27%3EMarkets%20data%3C%2Fa%3E%09f_autofe_div_0a5adf97%09f_events_date_year_cos1_9014a856%09f_financial_date_natural_gas_92dac942%09%2F%0A%3Ca%20href%3D%27https%3A%2F%2Fupgini.com%2F%23data_sources%27%20target%3D%27_blank%27%20rel%3D%27noopener%20noreferrer%27%3EMarkets%20data%3C%2Fa%3E%09f_autofe_mul_4c9c7d0a%09f_financial_date_natural_gas_7d_to_1y_7a6f300d%09f_financial_date_silver_7d_to_7d_1y_shift_55fa8001%09%2A%0A%3Ca%20href%3D%27https%3A%2F%2Fupgini.com%2F%23data_sources%27%20target%3D%27_blank%27%20rel%3D%27noopener%20noreferrer%27%3ECalendar%20data%3C%2Fa%3E,%3Ca%20href%3D%27https%3A%2F%2Fupgini.com%2F%23data_sources%27%20target%3D%27_blank%27%20rel%3D%27noopener%20noreferrer%27%3EMarkets%20data%3C%2Fa%3E%09f_autofe_mul_cd42199d%09f_events_date_week_cos3_7525fe31%09f_financial_date_natural_gas_92dac942%09%2A%0A%3Ca%20href%3D%27https%3A%2F%2Fupgini.com%2F%23data_sources%27%20target%3D%27_blank%27%20rel%3D%27noopener%20noreferrer%27%3ECalendar%20data%3C%2Fa%3E,%3Ca%20href%3D%27https%3A%2F%2Fupgini.com%2F%23data_sources%27%20target%3D%27_blank%27%20rel%3D%27noopener%20noreferrer%27%3EMarkets%20data%3C%2Fa%3E%09f_autofe_mul_45a3c004%09f_events_date_week_cos3_7525fe31%09f_financial_date_silver_e4e33014%09%2A%0A%3Ca%20href%3D%27https%3A%2F%2Fupgini.com%2F%23data_sources%27%20target%3D%27_blank%27%20rel%3D%27noopener%20noreferrer%27%3ECalendar%20data%3C%2Fa%3E,%3Ca%20href%3D%27https%3A%2F%2Fupgini.com%2F%23data_sources%27%20target%3D%27_blank%27%20rel%3D%27noopener%20noreferrer%27%3EMarkets%20data%3C%2Fa%3E%09f_autofe_mul_165c74ad%09f_events_date_week_sin1_847b5db1%09f_financial_date_stoxx_7d_to_7d_1y_shift_abef6e91%09%2A%0A%3Ca%20href%3D%27https%3A%2F%2Fupgini.com%2F%23data_sources%27%20target%3D%27_blank%27%20rel%3D%27noopener%20noreferrer%27%3ECalendar%20data%3C%2Fa%3E,%3Ca%20href%3D%27https%3A%2F%2Fupgini.com%2F%23data_sources%27%20target%3D%27_blank%27%20rel%3D%27noopener%20noreferrer%27%3EMarkets%20data%3C%2Fa%3E%09f_autofe_mul_049f502d%09f_events_date_week_sin2_e28440a5%09f_financial_date_stoxx_043cbcd4%09%2A%0A%3Ca%20href%3D%27https%3A%2F%2Fupgini.com%2F%23data_sources%27%20target%3D%27_blank%27%20rel%3D%27noopener%20noreferrer%27%3ECalendar%20data%3C%2Fa%3E,%3Ca%20href%3D%27https%3A%2F%2Fupgini.com%2F%23data_sources%27%20target%3D%27_blank%27%20rel%3D%27noopener%20noreferrer%27%3EMarkets%20data%3C%2Fa%3E%09f_autofe_mul_9a4ab68c%09f_events_date_week_cos1_f6a8c1fc%09f_financial_date_silver_e4e33014%09%2A%0A%3Ca%20href%3D%27https%3A%2F%2Fupgini.com%2F%23data_sources%27%20target%3D%27_blank%27%20rel%3D%27noopener%20noreferrer%27%3EMarkets%20data%3C%2Fa%3E%09f_autofe_mul_eff3c92e%09f_financial_date_natural_gas_7d_to_7d_1y_shift_a5c3c07f%09f_financial_date_stoxx_7d_to_7d_1y_shift_abef6e91%09%2A%0A%3Ca%20href%3D%27https%3A%2F%2Fupgini.com%2F%23data_sources%27%20target%3D%27_blank%27%20rel%3D%27noopener%20noreferrer%27%3ECalendar%20data%3C%2Fa%3E,%3Ca%20href%3D%27https%3A%2F%2Fupgini.com%2F%23data_sources%27%20target%3D%27_blank%27%20rel%3D%27noopener%20noreferrer%27%3EMarkets%20data%3C%2Fa%3E%09f_autofe_div_66be9f98%09f_events_date_week_cos3_7525fe31%09f_financial_date_snp500_7d_to_1y_378b9f99%09%2F%0A%3Ca%20href%3D%27https%3A%2F%2Fupgini.com%2F%23data_sources%27%20target%3D%27_blank%27%20rel%3D%27noopener%20noreferrer%27%3ECalendar%20data%3C%2Fa%3E,%3Ca%20href%3D%27https%3A%2F%2Fupgini.com%2F%23data_sources%27%20target%3D%27_blank%27%20rel%3D%27noopener%20noreferrer%27%3EMarkets%20data%3C%2Fa%3E%09f_autofe_mul_dfd3cddf%09f_events_date_week_sin1_847b5db1%09f_financial_date_crude_oil_7d_to_7d_1y_shift_718136ef%09%2A%0A%3Ca%20href%3D%27https%3A%2F%2Fupgini.com%2F%23data_sources%27%20target%3D%27_blank%27%20rel%3D%27noopener%20noreferrer%27%3ECalendar%20data%3C%2Fa%3E,%3Ca%20href%3D%27https%3A%2F%2Fupgini.com%2F%23data_sources%27%20target%3D%27_blank%27%20rel%3D%27noopener%20noreferrer%27%3EMarkets%20data%3C%2Fa%3E%09f_autofe_div_270d64a2%09f_events_date_week_cos1_f6a8c1fc%09f_financial_date_crude_oil_7d_to_1y_c3e0ad17%09%2F%0A%3Ca%20href%3D%27https%3A%2F%2Fupgini.com%2F%23data_sources%27%20target%3D%27_blank%27%20rel%3D%27noopener%20noreferrer%27%3ECalendar%20data%3C%2Fa%3E,%3Ca%20href%3D%27https%3A%2F%2Fupgini.com%2F%23data_sources%27%20target%3D%27_blank%27%20rel%3D%27noopener%20noreferrer%27%3EMarkets%20data%3C%2Fa%3E%09f_autofe_mul_693c8d50%09f_events_date_week_cos1_f6a8c1fc%09f_financial_date_silver_1d_to_7d_f35d6e93%09%2A%0A%3Ca%20href%3D%27https%3A%2F%2Fupgini.com%2F%23data_sources%27%20target%3D%27_blank%27%20rel%3D%27noopener%20noreferrer%27%3ECalendar%20data%3C%2Fa%3E,%3Ca%20href%3D%27https%3A%2F%2Fupgini.com%2F%23data_sources%27%20target%3D%27_blank%27%20rel%3D%27noopener%20noreferrer%27%3EMarkets%20data%3C%2Fa%3E%09f_autofe_div_c2f55b86%09f_events_date_week_cos3_7525fe31%09f_financial_date_stoxx_043cbcd4%09%2F%0A%3Ca%20href%3D%27https%3A%2F%2Fupgini.com%2F%23data_sources%27%20target%3D%27_blank%27%20rel%3D%27noopener%20noreferrer%27%3ECalendar%20data%3C%2Fa%3E%09f_autofe_mul_041b52f4%09f_events_date_week_sin1_847b5db1%09f_events_date_year_sin1_3c44bc64%09%2A%0A%3Ca%20href%3D%27https%3A%2F%2Fupgini.com%2F%23data_sources%27%20target%3D%27_blank%27%20rel%3D%27noopener%20noreferrer%27%3ECalendar%20data%3C%2Fa%3E,%3Ca%20href%3D%27https%3A%2F%2Fupgini.com%2F%23data_sources%27%20target%3D%27_blank%27%20rel%3D%27noopener%20noreferrer%27%3EMarkets%20data%3C%2Fa%3E%09f_autofe_mul_b0ac774f%09f_events_date_week_sin2_e28440a5%09f_financial_date_natural_gas_7d_to_7d_1y_shift_a5c3c07f%09%2A%0A%3Ca%20href%3D%27https%3A%2F%2Fupgini.com%2F%23data_sources%27%20target%3D%27_blank%27%20rel%3D%27noopener%20noreferrer%27%3ECalendar%20data%3C%2Fa%3E,%3Ca%20href%3D%27https%3A%2F%2Fupgini.com%2F%23data_sources%27%20target%3D%27_blank%27%20rel%3D%27noopener%20noreferrer%27%3EMarkets%20data%3C%2Fa%3E%09f_autofe_div_40bee497%09f_events_date_week_cos1_f6a8c1fc%09f_financial_date_stoxx_043cbcd4%09%2F%0A%3Ca%20href%3D%27https%3A%2F%2Fupgini.com%2F%23data_sources%27%20target%3D%27_blank%27%20rel%3D%27noopener%20noreferrer%27%3ECalendar%20data%3C%2Fa%3E,%3Ca%20href%3D%27https%3A%2F%2Fupgini.com%2F%23data_sources%27%20target%3D%27_blank%27%20rel%3D%27noopener%20noreferrer%27%3EMarkets%20data%3C%2Fa%3E%09f_autofe_div_671f8233%09f_events_date_week_cos1_f6a8c1fc%09f_financial_date_vix_7d_to_1y_634c77eb%09%2F%0A%3Ca%20href%3D%27https%3A%2F%2Fupgini.com%2F%23data_sources%27%20target%3D%27_blank%27%20rel%3D%27noopener%20noreferrer%27%3EMarkets%20data%3C%2Fa%3E%09f_autofe_div_ab3bd138%09f_financial_date_nasdaq_7d_to_7d_1y_shift_4a4dd6ce%09f_financial_date_snp500_7d_to_1y_378b9f99%09%2F%0A%3Ca%20href%3D%27https%3A%2F%2Fupgini.com%2F%23data_sources%27%20target%3D%27_blank%27%20rel%3D%27noopener%20noreferrer%27%3ECalendar%20data%3C%2Fa%3E,%3Ca%20href%3D%27https%3A%2F%2Fupgini.com%2F%23data_sources%27%20target%3D%27_blank%27%20rel%3D%27noopener%20noreferrer%27%3EMarkets%20data%3C%2Fa%3E%09f_autofe_div_ab7c3e47%09f_events_date_week_cos1_f6a8c1fc%09f_financial_date_stoxx_7d_to_7d_1y_shift_abef6e91%09%2F%0A%3Ca%20href%3D%27https%3A%2F%2Fupgini.com%2F%23data_sources%27%20target%3D%27_blank%27%20rel%3D%27noopener%20noreferrer%27%3ECalendar%20data%3C%2Fa%3E,%3Ca%20href%3D%27https%3A%2F%2Fupgini.com%2F%23data_sources%27%20target%3D%27_blank%27%20rel%3D%27noopener%20noreferrer%27%3EMarkets%20data%3C%2Fa%3E%09f_autofe_mul_364b79fa%09f_events_date_week_cos3_7525fe31%09f_financial_date_usd_eur_7d_to_1y_200e4902%09%2A%0A%3Ca%20href%3D%27https%3A%2F%2Fupgini.com%2F%23data_sources%27%20target%3D%27_blank%27%20rel%3D%27noopener%20noreferrer%27%3ECalendar%20data%3C%2Fa%3E,%3Ca%20href%3D%27https%3A%2F%2Fupgini.com%2F%23data_sources%27%20target%3D%27_blank%27%20rel%3D%27noopener%20noreferrer%27%3EMarkets%20data%3C%2Fa%3E%09f_autofe_div_a86f907a%09f_events_date_week_cos3_7525fe31%09f_financial_date_natural_gas_1d_to_7d_1fd6362a%09%2F%0A%3Ca%20href%3D%27https%3A%2F%2Fupgini.com%2F%23data_sources%27%20target%3D%27_blank%27%20rel%3D%27noopener%20noreferrer%27%3ECalendar%20data%3C%2Fa%3E,%3Ca%20href%3D%27https%3A%2F%2Fupgini.com%2F%23data_sources%27%20target%3D%27_blank%27%20rel%3D%27noopener%20noreferrer%27%3EMarkets%20data%3C%2Fa%3E%09f_autofe_div_66e46a80%09f_events_date_week_cos1_f6a8c1fc%09f_financial_date_natural_gas_1d_to_7d_1fd6362a%09%2F%0A%3Ca%20href%3D%27https%3A%2F%2Fupgini.com%2F%23data_sources%27%20target%3D%27_blank%27%20rel%3D%27noopener%20noreferrer%27%3EMarkets%20data%3C%2Fa%3E%09f_autofe_div_d0993cdc%09f_financial_date_stoxx_043cbcd4%09f_financial_date_stoxx_7d_to_1y_2ea815f4%09%2F%0A%3Ca%20href%3D%27https%3A%2F%2Fupgini.com%2F%23data_sources%27%20target%3D%27_blank%27%20rel%3D%27noopener%20noreferrer%27%3ECalendar%20data%3C%2Fa%3E%09f_autofe_div_67b10df3%09f_events_date_year_cos6_7c1806a3%09f_events_date_year_sin2_59955ffd%09%2F%0A%3Ca%20href%3D%27https%3A%2F%2Fupgini.com%2F%23data_sources%27%20target%3D%27_blank%27%20rel%3D%27noopener%20noreferrer%27%3ECalendar%20data%3C%2Fa%3E,%3Ca%20href%3D%27https%3A%2F%2Fupgini.com%2F%23data_sources%27%20target%3D%27_blank%27%20rel%3D%27noopener%20noreferrer%27%3EMarkets%20data%3C%2Fa%3E%09f_autofe_div_69990bb4%09f_events_date_week_sin1_847b5db1%09f_financial_date_natural_gas_7d_to_1y_7a6f300d%09%2F%0A%3Ca%20href%3D%27https%3A%2F%2Fupgini.com%2F%23data_sources%27%20target%3D%27_blank%27%20rel%3D%27noopener%20noreferrer%27%3ECalendar%20data%3C%2Fa%3E,%3Ca%20href%3D%27https%3A%2F%2Fupgini.com%2F%23data_sources%27%20target%3D%27_blank%27%20rel%3D%27noopener%20noreferrer%27%3EMarkets%20data%3C%2Fa%3E%09f_autofe_div_22b77c5b%09f_events_date_week_sin2_e28440a5%09f_financial_date_vix_7d_to_1y_634c77eb%09%2F%0A%3Ca%20href%3D%27https%3A%2F%2Fupgini.com%2F%23data_sources%27%20target%3D%27_blank%27%20rel%3D%27noopener%20noreferrer%27%3EMarkets%20data%3C%2Fa%3E%09f_autofe_div_fb99ff57%09f_financial_date_stoxx_043cbcd4%09f_financial_date_usd_7d_to_7d_1y_shift_35cb53e9%09%2F%0A%3Ca%20href%3D%27https%3A%2F%2Fupgini.com%2F%23data_sources%27%20target%3D%27_blank%27%20rel%3D%27noopener%20noreferrer%27%3EMarkets%20data%3C%2Fa%3E%09f_autofe_mul_c883f8a6%09f_financial_date_nasdaq_7d_to_7d_1y_shift_4a4dd6ce%09f_financial_date_stoxx_043cbcd4%09%2A%0A%3Ca%20href%3D%27https%3A%2F%2Fupgini.com%2F%23data_sources%27%20target%3D%27_blank%27%20rel%3D%27noopener%20noreferrer%27%3ECalendar%20data%3C%2Fa%3E,%3Ca%20href%3D%27https%3A%2F%2Fupgini.com%2F%23data_sources%27%20target%3D%27_blank%27%20rel%3D%27noopener%20noreferrer%27%3EMarkets%20data%3C%2Fa%3E%09f_autofe_mul_6a97c336%09f_events_date_week_cos1_f6a8c1fc%09f_financial_date_vix_7d_to_1y_634c77eb%09%2A%0A%3Ca%20href%3D%27https%3A%2F%2Fupgini.com%2F%23data_sources%27%20target%3D%27_blank%27%20rel%3D%27noopener%20noreferrer%27%3EMarkets%20data%3C%2Fa%3E%09f_autofe_div_0016ede5%09f_financial_date_crude_oil_1f195998%09f_financial_date_crude_oil_7d_to_7d_1y_shift_718136ef%09%2F%0A%3Ca%20href%3D%27https%3A%2F%2Fupgini.com%2F%23data_sources%27%20target%3D%27_blank%27%20rel%3D%27noopener%20noreferrer%27%3EMarkets%20data%3C%2Fa%3E%09f_autofe_mul_44503c6f%09f_financial_date_natural_gas_92dac942%09f_financial_date_natural_gas_7d_to_7d_1y_shift_a5c3c07f%09%2A%0A%3Ca%20href%3D%27https%3A%2F%2Fupgini.com%2F%23data_sources%27%20target%3D%27_blank%27%20rel%3D%27noopener%20noreferrer%27%3ECalendar%20data%3C%2Fa%3E%09f_autofe_mul_8c2f1d42%09f_events_date_week_cos3_7525fe31%09f_events_date_year_cos1_9014a856%09%2A%0A%3Ca%20href%3D%27https%3A%2F%2Fupgini.com%2F%23data_sources%27%20target%3D%27_blank%27%20rel%3D%27noopener%20noreferrer%27%3ECalendar%20data%3C%2Fa%3E,%3Ca%20href%3D%27https%3A%2F%2Fupgini.com%2F%23data_sources%27%20target%3D%27_blank%27%20rel%3D%27noopener%20noreferrer%27%3EMarkets%20data%3C%2Fa%3E%09f_autofe_mul_8437d645%09f_events_date_week_cos1_f6a8c1fc%09f_financial_date_usd_7419609a%09%2A%0A%3Ca%20href%3D%27https%3A%2F%2Fupgini.com%2F%23data_sources%27%20target%3D%27_blank%27%20rel%3D%27noopener%20noreferrer%27%3ECalendar%20data%3C%2Fa%3E,%3Ca%20href%3D%27https%3A%2F%2Fupgini.com%2F%23data_sources%27%20target%3D%27_blank%27%20rel%3D%27noopener%20noreferrer%27%3EMarkets%20data%3C%2Fa%3E%09f_autofe_mul_3e749d53%09f_events_date_week_cos3_7525fe31%09f_financial_date_nasdaq_7d_to_7d_1y_shift_4a4dd6ce%09%2A%0A%3Ca%20href%3D%27https%3A%2F%2Fupgini.com%2F%23data_sources%27%20target%3D%27_blank%27%20rel%3D%27noopener%20noreferrer%27%3EMarkets%20data%3C%2Fa%3E%09f_autofe_div_ef42018c%09f_financial_date_usd_7d_to_7d_1y_shift_35cb53e9%09f_financial_date_usd_eur_7d_to_1y_200e4902%09%2F%0A'))>📂 Copy</button>\n",
              "                <a href='mailto:<Share with...>?subject=Relevant external data sources from Upgini.com&body=Sources%09Feature%20name%09Feature%201%09Feature%202%09Function%0A%3Ca%20href%3D%27https%3A%2F%2Fupgini.com%2F%23data_sources%27%20target%3D%27_blank%27%20rel%3D%27noopener%20noreferrer%27%3ECalendar%20data%3C%2Fa%3E,%3Ca%20href%3D%27https%3A%2F%2Fupgini.com%2F%23data_sources%27%20target%3D%27_blank%27%20rel%3D%27noopener%20noreferrer%27%3EMarkets%20data%3C%2Fa%3E%09f_autofe_div_029f75a6%09f_events_date_week_sin1_847b5db1%09f_financial_date_nasdaq_7d_to_7d_1y_shift_4a4dd6ce%09%2F%0A%3Ca%20href%3D%27https%3A%2F%2Fupgini.com%2F%23data_sources%27%20target%3D%27_blank%27%20rel%3D%27noopener%20noreferrer%27%3ECalendar%20data%3C%2Fa%3E,%3Ca%20href%3D%27https%3A%2F%2Fupgini.com%2F%23data_sources%27%20target%3D%27_blank%27%20rel%3D%27noopener%20noreferrer%27%3EMarkets%20data%3C%2Fa%3E%09f_autofe_div_50507976%09f_events_date_year_cos1_9014a856%09f_financial_date_silver_e4e33014%09%2F%0A%3Ca%20href%3D%27https%3A%2F%2Fupgini.com%2F%23data_sources%27%20target%3D%27_blank%27%20rel%3D%27noopener%20noreferrer%27%3ECalendar%20data%3C%2Fa%3E,%3Ca%20href%3D%27https%3A%2F%2Fupgini.com%2F%23data_sources%27%20target%3D%27_blank%27%20rel%3D%27noopener%20noreferrer%27%3EMarkets%20data%3C%2Fa%3E%09f_autofe_mul_6793ee4f%09f_events_date_year_cos1_9014a856%09f_financial_date_vix_6c8e6194%09%2A%0A%3Ca%20href%3D%27https%3A%2F%2Fupgini.com%2F%23data_sources%27%20target%3D%27_blank%27%20rel%3D%27noopener%20noreferrer%27%3ECalendar%20data%3C%2Fa%3E,%3Ca%20href%3D%27https%3A%2F%2Fupgini.com%2F%23data_sources%27%20target%3D%27_blank%27%20rel%3D%27noopener%20noreferrer%27%3EMarkets%20data%3C%2Fa%3E%09f_autofe_mul_34d11bc4%09f_events_date_year_cos1_9014a856%09f_financial_date_silver_e4e33014%09%2A%0A%3Ca%20href%3D%27https%3A%2F%2Fupgini.com%2F%23data_sources%27%20target%3D%27_blank%27%20rel%3D%27noopener%20noreferrer%27%3ECalendar%20data%3C%2Fa%3E,%3Ca%20href%3D%27https%3A%2F%2Fupgini.com%2F%23data_sources%27%20target%3D%27_blank%27%20rel%3D%27noopener%20noreferrer%27%3EMarkets%20data%3C%2Fa%3E%09f_autofe_div_1edd5009%09f_events_date_year_cos1_9014a856%09f_financial_date_vix_6c8e6194%09%2F%0A%3Ca%20href%3D%27https%3A%2F%2Fupgini.com%2F%23data_sources%27%20target%3D%27_blank%27%20rel%3D%27noopener%20noreferrer%27%3ECalendar%20data%3C%2Fa%3E,%3Ca%20href%3D%27https%3A%2F%2Fupgini.com%2F%23data_sources%27%20target%3D%27_blank%27%20rel%3D%27noopener%20noreferrer%27%3EMarkets%20data%3C%2Fa%3E%09f_autofe_div_50a5dcaf%09f_events_date_week_cos3_7525fe31%09f_financial_date_silver_7d_to_7d_1y_shift_55fa8001%09%2F%0A%3Ca%20href%3D%27https%3A%2F%2Fupgini.com%2F%23data_sources%27%20target%3D%27_blank%27%20rel%3D%27noopener%20noreferrer%27%3EMarkets%20data%3C%2Fa%3E%09f_autofe_mul_6234ba3a%09f_financial_date_crude_oil_7d_to_1y_c3e0ad17%09f_financial_date_silver_7d_to_7d_1y_shift_55fa8001%09%2A%0A%3Ca%20href%3D%27https%3A%2F%2Fupgini.com%2F%23data_sources%27%20target%3D%27_blank%27%20rel%3D%27noopener%20noreferrer%27%3ECalendar%20data%3C%2Fa%3E,%3Ca%20href%3D%27https%3A%2F%2Fupgini.com%2F%23data_sources%27%20target%3D%27_blank%27%20rel%3D%27noopener%20noreferrer%27%3EMarkets%20data%3C%2Fa%3E%09f_autofe_div_3e22df83%09f_events_date_week_sin1_847b5db1%09f_financial_date_crude_oil_1f195998%09%2F%0A%3Ca%20href%3D%27https%3A%2F%2Fupgini.com%2F%23data_sources%27%20target%3D%27_blank%27%20rel%3D%27noopener%20noreferrer%27%3ECalendar%20data%3C%2Fa%3E,%3Ca%20href%3D%27https%3A%2F%2Fupgini.com%2F%23data_sources%27%20target%3D%27_blank%27%20rel%3D%27noopener%20noreferrer%27%3EMarkets%20data%3C%2Fa%3E%09f_autofe_div_89c56a5f%09f_events_date_year_cos1_9014a856%09f_financial_date_natural_gas_7d_to_7d_1y_shift_a5c3c07f%09%2F%0A%3Ca%20href%3D%27https%3A%2F%2Fupgini.com%2F%23data_sources%27%20target%3D%27_blank%27%20rel%3D%27noopener%20noreferrer%27%3ECalendar%20data%3C%2Fa%3E,%3Ca%20href%3D%27https%3A%2F%2Fupgini.com%2F%23data_sources%27%20target%3D%27_blank%27%20rel%3D%27noopener%20noreferrer%27%3EMarkets%20data%3C%2Fa%3E%09f_autofe_mul_478be4f3%09f_events_date_year_cos1_9014a856%09f_financial_date_natural_gas_7d_to_7d_1y_shift_a5c3c07f%09%2A%0A%3Ca%20href%3D%27https%3A%2F%2Fupgini.com%2F%23data_sources%27%20target%3D%27_blank%27%20rel%3D%27noopener%20noreferrer%27%3ECalendar%20data%3C%2Fa%3E,%3Ca%20href%3D%27https%3A%2F%2Fupgini.com%2F%23data_sources%27%20target%3D%27_blank%27%20rel%3D%27noopener%20noreferrer%27%3EMarkets%20data%3C%2Fa%3E%09f_autofe_div_534d01d5%09f_events_date_week_sin1_847b5db1%09f_financial_date_stoxx_043cbcd4%09%2F%0A%3Ca%20href%3D%27https%3A%2F%2Fupgini.com%2F%23data_sources%27%20target%3D%27_blank%27%20rel%3D%27noopener%20noreferrer%27%3ECalendar%20data%3C%2Fa%3E,%3Ca%20href%3D%27https%3A%2F%2Fupgini.com%2F%23data_sources%27%20target%3D%27_blank%27%20rel%3D%27noopener%20noreferrer%27%3EMarkets%20data%3C%2Fa%3E%09f_autofe_div_cf5dd7be%09f_events_date_week_sin1_847b5db1%09f_financial_date_vix_7d_to_1y_634c77eb%09%2F%0A%3Ca%20href%3D%27https%3A%2F%2Fupgini.com%2F%23data_sources%27%20target%3D%27_blank%27%20rel%3D%27noopener%20noreferrer%27%3ECalendar%20data%3C%2Fa%3E,%3Ca%20href%3D%27https%3A%2F%2Fupgini.com%2F%23data_sources%27%20target%3D%27_blank%27%20rel%3D%27noopener%20noreferrer%27%3EMarkets%20data%3C%2Fa%3E%09f_autofe_mul_3cb64162%09f_events_date_year_cos1_9014a856%09f_financial_date_stoxx_7d_to_7d_1y_shift_abef6e91%09%2A%0A%3Ca%20href%3D%27https%3A%2F%2Fupgini.com%2F%23data_sources%27%20target%3D%27_blank%27%20rel%3D%27noopener%20noreferrer%27%3ECalendar%20data%3C%2Fa%3E,%3Ca%20href%3D%27https%3A%2F%2Fupgini.com%2F%23data_sources%27%20target%3D%27_blank%27%20rel%3D%27noopener%20noreferrer%27%3EMarkets%20data%3C%2Fa%3E%09f_autofe_div_380598ae%09f_events_date_week_cos3_7525fe31%09f_financial_date_usd_eur_7d_to_1y_200e4902%09%2F%0A%3Ca%20href%3D%27https%3A%2F%2Fupgini.com%2F%23data_sources%27%20target%3D%27_blank%27%20rel%3D%27noopener%20noreferrer%27%3EMarkets%20data%3C%2Fa%3E%09f_autofe_div_f0159558%09f_financial_date_gold_7d_to_1y_ae310379%09f_financial_date_usd_eur_7d_to_1y_200e4902%09%2F%0A%3Ca%20href%3D%27https%3A%2F%2Fupgini.com%2F%23data_sources%27%20target%3D%27_blank%27%20rel%3D%27noopener%20noreferrer%27%3ECalendar%20data%3C%2Fa%3E,%3Ca%20href%3D%27https%3A%2F%2Fupgini.com%2F%23data_sources%27%20target%3D%27_blank%27%20rel%3D%27noopener%20noreferrer%27%3EMarkets%20data%3C%2Fa%3E%09f_autofe_div_c9ddcb38%09f_events_date_week_cos1_f6a8c1fc%09f_financial_date_silver_7d_to_7d_1y_shift_55fa8001%09%2F%0A%3Ca%20href%3D%27https%3A%2F%2Fupgini.com%2F%23data_sources%27%20target%3D%27_blank%27%20rel%3D%27noopener%20noreferrer%27%3ECalendar%20data%3C%2Fa%3E,%3Ca%20href%3D%27https%3A%2F%2Fupgini.com%2F%23data_sources%27%20target%3D%27_blank%27%20rel%3D%27noopener%20noreferrer%27%3EMarkets%20data%3C%2Fa%3E%09f_autofe_mul_b49258bb%09f_events_date_week_sin1_847b5db1%09f_financial_date_stoxx_043cbcd4%09%2A%0A%3Ca%20href%3D%27https%3A%2F%2Fupgini.com%2F%23data_sources%27%20target%3D%27_blank%27%20rel%3D%27noopener%20noreferrer%27%3ECalendar%20data%3C%2Fa%3E,%3Ca%20href%3D%27https%3A%2F%2Fupgini.com%2F%23data_sources%27%20target%3D%27_blank%27%20rel%3D%27noopener%20noreferrer%27%3EMarkets%20data%3C%2Fa%3E%09f_autofe_mul_0cc09d2d%09f_events_date_year_cos1_9014a856%09f_financial_date_crude_oil_1f195998%09%2A%0A%3Ca%20href%3D%27https%3A%2F%2Fupgini.com%2F%23data_sources%27%20target%3D%27_blank%27%20rel%3D%27noopener%20noreferrer%27%3ECalendar%20data%3C%2Fa%3E,%3Ca%20href%3D%27https%3A%2F%2Fupgini.com%2F%23data_sources%27%20target%3D%27_blank%27%20rel%3D%27noopener%20noreferrer%27%3EMarkets%20data%3C%2Fa%3E%09f_autofe_mul_5bd50798%09f_events_date_week_cos1_f6a8c1fc%09f_financial_date_nasdaq_7d_to_7d_1y_shift_4a4dd6ce%09%2A%0A%3Ca%20href%3D%27https%3A%2F%2Fupgini.com%2F%23data_sources%27%20target%3D%27_blank%27%20rel%3D%27noopener%20noreferrer%27%3ECalendar%20data%3C%2Fa%3E,%3Ca%20href%3D%27https%3A%2F%2Fupgini.com%2F%23data_sources%27%20target%3D%27_blank%27%20rel%3D%27noopener%20noreferrer%27%3EMarkets%20data%3C%2Fa%3E%09f_autofe_mul_af6d166b%09f_events_date_week_cos3_7525fe31%09f_financial_date_vix_7d_to_1y_634c77eb%09%2A%0A%3Ca%20href%3D%27https%3A%2F%2Fupgini.com%2F%23data_sources%27%20target%3D%27_blank%27%20rel%3D%27noopener%20noreferrer%27%3ECalendar%20data%3C%2Fa%3E,%3Ca%20href%3D%27https%3A%2F%2Fupgini.com%2F%23data_sources%27%20target%3D%27_blank%27%20rel%3D%27noopener%20noreferrer%27%3EMarkets%20data%3C%2Fa%3E%09f_autofe_mul_08e89348%09f_events_date_week_sin1_847b5db1%09f_financial_date_crude_oil_1f195998%09%2A%0A%3Ca%20href%3D%27https%3A%2F%2Fupgini.com%2F%23data_sources%27%20target%3D%27_blank%27%20rel%3D%27noopener%20noreferrer%27%3ECalendar%20data%3C%2Fa%3E,%3Ca%20href%3D%27https%3A%2F%2Fupgini.com%2F%23data_sources%27%20target%3D%27_blank%27%20rel%3D%27noopener%20noreferrer%27%3EMarkets%20data%3C%2Fa%3E%09f_autofe_mul_25296268%09f_events_date_week_sin1_847b5db1%09f_financial_date_vix_7d_to_1y_634c77eb%09%2A%0A%3Ca%20href%3D%27https%3A%2F%2Fupgini.com%2F%23data_sources%27%20target%3D%27_blank%27%20rel%3D%27noopener%20noreferrer%27%3ECalendar%20data%3C%2Fa%3E,%3Ca%20href%3D%27https%3A%2F%2Fupgini.com%2F%23data_sources%27%20target%3D%27_blank%27%20rel%3D%27noopener%20noreferrer%27%3EMarkets%20data%3C%2Fa%3E%09f_autofe_div_5665c21b%09f_events_date_week_cos1_f6a8c1fc%09f_financial_date_usd_eur_7d_to_1y_200e4902%09%2F%0A%3Ca%20href%3D%27https%3A%2F%2Fupgini.com%2F%23data_sources%27%20target%3D%27_blank%27%20rel%3D%27noopener%20noreferrer%27%3ECalendar%20data%3C%2Fa%3E,%3Ca%20href%3D%27https%3A%2F%2Fupgini.com%2F%23data_sources%27%20target%3D%27_blank%27%20rel%3D%27noopener%20noreferrer%27%3EMarkets%20data%3C%2Fa%3E%09f_autofe_div_a152c923%09f_events_date_year_cos1_9014a856%09f_financial_date_stoxx_043cbcd4%09%2F%0A%3Ca%20href%3D%27https%3A%2F%2Fupgini.com%2F%23data_sources%27%20target%3D%27_blank%27%20rel%3D%27noopener%20noreferrer%27%3ECalendar%20data%3C%2Fa%3E,%3Ca%20href%3D%27https%3A%2F%2Fupgini.com%2F%23data_sources%27%20target%3D%27_blank%27%20rel%3D%27noopener%20noreferrer%27%3EMarkets%20data%3C%2Fa%3E%09f_autofe_div_0a5adf97%09f_events_date_year_cos1_9014a856%09f_financial_date_natural_gas_92dac942%09%2F%0A%3Ca%20href%3D%27https%3A%2F%2Fupgini.com%2F%23data_sources%27%20target%3D%27_blank%27%20rel%3D%27noopener%20noreferrer%27%3EMarkets%20data%3C%2Fa%3E%09f_autofe_mul_4c9c7d0a%09f_financial_date_natural_gas_7d_to_1y_7a6f300d%09f_financial_date_silver_7d_to_7d_1y_shift_55fa8001%09%2A%0A%3Ca%20href%3D%27https%3A%2F%2Fupgini.com%2F%23data_sources%27%20target%3D%27_blank%27%20rel%3D%27noopener%20noreferrer%27%3ECalendar%20data%3C%2Fa%3E,%3Ca%20href%3D%27https%3A%2F%2Fupgini.com%2F%23data_sources%27%20target%3D%27_blank%27%20rel%3D%27noopener%20noreferrer%27%3EMarkets%20data%3C%2Fa%3E%09f_autofe_mul_cd42199d%09f_events_date_week_cos3_7525fe31%09f_financial_date_natural_gas_92dac942%09%2A%0A%3Ca%20href%3D%27https%3A%2F%2Fupgini.com%2F%23data_sources%27%20target%3D%27_blank%27%20rel%3D%27noopener%20noreferrer%27%3ECalendar%20data%3C%2Fa%3E,%3Ca%20href%3D%27https%3A%2F%2Fupgini.com%2F%23data_sources%27%20target%3D%27_blank%27%20rel%3D%27noopener%20noreferrer%27%3EMarkets%20data%3C%2Fa%3E%09f_autofe_mul_45a3c004%09f_events_date_week_cos3_7525fe31%09f_financial_date_silver_e4e33014%09%2A%0A%3Ca%20href%3D%27https%3A%2F%2Fupgini.com%2F%23data_sources%27%20target%3D%27_blank%27%20rel%3D%27noopener%20noreferrer%27%3ECalendar%20data%3C%2Fa%3E,%3Ca%20href%3D%27https%3A%2F%2Fupgini.com%2F%23data_sources%27%20target%3D%27_blank%27%20rel%3D%27noopener%20noreferrer%27%3EMarkets%20data%3C%2Fa%3E%09f_autofe_mul_165c74ad%09f_events_date_week_sin1_847b5db1%09f_financial_date_stoxx_7d_to_7d_1y_shift_abef6e91%09%2A%0A%3Ca%20href%3D%27https%3A%2F%2Fupgini.com%2F%23data_sources%27%20target%3D%27_blank%27%20rel%3D%27noopener%20noreferrer%27%3ECalendar%20data%3C%2Fa%3E,%3Ca%20href%3D%27https%3A%2F%2Fupgini.com%2F%23data_sources%27%20target%3D%27_blank%27%20rel%3D%27noopener%20noreferrer%27%3EMarkets%20data%3C%2Fa%3E%09f_autofe_mul_049f502d%09f_events_date_week_sin2_e28440a5%09f_financial_date_stoxx_043cbcd4%09%2A%0A%3Ca%20href%3D%27https%3A%2F%2Fupgini.com%2F%23data_sources%27%20target%3D%27_blank%27%20rel%3D%27noopener%20noreferrer%27%3ECalendar%20data%3C%2Fa%3E,%3Ca%20href%3D%27https%3A%2F%2Fupgini.com%2F%23data_sources%27%20target%3D%27_blank%27%20rel%3D%27noopener%20noreferrer%27%3EMarkets%20data%3C%2Fa%3E%09f_autofe_mul_9a4ab68c%09f_events_date_week_cos1_f6a8c1fc%09f_financial_date_silver_e4e33014%09%2A%0A%3Ca%20href%3D%27https%3A%2F%2Fupgini.com%2F%23data_sources%27%20target%3D%27_blank%27%20rel%3D%27noopener%20noreferrer%27%3EMarkets%20data%3C%2Fa%3E%09f_autofe_mul_eff3c92e%09f_financial_date_natural_gas_7d_to_7d_1y_shift_a5c3c07f%09f_financial_date_stoxx_7d_to_7d_1y_shift_abef6e91%09%2A%0A%3Ca%20href%3D%27https%3A%2F%2Fupgini.com%2F%23data_sources%27%20target%3D%27_blank%27%20rel%3D%27noopener%20noreferrer%27%3ECalendar%20data%3C%2Fa%3E,%3Ca%20href%3D%27https%3A%2F%2Fupgini.com%2F%23data_sources%27%20target%3D%27_blank%27%20rel%3D%27noopener%20noreferrer%27%3EMarkets%20data%3C%2Fa%3E%09f_autofe_div_66be9f98%09f_events_date_week_cos3_7525fe31%09f_financial_date_snp500_7d_to_1y_378b9f99%09%2F%0A%3Ca%20href%3D%27https%3A%2F%2Fupgini.com%2F%23data_sources%27%20target%3D%27_blank%27%20rel%3D%27noopener%20noreferrer%27%3ECalendar%20data%3C%2Fa%3E,%3Ca%20href%3D%27https%3A%2F%2Fupgini.com%2F%23data_sources%27%20target%3D%27_blank%27%20rel%3D%27noopener%20noreferrer%27%3EMarkets%20data%3C%2Fa%3E%09f_autofe_mul_dfd3cddf%09f_events_date_week_sin1_847b5db1%09f_financial_date_crude_oil_7d_to_7d_1y_shift_718136ef%09%2A%0A%3Ca%20href%3D%27https%3A%2F%2Fupgini.com%2F%23data_sources%27%20target%3D%27_blank%27%20rel%3D%27noopener%20noreferrer%27%3ECalendar%20data%3C%2Fa%3E,%3Ca%20href%3D%27https%3A%2F%2Fupgini.com%2F%23data_sources%27%20target%3D%27_blank%27%20rel%3D%27noopener%20noreferrer%27%3EMarkets%20data%3C%2Fa%3E%09f_autofe_div_270d64a2%09f_events_date_week_cos1_f6a8c1fc%09f_financial_date_crude_oil_7d_to_1y_c3e0ad17%09%2F%0A%3Ca%20href%3D%27https%3A%2F%2Fupgini.com%2F%23data_sources%27%20target%3D%27_blank%27%20rel%3D%27noopener%20noreferrer%27%3ECalendar%20data%3C%2Fa%3E,%3Ca%20href%3D%27https%3A%2F%2Fupgini.com%2F%23data_sources%27%20target%3D%27_blank%27%20rel%3D%27noopener%20noreferrer%27%3EMarkets%20data%3C%2Fa%3E%09f_autofe_mul_693c8d50%09f_events_date_week_cos1_f6a8c1fc%09f_financial_date_silver_1d_to_7d_f35d6e93%09%2A%0A%3Ca%20href%3D%27https%3A%2F%2Fupgini.com%2F%23data_sources%27%20target%3D%27_blank%27%20rel%3D%27noopener%20noreferrer%27%3ECalendar%20data%3C%2Fa%3E,%3Ca%20href%3D%27https%3A%2F%2Fupgini.com%2F%23data_sources%27%20target%3D%27_blank%27%20rel%3D%27noopener%20noreferrer%27%3EMarkets%20data%3C%2Fa%3E%09f_autofe_div_c2f55b86%09f_events_date_week_cos3_7525fe31%09f_financial_date_stoxx_043cbcd4%09%2F%0A%3Ca%20href%3D%27https%3A%2F%2Fupgini.com%2F%23data_sources%27%20target%3D%27_blank%27%20rel%3D%27noopener%20noreferrer%27%3ECalendar%20data%3C%2Fa%3E%09f_autofe_mul_041b52f4%09f_events_date_week_sin1_847b5db1%09f_events_date_year_sin1_3c44bc64%09%2A%0A%3Ca%20href%3D%27https%3A%2F%2Fupgini.com%2F%23data_sources%27%20target%3D%27_blank%27%20rel%3D%27noopener%20noreferrer%27%3ECalendar%20data%3C%2Fa%3E,%3Ca%20href%3D%27https%3A%2F%2Fupgini.com%2F%23data_sources%27%20target%3D%27_blank%27%20rel%3D%27noopener%20noreferrer%27%3EMarkets%20data%3C%2Fa%3E%09f_autofe_mul_b0ac774f%09f_events_date_week_sin2_e28440a5%09f_financial_date_natural_gas_7d_to_7d_1y_shift_a5c3c07f%09%2A%0A%3Ca%20href%3D%27https%3A%2F%2Fupgini.com%2F%23data_sources%27%20target%3D%27_blank%27%20rel%3D%27noopener%20noreferrer%27%3ECalendar%20data%3C%2Fa%3E,%3Ca%20href%3D%27https%3A%2F%2Fupgini.com%2F%23data_sources%27%20target%3D%27_blank%27%20rel%3D%27noopener%20noreferrer%27%3EMarkets%20data%3C%2Fa%3E%09f_autofe_div_40bee497%09f_events_date_week_cos1_f6a8c1fc%09f_financial_date_stoxx_043cbcd4%09%2F%0A%3Ca%20href%3D%27https%3A%2F%2Fupgini.com%2F%23data_sources%27%20target%3D%27_blank%27%20rel%3D%27noopener%20noreferrer%27%3ECalendar%20data%3C%2Fa%3E,%3Ca%20href%3D%27https%3A%2F%2Fupgini.com%2F%23data_sources%27%20target%3D%27_blank%27%20rel%3D%27noopener%20noreferrer%27%3EMarkets%20data%3C%2Fa%3E%09f_autofe_div_671f8233%09f_events_date_week_cos1_f6a8c1fc%09f_financial_date_vix_7d_to_1y_634c77eb%09%2F%0A%3Ca%20href%3D%27https%3A%2F%2Fupgini.com%2F%23data_sources%27%20target%3D%27_blank%27%20rel%3D%27noopener%20noreferrer%27%3EMarkets%20data%3C%2Fa%3E%09f_autofe_div_ab3bd138%09f_financial_date_nasdaq_7d_to_7d_1y_shift_4a4dd6ce%09f_financial_date_snp500_7d_to_1y_378b9f99%09%2F%0A%3Ca%20href%3D%27https%3A%2F%2Fupgini.com%2F%23data_sources%27%20target%3D%27_blank%27%20rel%3D%27noopener%20noreferrer%27%3ECalendar%20data%3C%2Fa%3E,%3Ca%20href%3D%27https%3A%2F%2Fupgini.com%2F%23data_sources%27%20target%3D%27_blank%27%20rel%3D%27noopener%20noreferrer%27%3EMarkets%20data%3C%2Fa%3E%09f_autofe_div_ab7c3e47%09f_events_date_week_cos1_f6a8c1fc%09f_financial_date_stoxx_7d_to_7d_1y_shift_abef6e91%09%2F%0A%3Ca%20href%3D%27https%3A%2F%2Fupgini.com%2F%23data_sources%27%20target%3D%27_blank%27%20rel%3D%27noopener%20noreferrer%27%3ECalendar%20data%3C%2Fa%3E,%3Ca%20href%3D%27https%3A%2F%2Fupgini.com%2F%23data_sources%27%20target%3D%27_blank%27%20rel%3D%27noopener%20noreferrer%27%3EMarkets%20data%3C%2Fa%3E%09f_autofe_mul_364b79fa%09f_events_date_week_cos3_7525fe31%09f_financial_date_usd_eur_7d_to_1y_200e4902%09%2A%0A%3Ca%20href%3D%27https%3A%2F%2Fupgini.com%2F%23data_sources%27%20target%3D%27_blank%27%20rel%3D%27noopener%20noreferrer%27%3ECalendar%20data%3C%2Fa%3E,%3Ca%20href%3D%27https%3A%2F%2Fupgini.com%2F%23data_sources%27%20target%3D%27_blank%27%20rel%3D%27noopener%20noreferrer%27%3EMarkets%20data%3C%2Fa%3E%09f_autofe_div_a86f907a%09f_events_date_week_cos3_7525fe31%09f_financial_date_natural_gas_1d_to_7d_1fd6362a%09%2F%0A%3Ca%20href%3D%27https%3A%2F%2Fupgini.com%2F%23data_sources%27%20target%3D%27_blank%27%20rel%3D%27noopener%20noreferrer%27%3ECalendar%20data%3C%2Fa%3E,%3Ca%20href%3D%27https%3A%2F%2Fupgini.com%2F%23data_sources%27%20target%3D%27_blank%27%20rel%3D%27noopener%20noreferrer%27%3EMarkets%20data%3C%2Fa%3E%09f_autofe_div_66e46a80%09f_events_date_week_cos1_f6a8c1fc%09f_financial_date_natural_gas_1d_to_7d_1fd6362a%09%2F%0A%3Ca%20href%3D%27https%3A%2F%2Fupgini.com%2F%23data_sources%27%20target%3D%27_blank%27%20rel%3D%27noopener%20noreferrer%27%3EMarkets%20data%3C%2Fa%3E%09f_autofe_div_d0993cdc%09f_financial_date_stoxx_043cbcd4%09f_financial_date_stoxx_7d_to_1y_2ea815f4%09%2F%0A%3Ca%20href%3D%27https%3A%2F%2Fupgini.com%2F%23data_sources%27%20target%3D%27_blank%27%20rel%3D%27noopener%20noreferrer%27%3ECalendar%20data%3C%2Fa%3E%09f_autofe_div_67b10df3%09f_events_date_year_cos6_7c1806a3%09f_events_date_year_sin2_59955ffd%09%2F%0A%3Ca%20href%3D%27https%3A%2F%2Fupgini.com%2F%23data_sources%27%20target%3D%27_blank%27%20rel%3D%27noopener%20noreferrer%27%3ECalendar%20data%3C%2Fa%3E,%3Ca%20href%3D%27https%3A%2F%2Fupgini.com%2F%23data_sources%27%20target%3D%27_blank%27%20rel%3D%27noopener%20noreferrer%27%3EMarkets%20data%3C%2Fa%3E%09f_autofe_div_69990bb4%09f_events_date_week_sin1_847b5db1%09f_financial_date_natural_gas_7d_to_1y_7a6f300d%09%2F%0A%3Ca%20href%3D%27https%3A%2F%2Fupgini.com%2F%23data_sources%27%20target%3D%27_blank%27%20rel%3D%27noopener%20noreferrer%27%3ECalendar%20data%3C%2Fa%3E,%3Ca%20href%3D%27https%3A%2F%2Fupgini.com%2F%23data_sources%27%20target%3D%27_blank%27%20rel%3D%27noopener%20noreferrer%27%3EMarkets%20data%3C%2Fa%3E%09f_autofe_div_22b77c5b%09f_events_date_week_sin2_e28440a5%09f_financial_date_vix_7d_to_1y_634c77eb%09%2F%0A%3Ca%20href%3D%27https%3A%2F%2Fupgini.com%2F%23data_sources%27%20target%3D%27_blank%27%20rel%3D%27noopener%20noreferrer%27%3EMarkets%20data%3C%2Fa%3E%09f_autofe_div_fb99ff57%09f_financial_date_stoxx_043cbcd4%09f_financial_date_usd_7d_to_7d_1y_shift_35cb53e9%09%2F%0A%3Ca%20href%3D%27https%3A%2F%2Fupgini.com%2F%23data_sources%27%20target%3D%27_blank%27%20rel%3D%27noopener%20noreferrer%27%3EMarkets%20data%3C%2Fa%3E%09f_autofe_mul_c883f8a6%09f_financial_date_nasdaq_7d_to_7d_1y_shift_4a4dd6ce%09f_financial_date_stoxx_043cbcd4%09%2A%0A%3Ca%20href%3D%27https%3A%2F%2Fupgini.com%2F%23data_sources%27%20target%3D%27_blank%27%20rel%3D%27noopener%20noreferrer%27%3ECalendar%20data%3C%2Fa%3E,%3Ca%20href%3D%27https%3A%2F%2Fupgini.com%2F%23data_sources%27%20target%3D%27_blank%27%20rel%3D%27noopener%20noreferrer%27%3EMarkets%20data%3C%2Fa%3E%09f_autofe_mul_6a97c336%09f_events_date_week_cos1_f6a8c1fc%09f_financial_date_vix_7d_to_1y_634c77eb%09%2A%0A%3Ca%20href%3D%27https%3A%2F%2Fupgini.com%2F%23data_sources%27%20target%3D%27_blank%27%20rel%3D%27noopener%20noreferrer%27%3EMarkets%20data%3C%2Fa%3E%09f_autofe_div_0016ede5%09f_financial_date_crude_oil_1f195998%09f_financial_date_crude_oil_7d_to_7d_1y_shift_718136ef%09%2F%0A%3Ca%20href%3D%27https%3A%2F%2Fupgini.com%2F%23data_sources%27%20target%3D%27_blank%27%20rel%3D%27noopener%20noreferrer%27%3EMarkets%20data%3C%2Fa%3E%09f_autofe_mul_44503c6f%09f_financial_date_natural_gas_92dac942%09f_financial_date_natural_gas_7d_to_7d_1y_shift_a5c3c07f%09%2A%0A%3Ca%20href%3D%27https%3A%2F%2Fupgini.com%2F%23data_sources%27%20target%3D%27_blank%27%20rel%3D%27noopener%20noreferrer%27%3ECalendar%20data%3C%2Fa%3E%09f_autofe_mul_8c2f1d42%09f_events_date_week_cos3_7525fe31%09f_events_date_year_cos1_9014a856%09%2A%0A%3Ca%20href%3D%27https%3A%2F%2Fupgini.com%2F%23data_sources%27%20target%3D%27_blank%27%20rel%3D%27noopener%20noreferrer%27%3ECalendar%20data%3C%2Fa%3E,%3Ca%20href%3D%27https%3A%2F%2Fupgini.com%2F%23data_sources%27%20target%3D%27_blank%27%20rel%3D%27noopener%20noreferrer%27%3EMarkets%20data%3C%2Fa%3E%09f_autofe_mul_8437d645%09f_events_date_week_cos1_f6a8c1fc%09f_financial_date_usd_7419609a%09%2A%0A%3Ca%20href%3D%27https%3A%2F%2Fupgini.com%2F%23data_sources%27%20target%3D%27_blank%27%20rel%3D%27noopener%20noreferrer%27%3ECalendar%20data%3C%2Fa%3E,%3Ca%20href%3D%27https%3A%2F%2Fupgini.com%2F%23data_sources%27%20target%3D%27_blank%27%20rel%3D%27noopener%20noreferrer%27%3EMarkets%20data%3C%2Fa%3E%09f_autofe_mul_3e749d53%09f_events_date_week_cos3_7525fe31%09f_financial_date_nasdaq_7d_to_7d_1y_shift_4a4dd6ce%09%2A%0A%3Ca%20href%3D%27https%3A%2F%2Fupgini.com%2F%23data_sources%27%20target%3D%27_blank%27%20rel%3D%27noopener%20noreferrer%27%3EMarkets%20data%3C%2Fa%3E%09f_autofe_div_ef42018c%09f_financial_date_usd_7d_to_7d_1y_shift_35cb53e9%09f_financial_date_usd_eur_7d_to_1y_200e4902%09%2F%0A'>\n",
              "                    <button>📨 Share</button>\n",
              "                </a>\n",
              "            </div>\n",
              "            <table class='upgini-df'><thead><th>Sources</th><th>Feature name</th><th>Feature 1</th><th>Feature 2</th><th>Function</th></thead><tbody><tr><td class='upgini-text'><a href='https://upgini.com/#data_sources' target='_blank' rel='noopener noreferrer'>Calendar data</a>,<a href='https://upgini.com/#data_sources' target='_blank' rel='noopener noreferrer'>Markets data</a></td><td class='upgini-text'>f_autofe_div_029f75a6</td><td class='upgini-text'>f_events_date_week_sin1_847b5db1</td><td class='upgini-text'>f_financial_date_nasdaq_7d_to_7d_1y_shift_4a4dd6ce</td><td class='upgini-text'>/</td></tr><tr><td class='upgini-text'><a href='https://upgini.com/#data_sources' target='_blank' rel='noopener noreferrer'>Calendar data</a>,<a href='https://upgini.com/#data_sources' target='_blank' rel='noopener noreferrer'>Markets data</a></td><td class='upgini-text'>f_autofe_div_50507976</td><td class='upgini-text'>f_events_date_year_cos1_9014a856</td><td class='upgini-text'>f_financial_date_silver_e4e33014</td><td class='upgini-text'>/</td></tr><tr><td class='upgini-text'><a href='https://upgini.com/#data_sources' target='_blank' rel='noopener noreferrer'>Calendar data</a>,<a href='https://upgini.com/#data_sources' target='_blank' rel='noopener noreferrer'>Markets data</a></td><td class='upgini-text'>f_autofe_mul_6793ee4f</td><td class='upgini-text'>f_events_date_year_cos1_9014a856</td><td class='upgini-text'>f_financial_date_vix_6c8e6194</td><td class='upgini-text'>*</td></tr><tr><td class='upgini-text'><a href='https://upgini.com/#data_sources' target='_blank' rel='noopener noreferrer'>Calendar data</a>,<a href='https://upgini.com/#data_sources' target='_blank' rel='noopener noreferrer'>Markets data</a></td><td class='upgini-text'>f_autofe_mul_34d11bc4</td><td class='upgini-text'>f_events_date_year_cos1_9014a856</td><td class='upgini-text'>f_financial_date_silver_e4e33014</td><td class='upgini-text'>*</td></tr><tr><td class='upgini-text'><a href='https://upgini.com/#data_sources' target='_blank' rel='noopener noreferrer'>Calendar data</a>,<a href='https://upgini.com/#data_sources' target='_blank' rel='noopener noreferrer'>Markets data</a></td><td class='upgini-text'>f_autofe_div_1edd5009</td><td class='upgini-text'>f_events_date_year_cos1_9014a856</td><td class='upgini-text'>f_financial_date_vix_6c8e6194</td><td class='upgini-text'>/</td></tr><tr><td class='upgini-text'><a href='https://upgini.com/#data_sources' target='_blank' rel='noopener noreferrer'>Calendar data</a>,<a href='https://upgini.com/#data_sources' target='_blank' rel='noopener noreferrer'>Markets data</a></td><td class='upgini-text'>f_autofe_div_50a5dcaf</td><td class='upgini-text'>f_events_date_week_cos3_7525fe31</td><td class='upgini-text'>f_financial_date_silver_7d_to_7d_1y_shift_55fa8001</td><td class='upgini-text'>/</td></tr><tr><td class='upgini-text'><a href='https://upgini.com/#data_sources' target='_blank' rel='noopener noreferrer'>Markets data</a></td><td class='upgini-text'>f_autofe_mul_6234ba3a</td><td class='upgini-text'>f_financial_date_crude_oil_7d_to_1y_c3e0ad17</td><td class='upgini-text'>f_financial_date_silver_7d_to_7d_1y_shift_55fa8001</td><td class='upgini-text'>*</td></tr><tr><td class='upgini-text'><a href='https://upgini.com/#data_sources' target='_blank' rel='noopener noreferrer'>Calendar data</a>,<a href='https://upgini.com/#data_sources' target='_blank' rel='noopener noreferrer'>Markets data</a></td><td class='upgini-text'>f_autofe_div_3e22df83</td><td class='upgini-text'>f_events_date_week_sin1_847b5db1</td><td class='upgini-text'>f_financial_date_crude_oil_1f195998</td><td class='upgini-text'>/</td></tr><tr><td class='upgini-text'><a href='https://upgini.com/#data_sources' target='_blank' rel='noopener noreferrer'>Calendar data</a>,<a href='https://upgini.com/#data_sources' target='_blank' rel='noopener noreferrer'>Markets data</a></td><td class='upgini-text'>f_autofe_div_89c56a5f</td><td class='upgini-text'>f_events_date_year_cos1_9014a856</td><td class='upgini-text'>f_financial_date_natural_gas_7d_to_7d_1y_shift_a5c3c07f</td><td class='upgini-text'>/</td></tr><tr><td class='upgini-text'><a href='https://upgini.com/#data_sources' target='_blank' rel='noopener noreferrer'>Calendar data</a>,<a href='https://upgini.com/#data_sources' target='_blank' rel='noopener noreferrer'>Markets data</a></td><td class='upgini-text'>f_autofe_mul_478be4f3</td><td class='upgini-text'>f_events_date_year_cos1_9014a856</td><td class='upgini-text'>f_financial_date_natural_gas_7d_to_7d_1y_shift_a5c3c07f</td><td class='upgini-text'>*</td></tr><tr><td class='upgini-text'><a href='https://upgini.com/#data_sources' target='_blank' rel='noopener noreferrer'>Calendar data</a>,<a href='https://upgini.com/#data_sources' target='_blank' rel='noopener noreferrer'>Markets data</a></td><td class='upgini-text'>f_autofe_div_534d01d5</td><td class='upgini-text'>f_events_date_week_sin1_847b5db1</td><td class='upgini-text'>f_financial_date_stoxx_043cbcd4</td><td class='upgini-text'>/</td></tr><tr><td class='upgini-text'><a href='https://upgini.com/#data_sources' target='_blank' rel='noopener noreferrer'>Calendar data</a>,<a href='https://upgini.com/#data_sources' target='_blank' rel='noopener noreferrer'>Markets data</a></td><td class='upgini-text'>f_autofe_div_cf5dd7be</td><td class='upgini-text'>f_events_date_week_sin1_847b5db1</td><td class='upgini-text'>f_financial_date_vix_7d_to_1y_634c77eb</td><td class='upgini-text'>/</td></tr><tr><td class='upgini-text'><a href='https://upgini.com/#data_sources' target='_blank' rel='noopener noreferrer'>Calendar data</a>,<a href='https://upgini.com/#data_sources' target='_blank' rel='noopener noreferrer'>Markets data</a></td><td class='upgini-text'>f_autofe_mul_3cb64162</td><td class='upgini-text'>f_events_date_year_cos1_9014a856</td><td class='upgini-text'>f_financial_date_stoxx_7d_to_7d_1y_shift_abef6e91</td><td class='upgini-text'>*</td></tr><tr><td class='upgini-text'><a href='https://upgini.com/#data_sources' target='_blank' rel='noopener noreferrer'>Calendar data</a>,<a href='https://upgini.com/#data_sources' target='_blank' rel='noopener noreferrer'>Markets data</a></td><td class='upgini-text'>f_autofe_div_380598ae</td><td class='upgini-text'>f_events_date_week_cos3_7525fe31</td><td class='upgini-text'>f_financial_date_usd_eur_7d_to_1y_200e4902</td><td class='upgini-text'>/</td></tr><tr><td class='upgini-text'><a href='https://upgini.com/#data_sources' target='_blank' rel='noopener noreferrer'>Markets data</a></td><td class='upgini-text'>f_autofe_div_f0159558</td><td class='upgini-text'>f_financial_date_gold_7d_to_1y_ae310379</td><td class='upgini-text'>f_financial_date_usd_eur_7d_to_1y_200e4902</td><td class='upgini-text'>/</td></tr><tr><td class='upgini-text'><a href='https://upgini.com/#data_sources' target='_blank' rel='noopener noreferrer'>Calendar data</a>,<a href='https://upgini.com/#data_sources' target='_blank' rel='noopener noreferrer'>Markets data</a></td><td class='upgini-text'>f_autofe_div_c9ddcb38</td><td class='upgini-text'>f_events_date_week_cos1_f6a8c1fc</td><td class='upgini-text'>f_financial_date_silver_7d_to_7d_1y_shift_55fa8001</td><td class='upgini-text'>/</td></tr><tr><td class='upgini-text'><a href='https://upgini.com/#data_sources' target='_blank' rel='noopener noreferrer'>Calendar data</a>,<a href='https://upgini.com/#data_sources' target='_blank' rel='noopener noreferrer'>Markets data</a></td><td class='upgini-text'>f_autofe_mul_b49258bb</td><td class='upgini-text'>f_events_date_week_sin1_847b5db1</td><td class='upgini-text'>f_financial_date_stoxx_043cbcd4</td><td class='upgini-text'>*</td></tr><tr><td class='upgini-text'><a href='https://upgini.com/#data_sources' target='_blank' rel='noopener noreferrer'>Calendar data</a>,<a href='https://upgini.com/#data_sources' target='_blank' rel='noopener noreferrer'>Markets data</a></td><td class='upgini-text'>f_autofe_mul_0cc09d2d</td><td class='upgini-text'>f_events_date_year_cos1_9014a856</td><td class='upgini-text'>f_financial_date_crude_oil_1f195998</td><td class='upgini-text'>*</td></tr><tr><td class='upgini-text'><a href='https://upgini.com/#data_sources' target='_blank' rel='noopener noreferrer'>Calendar data</a>,<a href='https://upgini.com/#data_sources' target='_blank' rel='noopener noreferrer'>Markets data</a></td><td class='upgini-text'>f_autofe_mul_5bd50798</td><td class='upgini-text'>f_events_date_week_cos1_f6a8c1fc</td><td class='upgini-text'>f_financial_date_nasdaq_7d_to_7d_1y_shift_4a4dd6ce</td><td class='upgini-text'>*</td></tr><tr><td class='upgini-text'><a href='https://upgini.com/#data_sources' target='_blank' rel='noopener noreferrer'>Calendar data</a>,<a href='https://upgini.com/#data_sources' target='_blank' rel='noopener noreferrer'>Markets data</a></td><td class='upgini-text'>f_autofe_mul_af6d166b</td><td class='upgini-text'>f_events_date_week_cos3_7525fe31</td><td class='upgini-text'>f_financial_date_vix_7d_to_1y_634c77eb</td><td class='upgini-text'>*</td></tr><tr><td class='upgini-text'><a href='https://upgini.com/#data_sources' target='_blank' rel='noopener noreferrer'>Calendar data</a>,<a href='https://upgini.com/#data_sources' target='_blank' rel='noopener noreferrer'>Markets data</a></td><td class='upgini-text'>f_autofe_mul_08e89348</td><td class='upgini-text'>f_events_date_week_sin1_847b5db1</td><td class='upgini-text'>f_financial_date_crude_oil_1f195998</td><td class='upgini-text'>*</td></tr><tr><td class='upgini-text'><a href='https://upgini.com/#data_sources' target='_blank' rel='noopener noreferrer'>Calendar data</a>,<a href='https://upgini.com/#data_sources' target='_blank' rel='noopener noreferrer'>Markets data</a></td><td class='upgini-text'>f_autofe_mul_25296268</td><td class='upgini-text'>f_events_date_week_sin1_847b5db1</td><td class='upgini-text'>f_financial_date_vix_7d_to_1y_634c77eb</td><td class='upgini-text'>*</td></tr><tr><td class='upgini-text'><a href='https://upgini.com/#data_sources' target='_blank' rel='noopener noreferrer'>Calendar data</a>,<a href='https://upgini.com/#data_sources' target='_blank' rel='noopener noreferrer'>Markets data</a></td><td class='upgini-text'>f_autofe_div_5665c21b</td><td class='upgini-text'>f_events_date_week_cos1_f6a8c1fc</td><td class='upgini-text'>f_financial_date_usd_eur_7d_to_1y_200e4902</td><td class='upgini-text'>/</td></tr><tr><td class='upgini-text'><a href='https://upgini.com/#data_sources' target='_blank' rel='noopener noreferrer'>Calendar data</a>,<a href='https://upgini.com/#data_sources' target='_blank' rel='noopener noreferrer'>Markets data</a></td><td class='upgini-text'>f_autofe_div_a152c923</td><td class='upgini-text'>f_events_date_year_cos1_9014a856</td><td class='upgini-text'>f_financial_date_stoxx_043cbcd4</td><td class='upgini-text'>/</td></tr><tr><td class='upgini-text'><a href='https://upgini.com/#data_sources' target='_blank' rel='noopener noreferrer'>Calendar data</a>,<a href='https://upgini.com/#data_sources' target='_blank' rel='noopener noreferrer'>Markets data</a></td><td class='upgini-text'>f_autofe_div_0a5adf97</td><td class='upgini-text'>f_events_date_year_cos1_9014a856</td><td class='upgini-text'>f_financial_date_natural_gas_92dac942</td><td class='upgini-text'>/</td></tr><tr><td class='upgini-text'><a href='https://upgini.com/#data_sources' target='_blank' rel='noopener noreferrer'>Markets data</a></td><td class='upgini-text'>f_autofe_mul_4c9c7d0a</td><td class='upgini-text'>f_financial_date_natural_gas_7d_to_1y_7a6f300d</td><td class='upgini-text'>f_financial_date_silver_7d_to_7d_1y_shift_55fa8001</td><td class='upgini-text'>*</td></tr><tr><td class='upgini-text'><a href='https://upgini.com/#data_sources' target='_blank' rel='noopener noreferrer'>Calendar data</a>,<a href='https://upgini.com/#data_sources' target='_blank' rel='noopener noreferrer'>Markets data</a></td><td class='upgini-text'>f_autofe_mul_cd42199d</td><td class='upgini-text'>f_events_date_week_cos3_7525fe31</td><td class='upgini-text'>f_financial_date_natural_gas_92dac942</td><td class='upgini-text'>*</td></tr><tr><td class='upgini-text'><a href='https://upgini.com/#data_sources' target='_blank' rel='noopener noreferrer'>Calendar data</a>,<a href='https://upgini.com/#data_sources' target='_blank' rel='noopener noreferrer'>Markets data</a></td><td class='upgini-text'>f_autofe_mul_45a3c004</td><td class='upgini-text'>f_events_date_week_cos3_7525fe31</td><td class='upgini-text'>f_financial_date_silver_e4e33014</td><td class='upgini-text'>*</td></tr><tr><td class='upgini-text'><a href='https://upgini.com/#data_sources' target='_blank' rel='noopener noreferrer'>Calendar data</a>,<a href='https://upgini.com/#data_sources' target='_blank' rel='noopener noreferrer'>Markets data</a></td><td class='upgini-text'>f_autofe_mul_165c74ad</td><td class='upgini-text'>f_events_date_week_sin1_847b5db1</td><td class='upgini-text'>f_financial_date_stoxx_7d_to_7d_1y_shift_abef6e91</td><td class='upgini-text'>*</td></tr><tr><td class='upgini-text'><a href='https://upgini.com/#data_sources' target='_blank' rel='noopener noreferrer'>Calendar data</a>,<a href='https://upgini.com/#data_sources' target='_blank' rel='noopener noreferrer'>Markets data</a></td><td class='upgini-text'>f_autofe_mul_049f502d</td><td class='upgini-text'>f_events_date_week_sin2_e28440a5</td><td class='upgini-text'>f_financial_date_stoxx_043cbcd4</td><td class='upgini-text'>*</td></tr><tr><td class='upgini-text'><a href='https://upgini.com/#data_sources' target='_blank' rel='noopener noreferrer'>Calendar data</a>,<a href='https://upgini.com/#data_sources' target='_blank' rel='noopener noreferrer'>Markets data</a></td><td class='upgini-text'>f_autofe_mul_9a4ab68c</td><td class='upgini-text'>f_events_date_week_cos1_f6a8c1fc</td><td class='upgini-text'>f_financial_date_silver_e4e33014</td><td class='upgini-text'>*</td></tr><tr><td class='upgini-text'><a href='https://upgini.com/#data_sources' target='_blank' rel='noopener noreferrer'>Markets data</a></td><td class='upgini-text'>f_autofe_mul_eff3c92e</td><td class='upgini-text'>f_financial_date_natural_gas_7d_to_7d_1y_shift_a5c3c07f</td><td class='upgini-text'>f_financial_date_stoxx_7d_to_7d_1y_shift_abef6e91</td><td class='upgini-text'>*</td></tr><tr><td class='upgini-text'><a href='https://upgini.com/#data_sources' target='_blank' rel='noopener noreferrer'>Calendar data</a>,<a href='https://upgini.com/#data_sources' target='_blank' rel='noopener noreferrer'>Markets data</a></td><td class='upgini-text'>f_autofe_div_66be9f98</td><td class='upgini-text'>f_events_date_week_cos3_7525fe31</td><td class='upgini-text'>f_financial_date_snp500_7d_to_1y_378b9f99</td><td class='upgini-text'>/</td></tr><tr><td class='upgini-text'><a href='https://upgini.com/#data_sources' target='_blank' rel='noopener noreferrer'>Calendar data</a>,<a href='https://upgini.com/#data_sources' target='_blank' rel='noopener noreferrer'>Markets data</a></td><td class='upgini-text'>f_autofe_mul_dfd3cddf</td><td class='upgini-text'>f_events_date_week_sin1_847b5db1</td><td class='upgini-text'>f_financial_date_crude_oil_7d_to_7d_1y_shift_718136ef</td><td class='upgini-text'>*</td></tr><tr><td class='upgini-text'><a href='https://upgini.com/#data_sources' target='_blank' rel='noopener noreferrer'>Calendar data</a>,<a href='https://upgini.com/#data_sources' target='_blank' rel='noopener noreferrer'>Markets data</a></td><td class='upgini-text'>f_autofe_div_270d64a2</td><td class='upgini-text'>f_events_date_week_cos1_f6a8c1fc</td><td class='upgini-text'>f_financial_date_crude_oil_7d_to_1y_c3e0ad17</td><td class='upgini-text'>/</td></tr><tr><td class='upgini-text'><a href='https://upgini.com/#data_sources' target='_blank' rel='noopener noreferrer'>Calendar data</a>,<a href='https://upgini.com/#data_sources' target='_blank' rel='noopener noreferrer'>Markets data</a></td><td class='upgini-text'>f_autofe_mul_693c8d50</td><td class='upgini-text'>f_events_date_week_cos1_f6a8c1fc</td><td class='upgini-text'>f_financial_date_silver_1d_to_7d_f35d6e93</td><td class='upgini-text'>*</td></tr><tr><td class='upgini-text'><a href='https://upgini.com/#data_sources' target='_blank' rel='noopener noreferrer'>Calendar data</a>,<a href='https://upgini.com/#data_sources' target='_blank' rel='noopener noreferrer'>Markets data</a></td><td class='upgini-text'>f_autofe_div_c2f55b86</td><td class='upgini-text'>f_events_date_week_cos3_7525fe31</td><td class='upgini-text'>f_financial_date_stoxx_043cbcd4</td><td class='upgini-text'>/</td></tr><tr><td class='upgini-text'><a href='https://upgini.com/#data_sources' target='_blank' rel='noopener noreferrer'>Calendar data</a></td><td class='upgini-text'>f_autofe_mul_041b52f4</td><td class='upgini-text'>f_events_date_week_sin1_847b5db1</td><td class='upgini-text'>f_events_date_year_sin1_3c44bc64</td><td class='upgini-text'>*</td></tr><tr><td class='upgini-text'><a href='https://upgini.com/#data_sources' target='_blank' rel='noopener noreferrer'>Calendar data</a>,<a href='https://upgini.com/#data_sources' target='_blank' rel='noopener noreferrer'>Markets data</a></td><td class='upgini-text'>f_autofe_mul_b0ac774f</td><td class='upgini-text'>f_events_date_week_sin2_e28440a5</td><td class='upgini-text'>f_financial_date_natural_gas_7d_to_7d_1y_shift_a5c3c07f</td><td class='upgini-text'>*</td></tr><tr><td class='upgini-text'><a href='https://upgini.com/#data_sources' target='_blank' rel='noopener noreferrer'>Calendar data</a>,<a href='https://upgini.com/#data_sources' target='_blank' rel='noopener noreferrer'>Markets data</a></td><td class='upgini-text'>f_autofe_div_40bee497</td><td class='upgini-text'>f_events_date_week_cos1_f6a8c1fc</td><td class='upgini-text'>f_financial_date_stoxx_043cbcd4</td><td class='upgini-text'>/</td></tr><tr><td class='upgini-text'><a href='https://upgini.com/#data_sources' target='_blank' rel='noopener noreferrer'>Calendar data</a>,<a href='https://upgini.com/#data_sources' target='_blank' rel='noopener noreferrer'>Markets data</a></td><td class='upgini-text'>f_autofe_div_671f8233</td><td class='upgini-text'>f_events_date_week_cos1_f6a8c1fc</td><td class='upgini-text'>f_financial_date_vix_7d_to_1y_634c77eb</td><td class='upgini-text'>/</td></tr><tr><td class='upgini-text'><a href='https://upgini.com/#data_sources' target='_blank' rel='noopener noreferrer'>Markets data</a></td><td class='upgini-text'>f_autofe_div_ab3bd138</td><td class='upgini-text'>f_financial_date_nasdaq_7d_to_7d_1y_shift_4a4dd6ce</td><td class='upgini-text'>f_financial_date_snp500_7d_to_1y_378b9f99</td><td class='upgini-text'>/</td></tr><tr><td class='upgini-text'><a href='https://upgini.com/#data_sources' target='_blank' rel='noopener noreferrer'>Calendar data</a>,<a href='https://upgini.com/#data_sources' target='_blank' rel='noopener noreferrer'>Markets data</a></td><td class='upgini-text'>f_autofe_div_ab7c3e47</td><td class='upgini-text'>f_events_date_week_cos1_f6a8c1fc</td><td class='upgini-text'>f_financial_date_stoxx_7d_to_7d_1y_shift_abef6e91</td><td class='upgini-text'>/</td></tr><tr><td class='upgini-text'><a href='https://upgini.com/#data_sources' target='_blank' rel='noopener noreferrer'>Calendar data</a>,<a href='https://upgini.com/#data_sources' target='_blank' rel='noopener noreferrer'>Markets data</a></td><td class='upgini-text'>f_autofe_mul_364b79fa</td><td class='upgini-text'>f_events_date_week_cos3_7525fe31</td><td class='upgini-text'>f_financial_date_usd_eur_7d_to_1y_200e4902</td><td class='upgini-text'>*</td></tr><tr><td class='upgini-text'><a href='https://upgini.com/#data_sources' target='_blank' rel='noopener noreferrer'>Calendar data</a>,<a href='https://upgini.com/#data_sources' target='_blank' rel='noopener noreferrer'>Markets data</a></td><td class='upgini-text'>f_autofe_div_a86f907a</td><td class='upgini-text'>f_events_date_week_cos3_7525fe31</td><td class='upgini-text'>f_financial_date_natural_gas_1d_to_7d_1fd6362a</td><td class='upgini-text'>/</td></tr><tr><td class='upgini-text'><a href='https://upgini.com/#data_sources' target='_blank' rel='noopener noreferrer'>Calendar data</a>,<a href='https://upgini.com/#data_sources' target='_blank' rel='noopener noreferrer'>Markets data</a></td><td class='upgini-text'>f_autofe_div_66e46a80</td><td class='upgini-text'>f_events_date_week_cos1_f6a8c1fc</td><td class='upgini-text'>f_financial_date_natural_gas_1d_to_7d_1fd6362a</td><td class='upgini-text'>/</td></tr><tr><td class='upgini-text'><a href='https://upgini.com/#data_sources' target='_blank' rel='noopener noreferrer'>Markets data</a></td><td class='upgini-text'>f_autofe_div_d0993cdc</td><td class='upgini-text'>f_financial_date_stoxx_043cbcd4</td><td class='upgini-text'>f_financial_date_stoxx_7d_to_1y_2ea815f4</td><td class='upgini-text'>/</td></tr><tr><td class='upgini-text'><a href='https://upgini.com/#data_sources' target='_blank' rel='noopener noreferrer'>Calendar data</a></td><td class='upgini-text'>f_autofe_div_67b10df3</td><td class='upgini-text'>f_events_date_year_cos6_7c1806a3</td><td class='upgini-text'>f_events_date_year_sin2_59955ffd</td><td class='upgini-text'>/</td></tr><tr><td class='upgini-text'><a href='https://upgini.com/#data_sources' target='_blank' rel='noopener noreferrer'>Calendar data</a>,<a href='https://upgini.com/#data_sources' target='_blank' rel='noopener noreferrer'>Markets data</a></td><td class='upgini-text'>f_autofe_div_69990bb4</td><td class='upgini-text'>f_events_date_week_sin1_847b5db1</td><td class='upgini-text'>f_financial_date_natural_gas_7d_to_1y_7a6f300d</td><td class='upgini-text'>/</td></tr><tr><td class='upgini-text'><a href='https://upgini.com/#data_sources' target='_blank' rel='noopener noreferrer'>Calendar data</a>,<a href='https://upgini.com/#data_sources' target='_blank' rel='noopener noreferrer'>Markets data</a></td><td class='upgini-text'>f_autofe_div_22b77c5b</td><td class='upgini-text'>f_events_date_week_sin2_e28440a5</td><td class='upgini-text'>f_financial_date_vix_7d_to_1y_634c77eb</td><td class='upgini-text'>/</td></tr><tr><td class='upgini-text'><a href='https://upgini.com/#data_sources' target='_blank' rel='noopener noreferrer'>Markets data</a></td><td class='upgini-text'>f_autofe_div_fb99ff57</td><td class='upgini-text'>f_financial_date_stoxx_043cbcd4</td><td class='upgini-text'>f_financial_date_usd_7d_to_7d_1y_shift_35cb53e9</td><td class='upgini-text'>/</td></tr><tr><td class='upgini-text'><a href='https://upgini.com/#data_sources' target='_blank' rel='noopener noreferrer'>Markets data</a></td><td class='upgini-text'>f_autofe_mul_c883f8a6</td><td class='upgini-text'>f_financial_date_nasdaq_7d_to_7d_1y_shift_4a4dd6ce</td><td class='upgini-text'>f_financial_date_stoxx_043cbcd4</td><td class='upgini-text'>*</td></tr><tr><td class='upgini-text'><a href='https://upgini.com/#data_sources' target='_blank' rel='noopener noreferrer'>Calendar data</a>,<a href='https://upgini.com/#data_sources' target='_blank' rel='noopener noreferrer'>Markets data</a></td><td class='upgini-text'>f_autofe_mul_6a97c336</td><td class='upgini-text'>f_events_date_week_cos1_f6a8c1fc</td><td class='upgini-text'>f_financial_date_vix_7d_to_1y_634c77eb</td><td class='upgini-text'>*</td></tr><tr><td class='upgini-text'><a href='https://upgini.com/#data_sources' target='_blank' rel='noopener noreferrer'>Markets data</a></td><td class='upgini-text'>f_autofe_div_0016ede5</td><td class='upgini-text'>f_financial_date_crude_oil_1f195998</td><td class='upgini-text'>f_financial_date_crude_oil_7d_to_7d_1y_shift_718136ef</td><td class='upgini-text'>/</td></tr><tr><td class='upgini-text'><a href='https://upgini.com/#data_sources' target='_blank' rel='noopener noreferrer'>Markets data</a></td><td class='upgini-text'>f_autofe_mul_44503c6f</td><td class='upgini-text'>f_financial_date_natural_gas_92dac942</td><td class='upgini-text'>f_financial_date_natural_gas_7d_to_7d_1y_shift_a5c3c07f</td><td class='upgini-text'>*</td></tr><tr><td class='upgini-text'><a href='https://upgini.com/#data_sources' target='_blank' rel='noopener noreferrer'>Calendar data</a></td><td class='upgini-text'>f_autofe_mul_8c2f1d42</td><td class='upgini-text'>f_events_date_week_cos3_7525fe31</td><td class='upgini-text'>f_events_date_year_cos1_9014a856</td><td class='upgini-text'>*</td></tr><tr><td class='upgini-text'><a href='https://upgini.com/#data_sources' target='_blank' rel='noopener noreferrer'>Calendar data</a>,<a href='https://upgini.com/#data_sources' target='_blank' rel='noopener noreferrer'>Markets data</a></td><td class='upgini-text'>f_autofe_mul_8437d645</td><td class='upgini-text'>f_events_date_week_cos1_f6a8c1fc</td><td class='upgini-text'>f_financial_date_usd_7419609a</td><td class='upgini-text'>*</td></tr><tr><td class='upgini-text'><a href='https://upgini.com/#data_sources' target='_blank' rel='noopener noreferrer'>Calendar data</a>,<a href='https://upgini.com/#data_sources' target='_blank' rel='noopener noreferrer'>Markets data</a></td><td class='upgini-text'>f_autofe_mul_3e749d53</td><td class='upgini-text'>f_events_date_week_cos3_7525fe31</td><td class='upgini-text'>f_financial_date_nasdaq_7d_to_7d_1y_shift_4a4dd6ce</td><td class='upgini-text'>*</td></tr><tr><td class='upgini-text'><a href='https://upgini.com/#data_sources' target='_blank' rel='noopener noreferrer'>Markets data</a></td><td class='upgini-text'>f_autofe_div_ef42018c</td><td class='upgini-text'>f_financial_date_usd_7d_to_7d_1y_shift_35cb53e9</td><td class='upgini-text'>f_financial_date_usd_eur_7d_to_1y_200e4902</td><td class='upgini-text'>/</td></tr></tbody></table>\n",
              "        </div>\n",
              "        "
            ]
          },
          "metadata": {}
        },
        {
          "output_type": "stream",
          "name": "stdout",
          "text": [
            "\n",
            "WARNING: We detected 113 outliers in your sample.\n",
            "Examples of outliers with maximum value of target:\n",
            "84    205\n",
            "47    196\n",
            "38    187\n",
            "Name: target, dtype: int64\n",
            "Outliers will be excluded during the metrics calculation.\n",
            "Calculating accuracy uplift after enrichment...\n",
            "\n",
            "WARNING: y distributions from the training sample and eval_set differ according to the Kolmogorov-Smirnov test,\n",
            "which makes metrics between the train and eval_set incomparable.\n"
          ]
        },
        {
          "output_type": "display_data",
          "data": {
            "text/plain": [
              "<IPython.core.display.HTML object>"
            ],
            "text/html": [
              "<style>\n",
              "            .upgini-df thead th {\n",
              "                font-weight:bold;\n",
              "                text-align: center;\n",
              "                padding: 0.5em;\n",
              "                border-bottom: 2px solid black;\n",
              "            }\n",
              "\n",
              "            .upgini-df tbody td {\n",
              "                padding: 0.5em;\n",
              "            }\n",
              "\n",
              "            .upgini-df tbody tr:nth-child(odd) {\n",
              "                background-color: #ffffff;\n",
              "            }\n",
              "\n",
              "            .upgini-df tbody tr:nth-child(even) {\n",
              "                background-color: #f2f2f2;\n",
              "            }\n",
              "\n",
              "            .upgini-text {\n",
              "                text-align: left;\n",
              "            }\n",
              "\n",
              "            .upgini-number {\n",
              "                text-align: center;\n",
              "            }\n",
              "        </style>\n",
              "        <h2>Accuracy after enrichment</h2>\n",
              "        <div style=\"display:flex; flex-direction:column; align-items:flex-end; width: fit-content;\">\n",
              "            <div style=\"text-align: right\">\n",
              "                <button onclick=navigator.clipboard.writeText(decodeURI('Dataset%20type%09Rows%09Mean%20target%09Baseline%20mean_squared_error%09Enriched%20mean_squared_error%09Uplift%0ATrain%0915213%0950.3977%09301.2608650185969%09193.92210557766347%09107.33875944093344%0AEval%201%093787%0959.2424%09485.3568918678273%09362.1067357095723%09123.25015615825498%0A'))>📂 Copy</button>\n",
              "                <a href='mailto:<Share with...>?subject=Relevant external data sources from Upgini.com&body=Dataset%20type%09Rows%09Mean%20target%09Baseline%20mean_squared_error%09Enriched%20mean_squared_error%09Uplift%0ATrain%0915213%0950.3977%09301.2608650185969%09193.92210557766347%09107.33875944093344%0AEval%201%093787%0959.2424%09485.3568918678273%09362.1067357095723%09123.25015615825498%0A'>\n",
              "                    <button>📨 Share</button>\n",
              "                </a>\n",
              "            </div>\n",
              "            <table class='upgini-df'><thead><th>Dataset type</th><th>Rows</th><th>Mean target</th><th>Baseline mean_squared_error</th><th>Enriched mean_squared_error</th><th>Uplift</th></thead><tbody><tr><td class='upgini-text'>Train</td><td class='upgini-number'>15213</td><td class='upgini-number'>50.3977</td><td class='upgini-number'>301.2609</td><td class='upgini-number'>193.9221</td><td class='upgini-number'>107.3388</td></tr><tr><td class='upgini-text'>Eval 1</td><td class='upgini-number'>3787</td><td class='upgini-number'>59.2424</td><td class='upgini-number'>485.3569</td><td class='upgini-number'>362.1067</td><td class='upgini-number'>123.2502</td></tr></tbody></table>\n",
              "        </div>\n",
              "        "
            ]
          },
          "metadata": {}
        },
        {
          "output_type": "display_data",
          "data": {
            "text/plain": [
              "<IPython.core.display.HTML object>"
            ],
            "text/html": [
              "<a download=\"upgini-report-c84bdbc5-ce5f-41a1-933e-e90b8a70e6cd.pdf\" href=\"data:application/pdf;base64,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\" target=\"_blank\">\n",
              "        <button>📊 Download PDF report</button></a>"
            ]
          },
          "metadata": {}
        }
      ]
    },
    {
      "cell_type": "code",
      "source": [],
      "metadata": {
        "id": "KL5j-iz2X0IB"
      },
      "execution_count": null,
      "outputs": []
    },
    {
      "cell_type": "code",
      "source": [
        "from catboost import CatBoostRegressor\n",
        "from catboost.utils import eval_metric\n",
        "model = CatBoostRegressor(verbose=False, allow_writing_files=False,random_state=0)\n",
        "enricher.calculate_metrics(\n",
        "    trainFeature, trainTarget,\n",
        "    eval_set=[(testFeature,testTarget)],\n",
        "    estimator = model,\n",
        "    scoring = \"mean_absolute_percentage_error\"\n",
        "\n",
        ")"
      ],
      "metadata": {
        "colab": {
          "base_uri": "https://localhost:8080/",
          "height": 181
        },
        "id": "ak6SSFKXZy4c",
        "outputId": "11538445-eb37-4aee-e065-6bae703f1c69"
      },
      "execution_count": null,
      "outputs": [
        {
          "output_type": "stream",
          "name": "stdout",
          "text": [
            "Calculating accuracy uplift after enrichment...\n",
            "-\r\n",
            "WARNING: y distributions from the training sample and eval_set differ according to the Kolmogorov-Smirnov test,\n",
            "which makes metrics between the train and eval_set incomparable.\n"
          ]
        },
        {
          "output_type": "execute_result",
          "data": {
            "text/plain": [
              "  Dataset type   Rows  Mean target  Baseline mean_absolute_percentage_error  \\\n",
              "0        Train  15213      50.3977                                 0.252850   \n",
              "1       Eval 1   3787      59.2424                                 0.264187   \n",
              "\n",
              "   Enriched mean_absolute_percentage_error    Uplift  \n",
              "0                                 0.161732  0.091118  \n",
              "1                                 0.199200  0.064987  "
            ],
            "text/html": [
              "\n",
              "  <div id=\"df-0a9edb60-1cf0-49f6-ba2d-05c800d122ea\" class=\"colab-df-container\">\n",
              "    <div>\n",
              "<style scoped>\n",
              "    .dataframe tbody tr th:only-of-type {\n",
              "        vertical-align: middle;\n",
              "    }\n",
              "\n",
              "    .dataframe tbody tr th {\n",
              "        vertical-align: top;\n",
              "    }\n",
              "\n",
              "    .dataframe thead th {\n",
              "        text-align: right;\n",
              "    }\n",
              "</style>\n",
              "<table border=\"1\" class=\"dataframe\">\n",
              "  <thead>\n",
              "    <tr style=\"text-align: right;\">\n",
              "      <th></th>\n",
              "      <th>Dataset type</th>\n",
              "      <th>Rows</th>\n",
              "      <th>Mean target</th>\n",
              "      <th>Baseline mean_absolute_percentage_error</th>\n",
              "      <th>Enriched mean_absolute_percentage_error</th>\n",
              "      <th>Uplift</th>\n",
              "    </tr>\n",
              "  </thead>\n",
              "  <tbody>\n",
              "    <tr>\n",
              "      <th>0</th>\n",
              "      <td>Train</td>\n",
              "      <td>15213</td>\n",
              "      <td>50.3977</td>\n",
              "      <td>0.252850</td>\n",
              "      <td>0.161732</td>\n",
              "      <td>0.091118</td>\n",
              "    </tr>\n",
              "    <tr>\n",
              "      <th>1</th>\n",
              "      <td>Eval 1</td>\n",
              "      <td>3787</td>\n",
              "      <td>59.2424</td>\n",
              "      <td>0.264187</td>\n",
              "      <td>0.199200</td>\n",
              "      <td>0.064987</td>\n",
              "    </tr>\n",
              "  </tbody>\n",
              "</table>\n",
              "</div>\n",
              "    <div class=\"colab-df-buttons\">\n",
              "\n",
              "  <div class=\"colab-df-container\">\n",
              "    <button class=\"colab-df-convert\" onclick=\"convertToInteractive('df-0a9edb60-1cf0-49f6-ba2d-05c800d122ea')\"\n",
              "            title=\"Convert this dataframe to an interactive table.\"\n",
              "            style=\"display:none;\">\n",
              "\n",
              "  <svg xmlns=\"http://www.w3.org/2000/svg\" height=\"24px\" viewBox=\"0 -960 960 960\">\n",
              "    <path d=\"M120-120v-720h720v720H120Zm60-500h600v-160H180v160Zm220 220h160v-160H400v160Zm0 220h160v-160H400v160ZM180-400h160v-160H180v160Zm440 0h160v-160H620v160ZM180-180h160v-160H180v160Zm440 0h160v-160H620v160Z\"/>\n",
              "  </svg>\n",
              "    </button>\n",
              "\n",
              "  <style>\n",
              "    .colab-df-container {\n",
              "      display:flex;\n",
              "      gap: 12px;\n",
              "    }\n",
              "\n",
              "    .colab-df-convert {\n",
              "      background-color: #E8F0FE;\n",
              "      border: none;\n",
              "      border-radius: 50%;\n",
              "      cursor: pointer;\n",
              "      display: none;\n",
              "      fill: #1967D2;\n",
              "      height: 32px;\n",
              "      padding: 0 0 0 0;\n",
              "      width: 32px;\n",
              "    }\n",
              "\n",
              "    .colab-df-convert:hover {\n",
              "      background-color: #E2EBFA;\n",
              "      box-shadow: 0px 1px 2px rgba(60, 64, 67, 0.3), 0px 1px 3px 1px rgba(60, 64, 67, 0.15);\n",
              "      fill: #174EA6;\n",
              "    }\n",
              "\n",
              "    .colab-df-buttons div {\n",
              "      margin-bottom: 4px;\n",
              "    }\n",
              "\n",
              "    [theme=dark] .colab-df-convert {\n",
              "      background-color: #3B4455;\n",
              "      fill: #D2E3FC;\n",
              "    }\n",
              "\n",
              "    [theme=dark] .colab-df-convert:hover {\n",
              "      background-color: #434B5C;\n",
              "      box-shadow: 0px 1px 3px 1px rgba(0, 0, 0, 0.15);\n",
              "      filter: drop-shadow(0px 1px 2px rgba(0, 0, 0, 0.3));\n",
              "      fill: #FFFFFF;\n",
              "    }\n",
              "  </style>\n",
              "\n",
              "    <script>\n",
              "      const buttonEl =\n",
              "        document.querySelector('#df-0a9edb60-1cf0-49f6-ba2d-05c800d122ea button.colab-df-convert');\n",
              "      buttonEl.style.display =\n",
              "        google.colab.kernel.accessAllowed ? 'block' : 'none';\n",
              "\n",
              "      async function convertToInteractive(key) {\n",
              "        const element = document.querySelector('#df-0a9edb60-1cf0-49f6-ba2d-05c800d122ea');\n",
              "        const dataTable =\n",
              "          await google.colab.kernel.invokeFunction('convertToInteractive',\n",
              "                                                    [key], {});\n",
              "        if (!dataTable) return;\n",
              "\n",
              "        const docLinkHtml = 'Like what you see? Visit the ' +\n",
              "          '<a target=\"_blank\" href=https://colab.research.google.com/notebooks/data_table.ipynb>data table notebook</a>'\n",
              "          + ' to learn more about interactive tables.';\n",
              "        element.innerHTML = '';\n",
              "        dataTable['output_type'] = 'display_data';\n",
              "        await google.colab.output.renderOutput(dataTable, element);\n",
              "        const docLink = document.createElement('div');\n",
              "        docLink.innerHTML = docLinkHtml;\n",
              "        element.appendChild(docLink);\n",
              "      }\n",
              "    </script>\n",
              "  </div>\n",
              "\n",
              "\n",
              "<div id=\"df-a0368f6d-5b61-4547-bb89-45fd33f6b4a8\">\n",
              "  <button class=\"colab-df-quickchart\" onclick=\"quickchart('df-a0368f6d-5b61-4547-bb89-45fd33f6b4a8')\"\n",
              "            title=\"Suggest charts\"\n",
              "            style=\"display:none;\">\n",
              "\n",
              "<svg xmlns=\"http://www.w3.org/2000/svg\" height=\"24px\"viewBox=\"0 0 24 24\"\n",
              "     width=\"24px\">\n",
              "    <g>\n",
              "        <path d=\"M19 3H5c-1.1 0-2 .9-2 2v14c0 1.1.9 2 2 2h14c1.1 0 2-.9 2-2V5c0-1.1-.9-2-2-2zM9 17H7v-7h2v7zm4 0h-2V7h2v10zm4 0h-2v-4h2v4z\"/>\n",
              "    </g>\n",
              "</svg>\n",
              "  </button>\n",
              "\n",
              "<style>\n",
              "  .colab-df-quickchart {\n",
              "      --bg-color: #E8F0FE;\n",
              "      --fill-color: #1967D2;\n",
              "      --hover-bg-color: #E2EBFA;\n",
              "      --hover-fill-color: #174EA6;\n",
              "      --disabled-fill-color: #AAA;\n",
              "      --disabled-bg-color: #DDD;\n",
              "  }\n",
              "\n",
              "  [theme=dark] .colab-df-quickchart {\n",
              "      --bg-color: #3B4455;\n",
              "      --fill-color: #D2E3FC;\n",
              "      --hover-bg-color: #434B5C;\n",
              "      --hover-fill-color: #FFFFFF;\n",
              "      --disabled-bg-color: #3B4455;\n",
              "      --disabled-fill-color: #666;\n",
              "  }\n",
              "\n",
              "  .colab-df-quickchart {\n",
              "    background-color: var(--bg-color);\n",
              "    border: none;\n",
              "    border-radius: 50%;\n",
              "    cursor: pointer;\n",
              "    display: none;\n",
              "    fill: var(--fill-color);\n",
              "    height: 32px;\n",
              "    padding: 0;\n",
              "    width: 32px;\n",
              "  }\n",
              "\n",
              "  .colab-df-quickchart:hover {\n",
              "    background-color: var(--hover-bg-color);\n",
              "    box-shadow: 0 1px 2px rgba(60, 64, 67, 0.3), 0 1px 3px 1px rgba(60, 64, 67, 0.15);\n",
              "    fill: var(--button-hover-fill-color);\n",
              "  }\n",
              "\n",
              "  .colab-df-quickchart-complete:disabled,\n",
              "  .colab-df-quickchart-complete:disabled:hover {\n",
              "    background-color: var(--disabled-bg-color);\n",
              "    fill: var(--disabled-fill-color);\n",
              "    box-shadow: none;\n",
              "  }\n",
              "\n",
              "  .colab-df-spinner {\n",
              "    border: 2px solid var(--fill-color);\n",
              "    border-color: transparent;\n",
              "    border-bottom-color: var(--fill-color);\n",
              "    animation:\n",
              "      spin 1s steps(1) infinite;\n",
              "  }\n",
              "\n",
              "  @keyframes spin {\n",
              "    0% {\n",
              "      border-color: transparent;\n",
              "      border-bottom-color: var(--fill-color);\n",
              "      border-left-color: var(--fill-color);\n",
              "    }\n",
              "    20% {\n",
              "      border-color: transparent;\n",
              "      border-left-color: var(--fill-color);\n",
              "      border-top-color: var(--fill-color);\n",
              "    }\n",
              "    30% {\n",
              "      border-color: transparent;\n",
              "      border-left-color: var(--fill-color);\n",
              "      border-top-color: var(--fill-color);\n",
              "      border-right-color: var(--fill-color);\n",
              "    }\n",
              "    40% {\n",
              "      border-color: transparent;\n",
              "      border-right-color: var(--fill-color);\n",
              "      border-top-color: var(--fill-color);\n",
              "    }\n",
              "    60% {\n",
              "      border-color: transparent;\n",
              "      border-right-color: var(--fill-color);\n",
              "    }\n",
              "    80% {\n",
              "      border-color: transparent;\n",
              "      border-right-color: var(--fill-color);\n",
              "      border-bottom-color: var(--fill-color);\n",
              "    }\n",
              "    90% {\n",
              "      border-color: transparent;\n",
              "      border-bottom-color: var(--fill-color);\n",
              "    }\n",
              "  }\n",
              "</style>\n",
              "\n",
              "  <script>\n",
              "    async function quickchart(key) {\n",
              "      const quickchartButtonEl =\n",
              "        document.querySelector('#' + key + ' button');\n",
              "      quickchartButtonEl.disabled = true;  // To prevent multiple clicks.\n",
              "      quickchartButtonEl.classList.add('colab-df-spinner');\n",
              "      try {\n",
              "        const charts = await google.colab.kernel.invokeFunction(\n",
              "            'suggestCharts', [key], {});\n",
              "      } catch (error) {\n",
              "        console.error('Error during call to suggestCharts:', error);\n",
              "      }\n",
              "      quickchartButtonEl.classList.remove('colab-df-spinner');\n",
              "      quickchartButtonEl.classList.add('colab-df-quickchart-complete');\n",
              "    }\n",
              "    (() => {\n",
              "      let quickchartButtonEl =\n",
              "        document.querySelector('#df-a0368f6d-5b61-4547-bb89-45fd33f6b4a8 button');\n",
              "      quickchartButtonEl.style.display =\n",
              "        google.colab.kernel.accessAllowed ? 'block' : 'none';\n",
              "    })();\n",
              "  </script>\n",
              "</div>\n",
              "\n",
              "    </div>\n",
              "  </div>\n"
            ],
            "application/vnd.google.colaboratory.intrinsic+json": {
              "type": "dataframe",
              "summary": "{\n  \"name\": \")\",\n  \"rows\": 2,\n  \"fields\": [\n    {\n      \"column\": \"Dataset type\",\n      \"properties\": {\n        \"dtype\": \"string\",\n        \"num_unique_values\": 2,\n        \"samples\": [\n          \"Eval 1\",\n          \"Train\"\n        ],\n        \"semantic_type\": \"\",\n        \"description\": \"\"\n      }\n    },\n    {\n      \"column\": \"Rows\",\n      \"properties\": {\n        \"dtype\": \"number\",\n        \"std\": 8079,\n        \"min\": 3787,\n        \"max\": 15213,\n        \"num_unique_values\": 2,\n        \"samples\": [\n          3787,\n          15213\n        ],\n        \"semantic_type\": \"\",\n        \"description\": \"\"\n      }\n    },\n    {\n      \"column\": \"Mean target\",\n      \"properties\": {\n        \"dtype\": \"number\",\n        \"std\": 6.254147347560659,\n        \"min\": 50.3977,\n        \"max\": 59.2424,\n        \"num_unique_values\": 2,\n        \"samples\": [\n          59.2424,\n          50.3977\n        ],\n        \"semantic_type\": \"\",\n        \"description\": \"\"\n      }\n    },\n    {\n      \"column\": \"Baseline mean_absolute_percentage_error\",\n      \"properties\": {\n        \"dtype\": \"number\",\n        \"std\": 0.008016519567280823,\n        \"min\": 0.25284993510605497,\n        \"max\": 0.2641870058011328,\n        \"num_unique_values\": 2,\n        \"samples\": [\n          0.2641870058011328,\n          0.25284993510605497\n        ],\n        \"semantic_type\": \"\",\n        \"description\": \"\"\n      }\n    },\n    {\n      \"column\": \"Enriched mean_absolute_percentage_error\",\n      \"properties\": {\n        \"dtype\": \"number\",\n        \"std\": 0.026494229008327225,\n        \"min\": 0.16173175893856756,\n        \"max\": 0.1992002569267626,\n        \"num_unique_values\": 2,\n        \"samples\": [\n          0.1992002569267626,\n          0.16173175893856756\n        ],\n        \"semantic_type\": \"\",\n        \"description\": \"\"\n      }\n    },\n    {\n      \"column\": \"Uplift\",\n      \"properties\": {\n        \"dtype\": \"number\",\n        \"std\": 0.018477709441046406,\n        \"min\": 0.0649867488743702,\n        \"max\": 0.09111817616748741,\n        \"num_unique_values\": 2,\n        \"samples\": [\n          0.0649867488743702,\n          0.09111817616748741\n        ],\n        \"semantic_type\": \"\",\n        \"description\": \"\"\n      }\n    }\n  ]\n}"
            }
          },
          "metadata": {},
          "execution_count": 24
        }
      ]
    },
    {
      "cell_type": "code",
      "source": [],
      "metadata": {
        "id": "loS8GNWBb0CM"
      },
      "execution_count": null,
      "outputs": []
    },
    {
      "cell_type": "code",
      "source": [
        "enrichedTrainFeatures = enricher.transform(trainFeature,keep_input=True)\n",
        "enrichedTestFeatures = enricher.transform(testFeature,keep_input=True)\n",
        "enrichedTestFeatures.head()"
      ],
      "metadata": {
        "colab": {
          "base_uri": "https://localhost:8080/",
          "height": 676,
          "referenced_widgets": [
            "405767e9b0d94f0b85c541b7ebcfdfa7",
            "66a76c1fc4954020b185fcfdd465ee6e",
            "ef6883e969a640a5913fd86c79d40801"
          ]
        },
        "id": "IwMTrsZceF2V",
        "outputId": "67eae022-2ede-44e7-b9d8-57ba154c709a"
      },
      "execution_count": null,
      "outputs": [
        {
          "output_type": "display_data",
          "data": {
            "text/plain": [
              "[============================================================] 100% Finished"
            ],
            "text/html": [
              "<progress style='width:60ex' max='100' value='100'></progress>  100% Finished</br>"
            ]
          },
          "metadata": {}
        },
        {
          "output_type": "stream",
          "name": "stdout",
          "text": [
            "You are trying to launch enrichment for 15213 rows, which will exceed the rest limit 10000.\n"
          ]
        },
        {
          "output_type": "display_data",
          "data": {
            "text/plain": [
              "Button(button_style='danger', description='Request a quote', style=ButtonStyle())"
            ],
            "application/vnd.jupyter.widget-view+json": {
              "version_major": 2,
              "version_minor": 0,
              "model_id": "405767e9b0d94f0b85c541b7ebcfdfa7"
            }
          },
          "metadata": {}
        },
        {
          "output_type": "display_data",
          "data": {
            "text/plain": [
              "[============================================================] 100% Finished"
            ],
            "text/html": [
              "<progress style='width:60ex' max='100' value='100'></progress>  100% Finished</br>"
            ]
          },
          "metadata": {}
        },
        {
          "output_type": "stream",
          "name": "stdout",
          "text": [
            "You use Trial access to Upgini data enrichment. Limit for Trial: 10000 rows. You have already enriched: 0 rows.\n",
            "\n",
            "WARNING: Search started with DATE search key only\n",
            "Try to add other keys like the COUNTRY, POSTAL_CODE, PHONE NUMBER, EMAIL/HEM, IPv4 to your training dataset\n",
            "for search through all the available data sources.\n",
            "See docs https://github.com/upgini/upgini#-total-239-countries-and-up-to-41-years-of-history\n",
            "\n"
          ]
        },
        {
          "output_type": "display_data",
          "data": {
            "text/plain": [
              "<IPython.core.display.HTML object>"
            ],
            "text/html": [
              "<table><tr><th style='font-weight:bold'>Column name</th><th style='font-weight:bold'>Status</th><th style='font-weight:bold'>Errors</th></tr><tr><td>date</td><td style='background-color:#DAF7A6;color:black'>All valid</td><td>-</td></tr></table>"
            ]
          },
          "metadata": {}
        },
        {
          "output_type": "stream",
          "name": "stdout",
          "text": [
            "\n",
            "Running search request, search_id=c6c2677f-d371-485e-8e44-f4a9a7ac0772\n",
            "We'll send email notification once it's completed, just use your personal api_key from profile.upgini.com\n",
            "\n",
            "Retrieving selected features from data sources...\n"
          ]
        },
        {
          "output_type": "execute_result",
          "data": {
            "text/plain": [
              "             date store item  f_weather_date_weather_umap_34_c3ef5b4f  \\\n",
              "786641 2017-01-01     1   44                                 5.687399   \n",
              "445179 2017-01-01     4   25                                 5.687399   \n",
              "260753 2017-01-01     3   15                                 5.687399   \n",
              "910809 2017-01-01     9   50                                 5.687399   \n",
              "664299 2017-01-01     4   37                                 5.687399   \n",
              "\n",
              "        f_autofe_div_029f75a6  f_weather_date_weather_pca_0_d7e0a1fc  \\\n",
              "786641              -0.725878                              28.311105   \n",
              "445179              -0.725878                              28.311105   \n",
              "260753              -0.725878                              28.311105   \n",
              "910809              -0.725878                              28.311105   \n",
              "664299              -0.725878                              28.311105   \n",
              "\n",
              "        f_autofe_div_50507976  f_autofe_mul_6793ee4f  f_autofe_mul_34d11bc4  \\\n",
              "786641               0.061824               13.83249              15.700467   \n",
              "445179               0.061824               13.83249              15.700467   \n",
              "260753               0.061824               13.83249              15.700467   \n",
              "910809               0.061824               13.83249              15.700467   \n",
              "664299               0.061824               13.83249              15.700467   \n",
              "\n",
              "        f_autofe_div_1edd5009  ...  f_autofe_div_fb99ff57  \\\n",
              "786641               0.070172  ...             345.226007   \n",
              "445179               0.070172  ...             345.226007   \n",
              "260753               0.070172  ...             345.226007   \n",
              "910809               0.070172  ...             345.226007   \n",
              "664299               0.070172  ...             345.226007   \n",
              "\n",
              "        f_autofe_mul_c883f8a6  f_events_date_year_sin2_59955ffd  \\\n",
              "786641             389.279864                          0.337523   \n",
              "445179             389.279864                          0.337523   \n",
              "260753             389.279864                          0.337523   \n",
              "910809             389.279864                          0.337523   \n",
              "664299             389.279864                          0.337523   \n",
              "\n",
              "        f_autofe_mul_6a97c336  f_autofe_div_0016ede5  f_autofe_mul_44503c6f  \\\n",
              "786641               0.501997              37.448371               6.291706   \n",
              "445179               0.501997              37.448371               6.291706   \n",
              "260753               0.501997              37.448371               6.291706   \n",
              "910809               0.501997              37.448371               6.291706   \n",
              "664299               0.501997              37.448371               6.291706   \n",
              "\n",
              "        f_autofe_mul_8c2f1d42  f_autofe_mul_8437d645  f_autofe_mul_3e749d53  \\\n",
              "786641              -0.887653               63.83912               -0.97042   \n",
              "445179              -0.887653               63.83912               -0.97042   \n",
              "260753              -0.887653               63.83912               -0.97042   \n",
              "910809              -0.887653               63.83912               -0.97042   \n",
              "664299              -0.887653               63.83912               -0.97042   \n",
              "\n",
              "        f_autofe_div_ef42018c  \n",
              "786641               0.991476  \n",
              "445179               0.991476  \n",
              "260753               0.991476  \n",
              "910809               0.991476  \n",
              "664299               0.991476  \n",
              "\n",
              "[5 rows x 71 columns]"
            ],
            "text/html": [
              "\n",
              "  <div id=\"df-972b35e9-ef2e-49d0-b084-ade2c41dba50\" class=\"colab-df-container\">\n",
              "    <div>\n",
              "<style scoped>\n",
              "    .dataframe tbody tr th:only-of-type {\n",
              "        vertical-align: middle;\n",
              "    }\n",
              "\n",
              "    .dataframe tbody tr th {\n",
              "        vertical-align: top;\n",
              "    }\n",
              "\n",
              "    .dataframe thead th {\n",
              "        text-align: right;\n",
              "    }\n",
              "</style>\n",
              "<table border=\"1\" class=\"dataframe\">\n",
              "  <thead>\n",
              "    <tr style=\"text-align: right;\">\n",
              "      <th></th>\n",
              "      <th>date</th>\n",
              "      <th>store</th>\n",
              "      <th>item</th>\n",
              "      <th>f_weather_date_weather_umap_34_c3ef5b4f</th>\n",
              "      <th>f_autofe_div_029f75a6</th>\n",
              "      <th>f_weather_date_weather_pca_0_d7e0a1fc</th>\n",
              "      <th>f_autofe_div_50507976</th>\n",
              "      <th>f_autofe_mul_6793ee4f</th>\n",
              "      <th>f_autofe_mul_34d11bc4</th>\n",
              "      <th>f_autofe_div_1edd5009</th>\n",
              "      <th>...</th>\n",
              "      <th>f_autofe_div_fb99ff57</th>\n",
              "      <th>f_autofe_mul_c883f8a6</th>\n",
              "      <th>f_events_date_year_sin2_59955ffd</th>\n",
              "      <th>f_autofe_mul_6a97c336</th>\n",
              "      <th>f_autofe_div_0016ede5</th>\n",
              "      <th>f_autofe_mul_44503c6f</th>\n",
              "      <th>f_autofe_mul_8c2f1d42</th>\n",
              "      <th>f_autofe_mul_8437d645</th>\n",
              "      <th>f_autofe_mul_3e749d53</th>\n",
              "      <th>f_autofe_div_ef42018c</th>\n",
              "    </tr>\n",
              "  </thead>\n",
              "  <tbody>\n",
              "    <tr>\n",
              "      <th>786641</th>\n",
              "      <td>2017-01-01</td>\n",
              "      <td>1</td>\n",
              "      <td>44</td>\n",
              "      <td>5.687399</td>\n",
              "      <td>-0.725878</td>\n",
              "      <td>28.311105</td>\n",
              "      <td>0.061824</td>\n",
              "      <td>13.83249</td>\n",
              "      <td>15.700467</td>\n",
              "      <td>0.070172</td>\n",
              "      <td>...</td>\n",
              "      <td>345.226007</td>\n",
              "      <td>389.279864</td>\n",
              "      <td>0.337523</td>\n",
              "      <td>0.501997</td>\n",
              "      <td>37.448371</td>\n",
              "      <td>6.291706</td>\n",
              "      <td>-0.887653</td>\n",
              "      <td>63.83912</td>\n",
              "      <td>-0.97042</td>\n",
              "      <td>0.991476</td>\n",
              "    </tr>\n",
              "    <tr>\n",
              "      <th>445179</th>\n",
              "      <td>2017-01-01</td>\n",
              "      <td>4</td>\n",
              "      <td>25</td>\n",
              "      <td>5.687399</td>\n",
              "      <td>-0.725878</td>\n",
              "      <td>28.311105</td>\n",
              "      <td>0.061824</td>\n",
              "      <td>13.83249</td>\n",
              "      <td>15.700467</td>\n",
              "      <td>0.070172</td>\n",
              "      <td>...</td>\n",
              "      <td>345.226007</td>\n",
              "      <td>389.279864</td>\n",
              "      <td>0.337523</td>\n",
              "      <td>0.501997</td>\n",
              "      <td>37.448371</td>\n",
              "      <td>6.291706</td>\n",
              "      <td>-0.887653</td>\n",
              "      <td>63.83912</td>\n",
              "      <td>-0.97042</td>\n",
              "      <td>0.991476</td>\n",
              "    </tr>\n",
              "    <tr>\n",
              "      <th>260753</th>\n",
              "      <td>2017-01-01</td>\n",
              "      <td>3</td>\n",
              "      <td>15</td>\n",
              "      <td>5.687399</td>\n",
              "      <td>-0.725878</td>\n",
              "      <td>28.311105</td>\n",
              "      <td>0.061824</td>\n",
              "      <td>13.83249</td>\n",
              "      <td>15.700467</td>\n",
              "      <td>0.070172</td>\n",
              "      <td>...</td>\n",
              "      <td>345.226007</td>\n",
              "      <td>389.279864</td>\n",
              "      <td>0.337523</td>\n",
              "      <td>0.501997</td>\n",
              "      <td>37.448371</td>\n",
              "      <td>6.291706</td>\n",
              "      <td>-0.887653</td>\n",
              "      <td>63.83912</td>\n",
              "      <td>-0.97042</td>\n",
              "      <td>0.991476</td>\n",
              "    </tr>\n",
              "    <tr>\n",
              "      <th>910809</th>\n",
              "      <td>2017-01-01</td>\n",
              "      <td>9</td>\n",
              "      <td>50</td>\n",
              "      <td>5.687399</td>\n",
              "      <td>-0.725878</td>\n",
              "      <td>28.311105</td>\n",
              "      <td>0.061824</td>\n",
              "      <td>13.83249</td>\n",
              "      <td>15.700467</td>\n",
              "      <td>0.070172</td>\n",
              "      <td>...</td>\n",
              "      <td>345.226007</td>\n",
              "      <td>389.279864</td>\n",
              "      <td>0.337523</td>\n",
              "      <td>0.501997</td>\n",
              "      <td>37.448371</td>\n",
              "      <td>6.291706</td>\n",
              "      <td>-0.887653</td>\n",
              "      <td>63.83912</td>\n",
              "      <td>-0.97042</td>\n",
              "      <td>0.991476</td>\n",
              "    </tr>\n",
              "    <tr>\n",
              "      <th>664299</th>\n",
              "      <td>2017-01-01</td>\n",
              "      <td>4</td>\n",
              "      <td>37</td>\n",
              "      <td>5.687399</td>\n",
              "      <td>-0.725878</td>\n",
              "      <td>28.311105</td>\n",
              "      <td>0.061824</td>\n",
              "      <td>13.83249</td>\n",
              "      <td>15.700467</td>\n",
              "      <td>0.070172</td>\n",
              "      <td>...</td>\n",
              "      <td>345.226007</td>\n",
              "      <td>389.279864</td>\n",
              "      <td>0.337523</td>\n",
              "      <td>0.501997</td>\n",
              "      <td>37.448371</td>\n",
              "      <td>6.291706</td>\n",
              "      <td>-0.887653</td>\n",
              "      <td>63.83912</td>\n",
              "      <td>-0.97042</td>\n",
              "      <td>0.991476</td>\n",
              "    </tr>\n",
              "  </tbody>\n",
              "</table>\n",
              "<p>5 rows × 71 columns</p>\n",
              "</div>\n",
              "    <div class=\"colab-df-buttons\">\n",
              "\n",
              "  <div class=\"colab-df-container\">\n",
              "    <button class=\"colab-df-convert\" onclick=\"convertToInteractive('df-972b35e9-ef2e-49d0-b084-ade2c41dba50')\"\n",
              "            title=\"Convert this dataframe to an interactive table.\"\n",
              "            style=\"display:none;\">\n",
              "\n",
              "  <svg xmlns=\"http://www.w3.org/2000/svg\" height=\"24px\" viewBox=\"0 -960 960 960\">\n",
              "    <path d=\"M120-120v-720h720v720H120Zm60-500h600v-160H180v160Zm220 220h160v-160H400v160Zm0 220h160v-160H400v160ZM180-400h160v-160H180v160Zm440 0h160v-160H620v160ZM180-180h160v-160H180v160Zm440 0h160v-160H620v160Z\"/>\n",
              "  </svg>\n",
              "    </button>\n",
              "\n",
              "  <style>\n",
              "    .colab-df-container {\n",
              "      display:flex;\n",
              "      gap: 12px;\n",
              "    }\n",
              "\n",
              "    .colab-df-convert {\n",
              "      background-color: #E8F0FE;\n",
              "      border: none;\n",
              "      border-radius: 50%;\n",
              "      cursor: pointer;\n",
              "      display: none;\n",
              "      fill: #1967D2;\n",
              "      height: 32px;\n",
              "      padding: 0 0 0 0;\n",
              "      width: 32px;\n",
              "    }\n",
              "\n",
              "    .colab-df-convert:hover {\n",
              "      background-color: #E2EBFA;\n",
              "      box-shadow: 0px 1px 2px rgba(60, 64, 67, 0.3), 0px 1px 3px 1px rgba(60, 64, 67, 0.15);\n",
              "      fill: #174EA6;\n",
              "    }\n",
              "\n",
              "    .colab-df-buttons div {\n",
              "      margin-bottom: 4px;\n",
              "    }\n",
              "\n",
              "    [theme=dark] .colab-df-convert {\n",
              "      background-color: #3B4455;\n",
              "      fill: #D2E3FC;\n",
              "    }\n",
              "\n",
              "    [theme=dark] .colab-df-convert:hover {\n",
              "      background-color: #434B5C;\n",
              "      box-shadow: 0px 1px 3px 1px rgba(0, 0, 0, 0.15);\n",
              "      filter: drop-shadow(0px 1px 2px rgba(0, 0, 0, 0.3));\n",
              "      fill: #FFFFFF;\n",
              "    }\n",
              "  </style>\n",
              "\n",
              "    <script>\n",
              "      const buttonEl =\n",
              "        document.querySelector('#df-972b35e9-ef2e-49d0-b084-ade2c41dba50 button.colab-df-convert');\n",
              "      buttonEl.style.display =\n",
              "        google.colab.kernel.accessAllowed ? 'block' : 'none';\n",
              "\n",
              "      async function convertToInteractive(key) {\n",
              "        const element = document.querySelector('#df-972b35e9-ef2e-49d0-b084-ade2c41dba50');\n",
              "        const dataTable =\n",
              "          await google.colab.kernel.invokeFunction('convertToInteractive',\n",
              "                                                    [key], {});\n",
              "        if (!dataTable) return;\n",
              "\n",
              "        const docLinkHtml = 'Like what you see? Visit the ' +\n",
              "          '<a target=\"_blank\" href=https://colab.research.google.com/notebooks/data_table.ipynb>data table notebook</a>'\n",
              "          + ' to learn more about interactive tables.';\n",
              "        element.innerHTML = '';\n",
              "        dataTable['output_type'] = 'display_data';\n",
              "        await google.colab.output.renderOutput(dataTable, element);\n",
              "        const docLink = document.createElement('div');\n",
              "        docLink.innerHTML = docLinkHtml;\n",
              "        element.appendChild(docLink);\n",
              "      }\n",
              "    </script>\n",
              "  </div>\n",
              "\n",
              "\n",
              "<div id=\"df-ca200133-1d64-49d9-8748-b60977feb593\">\n",
              "  <button class=\"colab-df-quickchart\" onclick=\"quickchart('df-ca200133-1d64-49d9-8748-b60977feb593')\"\n",
              "            title=\"Suggest charts\"\n",
              "            style=\"display:none;\">\n",
              "\n",
              "<svg xmlns=\"http://www.w3.org/2000/svg\" height=\"24px\"viewBox=\"0 0 24 24\"\n",
              "     width=\"24px\">\n",
              "    <g>\n",
              "        <path d=\"M19 3H5c-1.1 0-2 .9-2 2v14c0 1.1.9 2 2 2h14c1.1 0 2-.9 2-2V5c0-1.1-.9-2-2-2zM9 17H7v-7h2v7zm4 0h-2V7h2v10zm4 0h-2v-4h2v4z\"/>\n",
              "    </g>\n",
              "</svg>\n",
              "  </button>\n",
              "\n",
              "<style>\n",
              "  .colab-df-quickchart {\n",
              "      --bg-color: #E8F0FE;\n",
              "      --fill-color: #1967D2;\n",
              "      --hover-bg-color: #E2EBFA;\n",
              "      --hover-fill-color: #174EA6;\n",
              "      --disabled-fill-color: #AAA;\n",
              "      --disabled-bg-color: #DDD;\n",
              "  }\n",
              "\n",
              "  [theme=dark] .colab-df-quickchart {\n",
              "      --bg-color: #3B4455;\n",
              "      --fill-color: #D2E3FC;\n",
              "      --hover-bg-color: #434B5C;\n",
              "      --hover-fill-color: #FFFFFF;\n",
              "      --disabled-bg-color: #3B4455;\n",
              "      --disabled-fill-color: #666;\n",
              "  }\n",
              "\n",
              "  .colab-df-quickchart {\n",
              "    background-color: var(--bg-color);\n",
              "    border: none;\n",
              "    border-radius: 50%;\n",
              "    cursor: pointer;\n",
              "    display: none;\n",
              "    fill: var(--fill-color);\n",
              "    height: 32px;\n",
              "    padding: 0;\n",
              "    width: 32px;\n",
              "  }\n",
              "\n",
              "  .colab-df-quickchart:hover {\n",
              "    background-color: var(--hover-bg-color);\n",
              "    box-shadow: 0 1px 2px rgba(60, 64, 67, 0.3), 0 1px 3px 1px rgba(60, 64, 67, 0.15);\n",
              "    fill: var(--button-hover-fill-color);\n",
              "  }\n",
              "\n",
              "  .colab-df-quickchart-complete:disabled,\n",
              "  .colab-df-quickchart-complete:disabled:hover {\n",
              "    background-color: var(--disabled-bg-color);\n",
              "    fill: var(--disabled-fill-color);\n",
              "    box-shadow: none;\n",
              "  }\n",
              "\n",
              "  .colab-df-spinner {\n",
              "    border: 2px solid var(--fill-color);\n",
              "    border-color: transparent;\n",
              "    border-bottom-color: var(--fill-color);\n",
              "    animation:\n",
              "      spin 1s steps(1) infinite;\n",
              "  }\n",
              "\n",
              "  @keyframes spin {\n",
              "    0% {\n",
              "      border-color: transparent;\n",
              "      border-bottom-color: var(--fill-color);\n",
              "      border-left-color: var(--fill-color);\n",
              "    }\n",
              "    20% {\n",
              "      border-color: transparent;\n",
              "      border-left-color: var(--fill-color);\n",
              "      border-top-color: var(--fill-color);\n",
              "    }\n",
              "    30% {\n",
              "      border-color: transparent;\n",
              "      border-left-color: var(--fill-color);\n",
              "      border-top-color: var(--fill-color);\n",
              "      border-right-color: var(--fill-color);\n",
              "    }\n",
              "    40% {\n",
              "      border-color: transparent;\n",
              "      border-right-color: var(--fill-color);\n",
              "      border-top-color: var(--fill-color);\n",
              "    }\n",
              "    60% {\n",
              "      border-color: transparent;\n",
              "      border-right-color: var(--fill-color);\n",
              "    }\n",
              "    80% {\n",
              "      border-color: transparent;\n",
              "      border-right-color: var(--fill-color);\n",
              "      border-bottom-color: var(--fill-color);\n",
              "    }\n",
              "    90% {\n",
              "      border-color: transparent;\n",
              "      border-bottom-color: var(--fill-color);\n",
              "    }\n",
              "  }\n",
              "</style>\n",
              "\n",
              "  <script>\n",
              "    async function quickchart(key) {\n",
              "      const quickchartButtonEl =\n",
              "        document.querySelector('#' + key + ' button');\n",
              "      quickchartButtonEl.disabled = true;  // To prevent multiple clicks.\n",
              "      quickchartButtonEl.classList.add('colab-df-spinner');\n",
              "      try {\n",
              "        const charts = await google.colab.kernel.invokeFunction(\n",
              "            'suggestCharts', [key], {});\n",
              "      } catch (error) {\n",
              "        console.error('Error during call to suggestCharts:', error);\n",
              "      }\n",
              "      quickchartButtonEl.classList.remove('colab-df-spinner');\n",
              "      quickchartButtonEl.classList.add('colab-df-quickchart-complete');\n",
              "    }\n",
              "    (() => {\n",
              "      let quickchartButtonEl =\n",
              "        document.querySelector('#df-ca200133-1d64-49d9-8748-b60977feb593 button');\n",
              "      quickchartButtonEl.style.display =\n",
              "        google.colab.kernel.accessAllowed ? 'block' : 'none';\n",
              "    })();\n",
              "  </script>\n",
              "</div>\n",
              "\n",
              "    </div>\n",
              "  </div>\n"
            ],
            "application/vnd.google.colaboratory.intrinsic+json": {
              "type": "dataframe",
              "variable_name": "enrichedTestFeatures"
            }
          },
          "metadata": {},
          "execution_count": 37
        }
      ]
    },
    {
      "cell_type": "code",
      "source": [],
      "metadata": {
        "id": "vQvZW26GkD3L"
      },
      "execution_count": null,
      "outputs": []
    },
    {
      "cell_type": "code",
      "source": [
        "model.fit(trainFeature, trainTarget)\n",
        "predictions = model.predict(testFeature)\n",
        "eval_metric(testTarget.values,predictions,\"SMAPE\")\n",
        "\n"
      ],
      "metadata": {
        "colab": {
          "base_uri": "https://localhost:8080/"
        },
        "id": "WtLSfIVJdeth",
        "outputId": "f2579380-879d-4677-8804-355c53687a69"
      },
      "execution_count": null,
      "outputs": [
        {
          "output_type": "execute_result",
          "data": {
            "text/plain": [
              "[37.65141857448004]"
            ]
          },
          "metadata": {},
          "execution_count": 38
        }
      ]
    },
    {
      "cell_type": "code",
      "source": [
        "model.fit(enrichedTrainFeatures, trainTarget)\n",
        "Enrichedpredictions = model.predict(enrichedTestFeatures)\n",
        "eval_metric(testTarget.values, Enrichedpredictions, \"SMAPE\")\n",
        "print(smape_score)\n"
      ],
      "metadata": {
        "colab": {
          "base_uri": "https://localhost:8080/",
          "height": 373
        },
        "id": "5jIuSJh8e7xa",
        "outputId": "31a20154-7939-4252-ea80-d8c2e39c5b3e"
      },
      "execution_count": null,
      "outputs": [
        {
          "output_type": "error",
          "ename": "CatBoostError",
          "evalue": "X must not be None",
          "traceback": [
            "\u001b[0;31m---------------------------------------------------------------------------\u001b[0m",
            "\u001b[0;31mCatBoostError\u001b[0m                             Traceback (most recent call last)",
            "\u001b[0;32m<ipython-input-43-7a20219e687c>\u001b[0m in \u001b[0;36m<cell line: 1>\u001b[0;34m()\u001b[0m\n\u001b[0;32m----> 1\u001b[0;31m \u001b[0mmodel\u001b[0m\u001b[0;34m.\u001b[0m\u001b[0mfit\u001b[0m\u001b[0;34m(\u001b[0m\u001b[0menrichedTrainFeatures\u001b[0m\u001b[0;34m,\u001b[0m \u001b[0mtrainTarget\u001b[0m\u001b[0;34m)\u001b[0m\u001b[0;34m\u001b[0m\u001b[0;34m\u001b[0m\u001b[0m\n\u001b[0m\u001b[1;32m      2\u001b[0m \u001b[0mEnrichedpredictions\u001b[0m \u001b[0;34m=\u001b[0m \u001b[0mmodel\u001b[0m\u001b[0;34m.\u001b[0m\u001b[0mpredict\u001b[0m\u001b[0;34m(\u001b[0m\u001b[0menrichedTestFeatures\u001b[0m\u001b[0;34m)\u001b[0m\u001b[0;34m\u001b[0m\u001b[0;34m\u001b[0m\u001b[0m\n\u001b[1;32m      3\u001b[0m \u001b[0meval_metric\u001b[0m\u001b[0;34m(\u001b[0m\u001b[0mtestTarget\u001b[0m\u001b[0;34m.\u001b[0m\u001b[0mvalues\u001b[0m\u001b[0;34m,\u001b[0m \u001b[0mEnrichedpredictions\u001b[0m\u001b[0;34m,\u001b[0m \u001b[0;34m\"SMAPE\"\u001b[0m\u001b[0;34m)\u001b[0m\u001b[0;34m\u001b[0m\u001b[0;34m\u001b[0m\u001b[0m\n\u001b[1;32m      4\u001b[0m \u001b[0mprint\u001b[0m\u001b[0;34m(\u001b[0m\u001b[0msmape_score\u001b[0m\u001b[0;34m)\u001b[0m\u001b[0;34m\u001b[0m\u001b[0;34m\u001b[0m\u001b[0m\n",
            "\u001b[0;32m/usr/local/lib/python3.10/dist-packages/catboost/core.py\u001b[0m in \u001b[0;36mfit\u001b[0;34m(self, X, y, cat_features, text_features, embedding_features, sample_weight, baseline, use_best_model, eval_set, verbose, logging_level, plot, plot_file, column_description, verbose_eval, metric_period, silent, early_stopping_rounds, save_snapshot, snapshot_file, snapshot_interval, init_model, callbacks, log_cout, log_cerr)\u001b[0m\n\u001b[1;32m   5805\u001b[0m             \u001b[0mCatBoostRegressor\u001b[0m\u001b[0;34m.\u001b[0m\u001b[0m_check_is_compatible_loss\u001b[0m\u001b[0;34m(\u001b[0m\u001b[0mparams\u001b[0m\u001b[0;34m[\u001b[0m\u001b[0;34m'loss_function'\u001b[0m\u001b[0;34m]\u001b[0m\u001b[0;34m)\u001b[0m\u001b[0;34m\u001b[0m\u001b[0;34m\u001b[0m\u001b[0m\n\u001b[1;32m   5806\u001b[0m \u001b[0;34m\u001b[0m\u001b[0m\n\u001b[0;32m-> 5807\u001b[0;31m         return self._fit(X, y, cat_features, text_features, embedding_features, None, sample_weight, None, None, None, None, baseline,\n\u001b[0m\u001b[1;32m   5808\u001b[0m                          \u001b[0muse_best_model\u001b[0m\u001b[0;34m,\u001b[0m \u001b[0meval_set\u001b[0m\u001b[0;34m,\u001b[0m \u001b[0mverbose\u001b[0m\u001b[0;34m,\u001b[0m \u001b[0mlogging_level\u001b[0m\u001b[0;34m,\u001b[0m \u001b[0mplot\u001b[0m\u001b[0;34m,\u001b[0m \u001b[0mplot_file\u001b[0m\u001b[0;34m,\u001b[0m \u001b[0mcolumn_description\u001b[0m\u001b[0;34m,\u001b[0m\u001b[0;34m\u001b[0m\u001b[0;34m\u001b[0m\u001b[0m\n\u001b[1;32m   5809\u001b[0m                          \u001b[0mverbose_eval\u001b[0m\u001b[0;34m,\u001b[0m \u001b[0mmetric_period\u001b[0m\u001b[0;34m,\u001b[0m \u001b[0msilent\u001b[0m\u001b[0;34m,\u001b[0m \u001b[0mearly_stopping_rounds\u001b[0m\u001b[0;34m,\u001b[0m\u001b[0;34m\u001b[0m\u001b[0;34m\u001b[0m\u001b[0m\n",
            "\u001b[0;32m/usr/local/lib/python3.10/dist-packages/catboost/core.py\u001b[0m in \u001b[0;36m_fit\u001b[0;34m(self, X, y, cat_features, text_features, embedding_features, pairs, sample_weight, group_id, group_weight, subgroup_id, pairs_weight, baseline, use_best_model, eval_set, verbose, logging_level, plot, plot_file, column_description, verbose_eval, metric_period, silent, early_stopping_rounds, save_snapshot, snapshot_file, snapshot_interval, init_model, callbacks, log_cout, log_cerr)\u001b[0m\n\u001b[1;32m   2374\u001b[0m         \u001b[0;32mwith\u001b[0m \u001b[0mlog_fixup\u001b[0m\u001b[0;34m(\u001b[0m\u001b[0mlog_cout\u001b[0m\u001b[0;34m,\u001b[0m \u001b[0mlog_cerr\u001b[0m\u001b[0;34m)\u001b[0m\u001b[0;34m:\u001b[0m\u001b[0;34m\u001b[0m\u001b[0;34m\u001b[0m\u001b[0m\n\u001b[1;32m   2375\u001b[0m             \u001b[0;32mif\u001b[0m \u001b[0mX\u001b[0m \u001b[0;32mis\u001b[0m \u001b[0;32mNone\u001b[0m\u001b[0;34m:\u001b[0m\u001b[0;34m\u001b[0m\u001b[0;34m\u001b[0m\u001b[0m\n\u001b[0;32m-> 2376\u001b[0;31m                 \u001b[0;32mraise\u001b[0m \u001b[0mCatBoostError\u001b[0m\u001b[0;34m(\u001b[0m\u001b[0;34m\"X must not be None\"\u001b[0m\u001b[0;34m)\u001b[0m\u001b[0;34m\u001b[0m\u001b[0;34m\u001b[0m\u001b[0m\n\u001b[0m\u001b[1;32m   2377\u001b[0m \u001b[0;34m\u001b[0m\u001b[0m\n\u001b[1;32m   2378\u001b[0m             \u001b[0;32mif\u001b[0m \u001b[0my\u001b[0m \u001b[0;32mis\u001b[0m \u001b[0;32mNone\u001b[0m \u001b[0;32mand\u001b[0m \u001b[0;32mnot\u001b[0m \u001b[0misinstance\u001b[0m\u001b[0;34m(\u001b[0m\u001b[0mX\u001b[0m\u001b[0;34m,\u001b[0m \u001b[0mPATH_TYPES\u001b[0m \u001b[0;34m+\u001b[0m \u001b[0;34m(\u001b[0m\u001b[0mPool\u001b[0m\u001b[0;34m,\u001b[0m\u001b[0;34m)\u001b[0m\u001b[0;34m)\u001b[0m\u001b[0;34m:\u001b[0m\u001b[0;34m\u001b[0m\u001b[0;34m\u001b[0m\u001b[0m\n",
            "\u001b[0;31mCatBoostError\u001b[0m: X must not be None"
          ]
        }
      ]
    }
  ]
}